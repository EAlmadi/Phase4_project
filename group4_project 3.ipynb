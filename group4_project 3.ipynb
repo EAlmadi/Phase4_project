{
 "cells": [
  {
   "cell_type": "markdown",
   "id": "957c997d-9245-4450-900d-32e58f2a83b1",
   "metadata": {},
   "source": [
    "# Twitter Sentiment Analysis\n",
    "\n",
    "---\n",
    "\n",
    "## 1. Business Understanding\n",
    "\n",
    "### 1.1 Overview\n",
    "\n",
    "In the modern digital era, social media platforms like Twitter (now X) have become powerful channels for consumers to express opinions, experiences, and emotions about brands, products, and services. These views can significantly influence purchasing decisions, brand reputation, and marketing strategies.\n",
    "\n",
    "Manually tracking and interpreting this vast, unstructured feedback is impractical for companies. As a result, organizations increasingly turn to **Natural Language Processing (NLP)** and **machine learning models** to automatically analyze and interpret tweet sentiments.\n",
    "\n",
    "![NLP Diagram](nlp.image.png)\n",
    "*Figure 1: Illustration of how Natural Language Processing (NLP) processes and classifies text to produce outputs.*\n",
    "\n",
    "---\n",
    "\n",
    "### 1.2 Business Problem\n",
    "\n",
    "Businesses need to understand **how customers feel** about their products and brands in real time. However, the sheer volume and unstructured nature of tweets make manual analysis impossible.\n",
    "\n",
    "The core challenge is to **automatically classify each tweet** as **positive**, **negative**, or **neutral**. This provides actionable insights to:\n",
    "\n",
    "- Identify emerging trends in customer satisfaction or dissatisfaction.\n",
    "- Track public reactions to product launches or campaigns.\n",
    "- Inform data-driven marketing and customer engagement decisions.\n",
    "\n",
    "---\n",
    "\n",
    "### 1.3 Project Objective\n",
    "\n",
    "**Main Objective:**  \n",
    "To **develop an automated sentiment classification model** that accurately analyzes and categorizes sentiments expressed in posts on **X (formerly Twitter)** as **positive, negative, or neutral**, enabling real-time insights into customer perceptions of a brand to support **data-driven marketing** and **brand management decisions**.\n",
    "\n",
    "**Specific Objectives:**  \n",
    "\n",
    "1. **Build a Binary Classification Model:**  \n",
    "   Develop and train a machine learning model to accurately distinguish between **positive** and **negative** sentiments in X posts.  \n",
    "\n",
    "2. **Extend to Multiclass Classification:**  \n",
    "   Enhance the model to classify posts into **three categories**:  \n",
    "   - No emotion toward brand or product (Neutral)\n",
    "   - Positive emotion  \n",
    "   - Negative emotion  \n",
    "   This should be done **while maintaining or improving overall classification performance**.\n",
    "\n",
    "3. **Support Business Decision-Making:**  \n",
    "   Deliver **interpretable sentiment insights** to marketing teams and brand managers to:  \n",
    "   - Optimize campaigns  \n",
    "   - Address customer concerns  \n",
    "   - Enhance brand reputation  \n",
    "\n",
    "---\n",
    "\n",
    "### 1.4 Business Value\n",
    "\n",
    "An accurate sentiment analysis system delivers substantial value to decision-makers by enabling:\n",
    "\n",
    "- **Brand Monitoring**: Track customer feelings about the brand over time.  \n",
    "- **Marketing Optimization**: Pinpoint campaigns that drive positive engagement or negative feedback.  \n",
    "- **Customer Insights**: Uncover pain points or drivers of satisfaction.  \n",
    "- **Faster Decision-Making**: Provide near real-time feedback analysis.  \n",
    "\n",
    "---\n",
    "\n",
    "### 1.5 Research Questions\n",
    "\n",
    "1. **How do customers feel about the company’s products or services**, based on sentiments expressed on Twitter?  \n",
    "2. **What key factors or topics drive positive and negative sentiments** toward the brand on Twitter?  \n",
    "3. **How can Twitter sentiment insights support business decisions**, such as marketing strategies, customer engagement, and brand reputation management?\n",
    "\n",
    "---\n",
    "\n",
    "### 1.6 Success Criteria\n",
    "\n",
    "The project's success will be measured by:\n",
    "\n",
    "1. **Actionable Insights**: The system delivers meaningful customer opinion trends on Twitter, supporting data-driven decisions.  \n",
    "2. **Brand Reputation Tracking**: Enables real-time monitoring of public sentiment, allowing timely responses to issues.  \n",
    "3. **Marketing and Engagement Impact**: Insights improve strategies, engagement, and brand perception based on identified trends.\n"
   ]
  },
  {
   "cell_type": "markdown",
   "id": "f69b67f2-db6a-4579-9cb9-a2b57d552316",
   "metadata": {},
   "source": [
    "___\n",
    "## 2. Data Understanding  \n",
    "\n",
    "### 2.1 Overview  \n",
    "The dataset used in this project is the **Brands and Products Emotions** dataset, obtained from **data.world** ([source link](https://data.world/crowdflower/brands-and-product-emotions)). It contains tweets evaluated for emotional content directed toward various products and brands.  \n",
    "\n",
    "**Dataset characteristics:**  \n",
    "- **Rows:** 9,093  \n",
    "- **Columns:** 3  \n",
    "- **Target variable:** `is_there_an_emotion_directed_at_a_brand_or_product`  \n",
    "- **Feature variables:**  \n",
    "  - `emotion_in_tweet_is_directed_at` – indicates the brand or product the emotion is directed toward  \n",
    "  - `tweet_text` – contains the actual text of the tweet  \n",
    "\n",
    "---\n",
    "\n",
    "### 2.2 Target Variable Distribution  \n",
    "**Observations:**  \n",
    "- A significant portion of tweets **do not express a clear sentiment** toward a brand or product.  \n",
    "- The dataset is **imbalanced**, with some emotion categories (e.g., negative) being underrepresented.  \n",
    "- Tweets labeled **“I can’t tell”** are ambiguous and may be excluded during data cleaning.  \n",
    "- Depending on the modeling goal, this can be framed as either:  \n",
    "  - **Binary classification:** Positive vs. Negative  \n",
    "  - **Multiclass classification:** Positive, Negative, Neutral, etc.  \n",
    "\n",
    "---\n",
    "\n",
    "### 2.3 Brand / Product Distribution  \n",
    "Tweets in the dataset reference multiple brands and their associated products, such as:  \n",
    "- **Apple:** iPhone, iPad, iPad or iPhone App, Other Apple product or service  \n",
    "- **Google:** Google, Android, Android App, Other Google product or service  \n",
    "\n",
    "**Observations:**  \n",
    "- Multiple product names represent the same brand (e.g., iPhone and iPad → Apple).  \n",
    "- Apple and Google dominate the dataset, making them suitable for comparative analysis.  \n",
    "- Smaller product categories may be aggregated under their parent brands for consistency during preprocessing.  \n",
    "\n",
    "---\n",
    "\n",
    "### 2.4 Text Characteristics  \n",
    "- Tweet lengths range from very short to long, reflecting natural user variability.  \n",
    "- Texts contain **noisy elements** such as:  \n",
    "  - Mentions (`@username`)  \n",
    "  - Hashtags (`#keyword`)  \n",
    "  - URLs, emojis, and punctuation  \n",
    "- These artifacts require **text preprocessing** steps such as removal of special characters, tokenization, and lemmatization before modeling.  \n",
    "\n",
    "---\n",
    "\n",
    "### 2.5 Key Insights  \n",
    "1. The dataset is sufficiently large for building a sentiment classification model.  \n",
    "2. **Imbalanced sentiment distribution** warrants use of metrics like **F1-score** or **ROC-AUC** instead of accuracy alone.  \n",
    "3. Text cleaning and normalization are crucial due to noise, abbreviations, and inconsistent brand mentions.  \n"
   ]
  },
  {
   "cell_type": "code",
   "execution_count": 3,
   "id": "8b0c220f-239b-43a8-bdbd-f86f444d8031",
   "metadata": {},
   "outputs": [
    {
     "data": {
      "text/html": [
       "<div>\n",
       "<style scoped>\n",
       "    .dataframe tbody tr th:only-of-type {\n",
       "        vertical-align: middle;\n",
       "    }\n",
       "\n",
       "    .dataframe tbody tr th {\n",
       "        vertical-align: top;\n",
       "    }\n",
       "\n",
       "    .dataframe thead th {\n",
       "        text-align: right;\n",
       "    }\n",
       "</style>\n",
       "<table border=\"1\" class=\"dataframe\">\n",
       "  <thead>\n",
       "    <tr style=\"text-align: right;\">\n",
       "      <th></th>\n",
       "      <th>tweet_text</th>\n",
       "      <th>emotion_in_tweet_is_directed_at</th>\n",
       "      <th>is_there_an_emotion_directed_at_a_brand_or_product</th>\n",
       "    </tr>\n",
       "  </thead>\n",
       "  <tbody>\n",
       "    <tr>\n",
       "      <th>0</th>\n",
       "      <td>.@wesley83 I have a 3G iPhone. After 3 hrs twe...</td>\n",
       "      <td>iPhone</td>\n",
       "      <td>Negative emotion</td>\n",
       "    </tr>\n",
       "    <tr>\n",
       "      <th>1</th>\n",
       "      <td>@jessedee Know about @fludapp ? Awesome iPad/i...</td>\n",
       "      <td>iPad or iPhone App</td>\n",
       "      <td>Positive emotion</td>\n",
       "    </tr>\n",
       "    <tr>\n",
       "      <th>2</th>\n",
       "      <td>@swonderlin Can not wait for #iPad 2 also. The...</td>\n",
       "      <td>iPad</td>\n",
       "      <td>Positive emotion</td>\n",
       "    </tr>\n",
       "    <tr>\n",
       "      <th>3</th>\n",
       "      <td>@sxsw I hope this year's festival isn't as cra...</td>\n",
       "      <td>iPad or iPhone App</td>\n",
       "      <td>Negative emotion</td>\n",
       "    </tr>\n",
       "    <tr>\n",
       "      <th>4</th>\n",
       "      <td>@sxtxstate great stuff on Fri #SXSW: Marissa M...</td>\n",
       "      <td>Google</td>\n",
       "      <td>Positive emotion</td>\n",
       "    </tr>\n",
       "    <tr>\n",
       "      <th>5</th>\n",
       "      <td>@teachntech00 New iPad Apps For #SpeechTherapy...</td>\n",
       "      <td>NaN</td>\n",
       "      <td>No emotion toward brand or product</td>\n",
       "    </tr>\n",
       "    <tr>\n",
       "      <th>6</th>\n",
       "      <td>NaN</td>\n",
       "      <td>NaN</td>\n",
       "      <td>No emotion toward brand or product</td>\n",
       "    </tr>\n",
       "  </tbody>\n",
       "</table>\n",
       "</div>"
      ],
      "text/plain": [
       "                                          tweet_text  \\\n",
       "0  .@wesley83 I have a 3G iPhone. After 3 hrs twe...   \n",
       "1  @jessedee Know about @fludapp ? Awesome iPad/i...   \n",
       "2  @swonderlin Can not wait for #iPad 2 also. The...   \n",
       "3  @sxsw I hope this year's festival isn't as cra...   \n",
       "4  @sxtxstate great stuff on Fri #SXSW: Marissa M...   \n",
       "5  @teachntech00 New iPad Apps For #SpeechTherapy...   \n",
       "6                                                NaN   \n",
       "\n",
       "  emotion_in_tweet_is_directed_at  \\\n",
       "0                          iPhone   \n",
       "1              iPad or iPhone App   \n",
       "2                            iPad   \n",
       "3              iPad or iPhone App   \n",
       "4                          Google   \n",
       "5                             NaN   \n",
       "6                             NaN   \n",
       "\n",
       "  is_there_an_emotion_directed_at_a_brand_or_product  \n",
       "0                                   Negative emotion  \n",
       "1                                   Positive emotion  \n",
       "2                                   Positive emotion  \n",
       "3                                   Negative emotion  \n",
       "4                                   Positive emotion  \n",
       "5                 No emotion toward brand or product  \n",
       "6                 No emotion toward brand or product  "
      ]
     },
     "execution_count": 3,
     "metadata": {},
     "output_type": "execute_result"
    }
   ],
   "source": [
    "# Load the data\n",
    "import pandas as pd\n",
    "df = pd.read_csv(\"judge-1377884607_tweet_product_company.csv\", encoding=\"ISO-8859-1\")\n",
    "df.head(7)"
   ]
  },
  {
   "cell_type": "code",
   "execution_count": 7,
   "id": "69d27f00-10f3-4a04-a3eb-f6d6255e5537",
   "metadata": {},
   "outputs": [
    {
     "name": "stdout",
     "output_type": "stream",
     "text": [
      "<class 'pandas.core.frame.DataFrame'>\n",
      "RangeIndex: 9093 entries, 0 to 9092\n",
      "Data columns (total 3 columns):\n",
      " #   Column                                              Non-Null Count  Dtype \n",
      "---  ------                                              --------------  ----- \n",
      " 0   tweet_text                                          9092 non-null   object\n",
      " 1   emotion_in_tweet_is_directed_at                     3291 non-null   object\n",
      " 2   is_there_an_emotion_directed_at_a_brand_or_product  9093 non-null   object\n",
      "dtypes: object(3)\n",
      "memory usage: 213.2+ KB\n"
     ]
    }
   ],
   "source": [
    "# basic information about the dataset\n",
    "df.info()"
   ]
  },
  {
   "cell_type": "code",
   "execution_count": 8,
   "id": "9191d349-d9ff-4aad-a12b-8cf8a1fcbba1",
   "metadata": {},
   "outputs": [
    {
     "data": {
      "text/plain": [
       "(9093, 3)"
      ]
     },
     "execution_count": 8,
     "metadata": {},
     "output_type": "execute_result"
    }
   ],
   "source": [
    "# check the shape of dataset\n",
    "df.shape"
   ]
  },
  {
   "cell_type": "code",
   "execution_count": 9,
   "id": "5573219e-8a7d-4643-8fb9-16d2317a643b",
   "metadata": {},
   "outputs": [
    {
     "data": {
      "text/plain": [
       "tweet_text                                               1\n",
       "emotion_in_tweet_is_directed_at                       5802\n",
       "is_there_an_emotion_directed_at_a_brand_or_product       0\n",
       "dtype: int64"
      ]
     },
     "execution_count": 9,
     "metadata": {},
     "output_type": "execute_result"
    }
   ],
   "source": [
    "# check for nall values\n",
    "df.isna().sum()"
   ]
  },
  {
   "cell_type": "code",
   "execution_count": 10,
   "id": "a4bab5a8-076a-4fda-970f-6fe4d7ddde20",
   "metadata": {},
   "outputs": [
    {
     "data": {
      "text/plain": [
       "emotion_in_tweet_is_directed_at\n",
       "iPad                               946\n",
       "Apple                              661\n",
       "iPad or iPhone App                 470\n",
       "Google                             430\n",
       "iPhone                             297\n",
       "Other Google product or service    293\n",
       "Android App                         81\n",
       "Android                             78\n",
       "Other Apple product or service      35\n",
       "Name: count, dtype: int64"
      ]
     },
     "execution_count": 10,
     "metadata": {},
     "output_type": "execute_result"
    }
   ],
   "source": [
    "# check the unique values in \"emotion_in_tweet_is_directed_at\" column\n",
    "df[\"emotion_in_tweet_is_directed_at\"].value_counts()"
   ]
  },
  {
   "cell_type": "code",
   "execution_count": 11,
   "id": "2455b33c-5e85-45fe-ad8d-5dcd6dbbe2ed",
   "metadata": {},
   "outputs": [
    {
     "data": {
      "text/plain": [
       "is_there_an_emotion_directed_at_a_brand_or_product\n",
       "No emotion toward brand or product    5389\n",
       "Positive emotion                      2978\n",
       "Negative emotion                       570\n",
       "I can't tell                           156\n",
       "Name: count, dtype: int64"
      ]
     },
     "execution_count": 11,
     "metadata": {},
     "output_type": "execute_result"
    }
   ],
   "source": [
    "# check the unique values in \"is_there_an_emotion_directed_at_a_brand_or_product\" column\n",
    "df[\"is_there_an_emotion_directed_at_a_brand_or_product\"].value_counts()"
   ]
  },
  {
   "cell_type": "code",
   "execution_count": 12,
   "id": "5a757a0c-9fc5-4a2f-8bd4-3884dda6d831",
   "metadata": {},
   "outputs": [
    {
     "data": {
      "text/plain": [
       "tweet_text                                               1\n",
       "emotion_in_tweet_is_directed_at                       5802\n",
       "is_there_an_emotion_directed_at_a_brand_or_product       0\n",
       "dtype: int64"
      ]
     },
     "execution_count": 12,
     "metadata": {},
     "output_type": "execute_result"
    }
   ],
   "source": [
    "# confirm that there are no NaNs\n",
    "df.isna().sum()"
   ]
  },
  {
   "cell_type": "code",
   "execution_count": 13,
   "id": "55b78583-518c-4216-9374-6aef90baf6c9",
   "metadata": {},
   "outputs": [
    {
     "data": {
      "text/plain": [
       "22"
      ]
     },
     "execution_count": 13,
     "metadata": {},
     "output_type": "execute_result"
    }
   ],
   "source": [
    "# check for duplicates\n",
    "df.duplicated().sum()"
   ]
  },
  {
   "cell_type": "markdown",
   "id": "dece33c1-9c74-4692-8b00-5aed808fe28f",
   "metadata": {},
   "source": [
    "## 3. Data Preparation  \n",
    "\n",
    "### 3.1 Overview  \n",
    "This phase involves cleaning, transforming, and organizing the raw dataset into a form suitable for analysis and model training. Since the dataset contains raw tweets, several preprocessing steps are necessary to handle noise, inconsistencies, and irrelevant information.  \n",
    "\n",
    "---\n"
   ]
  },
  {
   "cell_type": "markdown",
   "id": "b74e0382-779f-41cb-9b77-33dbe29c93ce",
   "metadata": {},
   "source": [
    "### 3.2 Handling missing values and Duplicates\n",
    "Drop columns with more than 50% missing values and drop the duplicates."
   ]
  },
  {
   "cell_type": "code",
   "execution_count": 14,
   "id": "8fc0163a-4d84-453b-8e47-8858a9099f44",
   "metadata": {},
   "outputs": [
    {
     "data": {
      "text/plain": [
       "0"
      ]
     },
     "execution_count": 14,
     "metadata": {},
     "output_type": "execute_result"
    }
   ],
   "source": [
    "#dropping the duplicates\n",
    "df.drop_duplicates(inplace=True)\n",
    "#confirming that indeed they are dropped\n",
    "df.duplicated().sum()"
   ]
  },
  {
   "cell_type": "code",
   "execution_count": 15,
   "id": "d30742aa-936f-4c4f-a3f7-2f3aae7880d8",
   "metadata": {},
   "outputs": [
    {
     "data": {
      "text/plain": [
       "emotion_in_tweet_is_directed_at    63.818763\n",
       "dtype: float64"
      ]
     },
     "execution_count": 15,
     "metadata": {},
     "output_type": "execute_result"
    }
   ],
   "source": [
    "#Calculate the percentage of missing values in each column\n",
    "missing_percentage = df.isnull().mean() * 100\n",
    "\n",
    "# Filter columns with more than 50% missing values\n",
    "missing_greater_than_50 = missing_percentage[missing_percentage > 50]\n",
    "\n",
    "# Display them\n",
    "missing_greater_than_50"
   ]
  },
  {
   "cell_type": "code",
   "execution_count": 16,
   "id": "5c70aac2-a5bb-4b67-b60b-8f74a9a6f450",
   "metadata": {},
   "outputs": [
    {
     "name": "stdout",
     "output_type": "stream",
     "text": [
      "<class 'pandas.core.frame.DataFrame'>\n",
      "Index: 9071 entries, 0 to 9092\n",
      "Data columns (total 2 columns):\n",
      " #   Column                                              Non-Null Count  Dtype \n",
      "---  ------                                              --------------  ----- \n",
      " 0   tweet_text                                          9070 non-null   object\n",
      " 1   is_there_an_emotion_directed_at_a_brand_or_product  9071 non-null   object\n",
      "dtypes: object(2)\n",
      "memory usage: 212.6+ KB\n"
     ]
    }
   ],
   "source": [
    "#dropping the 'emotion_in_tweet_is_directed_at ' column\n",
    "df=df.drop(columns=['emotion_in_tweet_is_directed_at'])\n",
    "df.info()"
   ]
  },
  {
   "cell_type": "code",
   "execution_count": 17,
   "id": "bbbe0512-6def-4a92-9def-a4913f80922a",
   "metadata": {},
   "outputs": [
    {
     "data": {
      "text/plain": [
       "tweet_text                                            1\n",
       "is_there_an_emotion_directed_at_a_brand_or_product    0\n",
       "dtype: int64"
      ]
     },
     "execution_count": 17,
     "metadata": {},
     "output_type": "execute_result"
    }
   ],
   "source": [
    "#checking the remaining missing values\n",
    "df.isna().sum()"
   ]
  },
  {
   "cell_type": "markdown",
   "id": "c1e6f632-75cb-4b62-b8c5-ae20ee3dfb96",
   "metadata": {},
   "source": [
    "___\n",
    "### 3.2 Renaming Columns\n",
    "Rename columns for readibility.\n",
    "\n",
    "Rename 'is_there_an_emotion_directed_at_a_brand_or_product' to 'sentiment' and 'tweet_text' to 'tweet'\n",
    "___\n"
   ]
  },
  {
   "cell_type": "code",
   "execution_count": 18,
   "id": "05d0cbe9-a05f-4e70-a31b-9eff94af8103",
   "metadata": {},
   "outputs": [
    {
     "data": {
      "text/html": [
       "<div>\n",
       "<style scoped>\n",
       "    .dataframe tbody tr th:only-of-type {\n",
       "        vertical-align: middle;\n",
       "    }\n",
       "\n",
       "    .dataframe tbody tr th {\n",
       "        vertical-align: top;\n",
       "    }\n",
       "\n",
       "    .dataframe thead th {\n",
       "        text-align: right;\n",
       "    }\n",
       "</style>\n",
       "<table border=\"1\" class=\"dataframe\">\n",
       "  <thead>\n",
       "    <tr style=\"text-align: right;\">\n",
       "      <th></th>\n",
       "      <th>tweet</th>\n",
       "      <th>sentiment</th>\n",
       "    </tr>\n",
       "  </thead>\n",
       "  <tbody>\n",
       "    <tr>\n",
       "      <th>9088</th>\n",
       "      <td>Ipad everywhere. #SXSW {link}</td>\n",
       "      <td>Positive emotion</td>\n",
       "    </tr>\n",
       "    <tr>\n",
       "      <th>9089</th>\n",
       "      <td>Wave, buzz... RT @mention We interrupt your re...</td>\n",
       "      <td>No emotion toward brand or product</td>\n",
       "    </tr>\n",
       "    <tr>\n",
       "      <th>9090</th>\n",
       "      <td>Google's Zeiger, a physician never reported po...</td>\n",
       "      <td>No emotion toward brand or product</td>\n",
       "    </tr>\n",
       "    <tr>\n",
       "      <th>9091</th>\n",
       "      <td>Some Verizon iPhone customers complained their...</td>\n",
       "      <td>No emotion toward brand or product</td>\n",
       "    </tr>\n",
       "    <tr>\n",
       "      <th>9092</th>\n",
       "      <td>Ï¡Ïàü_ÊÎÒ£Áââ_£â_ÛâRT @...</td>\n",
       "      <td>No emotion toward brand or product</td>\n",
       "    </tr>\n",
       "  </tbody>\n",
       "</table>\n",
       "</div>"
      ],
      "text/plain": [
       "                                                  tweet  \\\n",
       "9088                      Ipad everywhere. #SXSW {link}   \n",
       "9089  Wave, buzz... RT @mention We interrupt your re...   \n",
       "9090  Google's Zeiger, a physician never reported po...   \n",
       "9091  Some Verizon iPhone customers complained their...   \n",
       "9092  Ï¡Ïàü_ÊÎÒ£Áââ_£â_ÛâRT @...   \n",
       "\n",
       "                               sentiment  \n",
       "9088                    Positive emotion  \n",
       "9089  No emotion toward brand or product  \n",
       "9090  No emotion toward brand or product  \n",
       "9091  No emotion toward brand or product  \n",
       "9092  No emotion toward brand or product  "
      ]
     },
     "execution_count": 18,
     "metadata": {},
     "output_type": "execute_result"
    }
   ],
   "source": [
    "#renaming the two columns\n",
    "df.rename(columns={'is_there_an_emotion_directed_at_a_brand_or_product':'sentiment','tweet_text':'tweet'}, inplace=True)\n",
    "df.tail() # confirming with our last 5 that indeed the column names have been renamed.\n"
   ]
  },
  {
   "cell_type": "code",
   "execution_count": 19,
   "id": "0d5ed06d-4089-45f3-b699-f4d36207f7c8",
   "metadata": {},
   "outputs": [
    {
     "data": {
      "text/plain": [
       "sentiment\n",
       "No emotion toward brand or product    5376\n",
       "Positive emotion                      2970\n",
       "Negative emotion                       569\n",
       "I can't tell                           156\n",
       "Name: count, dtype: int64"
      ]
     },
     "execution_count": 19,
     "metadata": {},
     "output_type": "execute_result"
    }
   ],
   "source": [
    "#inspect the sentiments.\n",
    "df['sentiment'].value_counts()"
   ]
  },
  {
   "cell_type": "markdown",
   "id": "5163515c-1018-4c5d-9554-92ae487edd27",
   "metadata": {},
   "source": [
    "After inspecting the sentiments, we notice that we have 4 categories: **No emotion towards a brand or product**, **positive emotion**, **negative emotion** and **I can't tell**. \n",
    "___"
   ]
  },
  {
   "cell_type": "code",
   "execution_count": 20,
   "id": "3552823c-9328-45d6-8280-62a0a533b5d0",
   "metadata": {},
   "outputs": [
    {
     "name": "stderr",
     "output_type": "stream",
     "text": [
      "C:\\Users\\USER\\AppData\\Local\\Temp\\ipykernel_7724\\216077275.py:7: FutureWarning: \n",
      "\n",
      "Passing `palette` without assigning `hue` is deprecated and will be removed in v0.14.0. Assign the `x` variable to `hue` and set `legend=False` for the same effect.\n",
      "\n",
      "  sns.countplot(data=df, x='sentiment',palette='coolwarm', order=df['sentiment'].value_counts().index)\n"
     ]
    },
    {
     "data": {
      "image/png": "[encoded data removed]",
      "text/plain": [
       "<Figure size 800x500 with 1 Axes>"
      ]
     },
     "metadata": {},
     "output_type": "display_data"
    }
   ],
   "source": [
    "#visualizing sentiment distibution\n",
    "#How many tweets are positive, negative, cant tell or have no emotion towards a brand or product.\n",
    "import matplotlib.pyplot as plt\n",
    "%matplotlib inline\n",
    "import seaborn as sns\n",
    "plt.figure(figsize=(8,5))\n",
    "sns.countplot(data=df, x='sentiment',palette='coolwarm', order=df['sentiment'].value_counts().index)\n",
    "plt.title('Sentiment Distribution')\n",
    "plt.xlabel('Sentiment Category')\n",
    "plt.ylabel('Number of tweets')\n",
    "plt.tight_layout()\n",
    "plt.xticks(rotation=90)\n",
    "plt.show()"
   ]
  },
  {
   "cell_type": "code",
   "execution_count": 21,
   "id": "69f7ccf1-9eba-48fa-ad54-4c5931749d89",
   "metadata": {},
   "outputs": [
    {
     "name": "stderr",
     "output_type": "stream",
     "text": [
      "C:\\Users\\USER\\AppData\\Local\\Temp\\ipykernel_7724\\3262277196.py:4: FutureWarning: A value is trying to be set on a copy of a DataFrame or Series through chained assignment using an inplace method.\n",
      "The behavior will change in pandas 3.0. This inplace method will never work because the intermediate object on which we are setting values always behaves as a copy.\n",
      "\n",
      "For example, when doing 'df[col].method(value, inplace=True)', try using 'df.method({col: value}, inplace=True)' or df[col] = df[col].method(value) instead, to perform the operation inplace on the original object.\n",
      "\n",
      "\n",
      "  df['tweet'].fillna('Unknown', inplace=True)\n",
      "C:\\Users\\USER\\AppData\\Local\\Temp\\ipykernel_7724\\3262277196.py:8: FutureWarning: \n",
      "\n",
      "Passing `palette` without assigning `hue` is deprecated and will be removed in v0.14.0. Assign the `x` variable to `hue` and set `legend=False` for the same effect.\n",
      "\n",
      "  sns.boxplot(x='sentiment', y='tweet_length', data=df, palette='Set2')\n"
     ]
    },
    {
     "data": {
      "image/png": "[encoded data removed]",
      "text/plain": [
       "<Figure size 800x500 with 1 Axes>"
      ]
     },
     "metadata": {},
     "output_type": "display_data"
    }
   ],
   "source": [
    "#visualizing tweet length by sentiment.\n",
    "#Tweet Length by sentiment\n",
    "#create a new column tweet length.\n",
    "df['tweet'].fillna('Unknown', inplace=True)\n",
    "df['tweet_length']=df['tweet'].apply(len)\n",
    "#plotting\n",
    "plt.figure(figsize=(8,5))\n",
    "sns.boxplot(x='sentiment', y='tweet_length', data=df, palette='Set2')\n",
    "plt.title('Tweet Length by Sentiment')\n",
    "plt.xlabel('Sentiment')\n",
    "plt.ylabel('Tweet Length (characters)')\n",
    "plt.xticks(rotation=90)\n",
    "plt.show()"
   ]
  },
  {
   "cell_type": "markdown",
   "id": "6ba55435-94bd-49bf-9cee-c36724205201",
   "metadata": {},
   "source": [
    "___\n",
    "Tweets expressing positive or neutral emotions tend to be slightly longer than negative ones, suggesting that users with positive feedback often provide more context or details in their messages.\n",
    "___"
   ]
  },
  {
   "cell_type": "code",
   "execution_count": 22,
   "id": "f75f3727-38cf-4864-98c7-7c6b00aecfad",
   "metadata": {},
   "outputs": [
    {
     "data": {
      "text/plain": [
       "sentiment\n",
       "Positive emotion    2970\n",
       "Negative emotion     569\n",
       "Name: count, dtype: int64"
      ]
     },
     "execution_count": 22,
     "metadata": {},
     "output_type": "execute_result"
    }
   ],
   "source": [
    "#handling the labels to make work easier.\n",
    "binary_df=df[df['sentiment'].isin(['Positive emotion','Negative emotion'])]\n",
    "#for multiclass it will just be the regular df.\n",
    "binary_df['sentiment'].value_counts()"
   ]
  },
  {
   "cell_type": "code",
   "execution_count": 23,
   "id": "980ec942-6773-45eb-a808-31fb74a4345b",
   "metadata": {},
   "outputs": [
    {
     "name": "stderr",
     "output_type": "stream",
     "text": [
      "C:\\Users\\USER\\AppData\\Local\\Temp\\ipykernel_7724\\1795382804.py:15: SettingWithCopyWarning: \n",
      "A value is trying to be set on a copy of a slice from a DataFrame.\n",
      "Try using .loc[row_indexer,col_indexer] = value instead\n",
      "\n",
      "See the caveats in the documentation: https://pandas.pydata.org/pandas-docs/stable/user_guide/indexing.html#returning-a-view-versus-a-copy\n",
      "  binary_df.loc[:, 'cleaned_tweet'] = binary_df['tweet'].apply(clean_text)\n"
     ]
    },
    {
     "data": {
      "text/html": [
       "<div>\n",
       "<style scoped>\n",
       "    .dataframe tbody tr th:only-of-type {\n",
       "        vertical-align: middle;\n",
       "    }\n",
       "\n",
       "    .dataframe tbody tr th {\n",
       "        vertical-align: top;\n",
       "    }\n",
       "\n",
       "    .dataframe thead th {\n",
       "        text-align: right;\n",
       "    }\n",
       "</style>\n",
       "<table border=\"1\" class=\"dataframe\">\n",
       "  <thead>\n",
       "    <tr style=\"text-align: right;\">\n",
       "      <th></th>\n",
       "      <th>tweet</th>\n",
       "      <th>sentiment</th>\n",
       "      <th>tweet_length</th>\n",
       "      <th>cleaned_tweet</th>\n",
       "    </tr>\n",
       "  </thead>\n",
       "  <tbody>\n",
       "    <tr>\n",
       "      <th>0</th>\n",
       "      <td>.@wesley83 I have a 3G iPhone. After 3 hrs twe...</td>\n",
       "      <td>Negative emotion</td>\n",
       "      <td>127</td>\n",
       "      <td>i have a g iphone after  hrs tweeting at rise...</td>\n",
       "    </tr>\n",
       "    <tr>\n",
       "      <th>1</th>\n",
       "      <td>@jessedee Know about @fludapp ? Awesome iPad/i...</td>\n",
       "      <td>Positive emotion</td>\n",
       "      <td>139</td>\n",
       "      <td>know about   awesome ipadiphone app that youll...</td>\n",
       "    </tr>\n",
       "    <tr>\n",
       "      <th>2</th>\n",
       "      <td>@swonderlin Can not wait for #iPad 2 also. The...</td>\n",
       "      <td>Positive emotion</td>\n",
       "      <td>79</td>\n",
       "      <td>can not wait for ipad  also they should sale t...</td>\n",
       "    </tr>\n",
       "    <tr>\n",
       "      <th>3</th>\n",
       "      <td>@sxsw I hope this year's festival isn't as cra...</td>\n",
       "      <td>Negative emotion</td>\n",
       "      <td>82</td>\n",
       "      <td>i hope this years festival isnt as crashy as t...</td>\n",
       "    </tr>\n",
       "    <tr>\n",
       "      <th>4</th>\n",
       "      <td>@sxtxstate great stuff on Fri #SXSW: Marissa M...</td>\n",
       "      <td>Positive emotion</td>\n",
       "      <td>131</td>\n",
       "      <td>great stuff on fri sxsw marissa mayer google t...</td>\n",
       "    </tr>\n",
       "  </tbody>\n",
       "</table>\n",
       "</div>"
      ],
      "text/plain": [
       "                                               tweet         sentiment  \\\n",
       "0  .@wesley83 I have a 3G iPhone. After 3 hrs twe...  Negative emotion   \n",
       "1  @jessedee Know about @fludapp ? Awesome iPad/i...  Positive emotion   \n",
       "2  @swonderlin Can not wait for #iPad 2 also. The...  Positive emotion   \n",
       "3  @sxsw I hope this year's festival isn't as cra...  Negative emotion   \n",
       "4  @sxtxstate great stuff on Fri #SXSW: Marissa M...  Positive emotion   \n",
       "\n",
       "   tweet_length                                      cleaned_tweet  \n",
       "0           127   i have a g iphone after  hrs tweeting at rise...  \n",
       "1           139  know about   awesome ipadiphone app that youll...  \n",
       "2            79  can not wait for ipad  also they should sale t...  \n",
       "3            82  i hope this years festival isnt as crashy as t...  \n",
       "4           131  great stuff on fri sxsw marissa mayer google t...  "
      ]
     },
     "execution_count": 23,
     "metadata": {},
     "output_type": "execute_result"
    }
   ],
   "source": [
    "#cleaning\n",
    "import re\n",
    "import string\n",
    "def clean_text(text):\n",
    "    text=text.lower()#lowercase\n",
    "    text=re.sub(r'http\\S+|www\\S+', '', text) #removing URLs\n",
    "    text=re.sub(r'@\\w+', '', text) #mentions\n",
    "    text = re.sub(r'#', '', text) #hashtags\n",
    "    text = re.sub(r'\\d+', '', text) #numbers\n",
    "    text = text.strip() #remove extra whitespace\n",
    "    text = text.translate(str.maketrans('', '', string.punctuation)) # remove punctuation.\n",
    "    return text\n",
    "#applying it to my tweets column\n",
    "#for binary df\n",
    "binary_df.loc[:, 'cleaned_tweet'] = binary_df['tweet'].apply(clean_text)\n",
    "#multiclass\n",
    "df.loc[:, 'cleaned_tweet'] = df['tweet'].apply(clean_text)\n",
    "binary_df.head()"
   ]
  },
  {
   "cell_type": "code",
   "execution_count": 24,
   "id": "669376f8-ad26-4413-8153-ba3657e5a602",
   "metadata": {},
   "outputs": [
    {
     "data": {
      "text/html": [
       "<div>\n",
       "<style scoped>\n",
       "    .dataframe tbody tr th:only-of-type {\n",
       "        vertical-align: middle;\n",
       "    }\n",
       "\n",
       "    .dataframe tbody tr th {\n",
       "        vertical-align: top;\n",
       "    }\n",
       "\n",
       "    .dataframe thead th {\n",
       "        text-align: right;\n",
       "    }\n",
       "</style>\n",
       "<table border=\"1\" class=\"dataframe\">\n",
       "  <thead>\n",
       "    <tr style=\"text-align: right;\">\n",
       "      <th></th>\n",
       "      <th>tweet</th>\n",
       "      <th>sentiment</th>\n",
       "      <th>tweet_length</th>\n",
       "      <th>cleaned_tweet</th>\n",
       "    </tr>\n",
       "  </thead>\n",
       "  <tbody>\n",
       "    <tr>\n",
       "      <th>0</th>\n",
       "      <td>.@wesley83 I have a 3G iPhone. After 3 hrs twe...</td>\n",
       "      <td>Negative emotion</td>\n",
       "      <td>127</td>\n",
       "      <td>i have a g iphone after  hrs tweeting at rise...</td>\n",
       "    </tr>\n",
       "    <tr>\n",
       "      <th>1</th>\n",
       "      <td>@jessedee Know about @fludapp ? Awesome iPad/i...</td>\n",
       "      <td>Positive emotion</td>\n",
       "      <td>139</td>\n",
       "      <td>know about   awesome ipadiphone app that youll...</td>\n",
       "    </tr>\n",
       "    <tr>\n",
       "      <th>2</th>\n",
       "      <td>@swonderlin Can not wait for #iPad 2 also. The...</td>\n",
       "      <td>Positive emotion</td>\n",
       "      <td>79</td>\n",
       "      <td>can not wait for ipad  also they should sale t...</td>\n",
       "    </tr>\n",
       "    <tr>\n",
       "      <th>3</th>\n",
       "      <td>@sxsw I hope this year's festival isn't as cra...</td>\n",
       "      <td>Negative emotion</td>\n",
       "      <td>82</td>\n",
       "      <td>i hope this years festival isnt as crashy as t...</td>\n",
       "    </tr>\n",
       "    <tr>\n",
       "      <th>4</th>\n",
       "      <td>@sxtxstate great stuff on Fri #SXSW: Marissa M...</td>\n",
       "      <td>Positive emotion</td>\n",
       "      <td>131</td>\n",
       "      <td>great stuff on fri sxsw marissa mayer google t...</td>\n",
       "    </tr>\n",
       "  </tbody>\n",
       "</table>\n",
       "</div>"
      ],
      "text/plain": [
       "                                               tweet         sentiment  \\\n",
       "0  .@wesley83 I have a 3G iPhone. After 3 hrs twe...  Negative emotion   \n",
       "1  @jessedee Know about @fludapp ? Awesome iPad/i...  Positive emotion   \n",
       "2  @swonderlin Can not wait for #iPad 2 also. The...  Positive emotion   \n",
       "3  @sxsw I hope this year's festival isn't as cra...  Negative emotion   \n",
       "4  @sxtxstate great stuff on Fri #SXSW: Marissa M...  Positive emotion   \n",
       "\n",
       "   tweet_length                                      cleaned_tweet  \n",
       "0           127   i have a g iphone after  hrs tweeting at rise...  \n",
       "1           139  know about   awesome ipadiphone app that youll...  \n",
       "2            79  can not wait for ipad  also they should sale t...  \n",
       "3            82  i hope this years festival isnt as crashy as t...  \n",
       "4           131  great stuff on fri sxsw marissa mayer google t...  "
      ]
     },
     "execution_count": 24,
     "metadata": {},
     "output_type": "execute_result"
    }
   ],
   "source": [
    "df.head()"
   ]
  },
  {
   "cell_type": "code",
   "execution_count": 25,
   "id": "3231941e-ddab-4470-adff-731b2d4f4e1f",
   "metadata": {},
   "outputs": [
    {
     "name": "stderr",
     "output_type": "stream",
     "text": [
      "[nltk_data] Downloading package stopwords to\n",
      "[nltk_data]     C:\\Users\\USER\\AppData\\Roaming\\nltk_data...\n",
      "[nltk_data]   Package stopwords is already up-to-date!\n",
      "[nltk_data] Downloading package punkt to\n",
      "[nltk_data]     C:\\Users\\USER\\AppData\\Roaming\\nltk_data...\n",
      "[nltk_data]   Package punkt is already up-to-date!\n",
      "[nltk_data] Downloading package wordnet to\n",
      "[nltk_data]     C:\\Users\\USER\\AppData\\Roaming\\nltk_data...\n",
      "[nltk_data]   Package wordnet is already up-to-date!\n",
      "C:\\Users\\USER\\AppData\\Local\\Temp\\ipykernel_7724\\2763193766.py:23: SettingWithCopyWarning: \n",
      "A value is trying to be set on a copy of a slice from a DataFrame.\n",
      "Try using .loc[row_indexer,col_indexer] = value instead\n",
      "\n",
      "See the caveats in the documentation: https://pandas.pydata.org/pandas-docs/stable/user_guide/indexing.html#returning-a-view-versus-a-copy\n",
      "  binary_df['tokens'] = binary_df['cleaned_tweet'].apply(preprocess_text)\n"
     ]
    },
    {
     "data": {
      "text/html": [
       "<div>\n",
       "<style scoped>\n",
       "    .dataframe tbody tr th:only-of-type {\n",
       "        vertical-align: middle;\n",
       "    }\n",
       "\n",
       "    .dataframe tbody tr th {\n",
       "        vertical-align: top;\n",
       "    }\n",
       "\n",
       "    .dataframe thead th {\n",
       "        text-align: right;\n",
       "    }\n",
       "</style>\n",
       "<table border=\"1\" class=\"dataframe\">\n",
       "  <thead>\n",
       "    <tr style=\"text-align: right;\">\n",
       "      <th></th>\n",
       "      <th>tweet</th>\n",
       "      <th>sentiment</th>\n",
       "      <th>tweet_length</th>\n",
       "      <th>cleaned_tweet</th>\n",
       "      <th>tokens</th>\n",
       "    </tr>\n",
       "  </thead>\n",
       "  <tbody>\n",
       "    <tr>\n",
       "      <th>0</th>\n",
       "      <td>.@wesley83 I have a 3G iPhone. After 3 hrs twe...</td>\n",
       "      <td>Negative emotion</td>\n",
       "      <td>127</td>\n",
       "      <td>i have a g iphone after  hrs tweeting at rise...</td>\n",
       "      <td>[g, iphone, hr, tweeting, riseaustin, dead, ne...</td>\n",
       "    </tr>\n",
       "    <tr>\n",
       "      <th>1</th>\n",
       "      <td>@jessedee Know about @fludapp ? Awesome iPad/i...</td>\n",
       "      <td>Positive emotion</td>\n",
       "      <td>139</td>\n",
       "      <td>know about   awesome ipadiphone app that youll...</td>\n",
       "      <td>[know, awesome, ipadiphone, app, youll, likely...</td>\n",
       "    </tr>\n",
       "    <tr>\n",
       "      <th>2</th>\n",
       "      <td>@swonderlin Can not wait for #iPad 2 also. The...</td>\n",
       "      <td>Positive emotion</td>\n",
       "      <td>79</td>\n",
       "      <td>can not wait for ipad  also they should sale t...</td>\n",
       "      <td>[wait, ipad, also, sale, sxsw]</td>\n",
       "    </tr>\n",
       "    <tr>\n",
       "      <th>3</th>\n",
       "      <td>@sxsw I hope this year's festival isn't as cra...</td>\n",
       "      <td>Negative emotion</td>\n",
       "      <td>82</td>\n",
       "      <td>i hope this years festival isnt as crashy as t...</td>\n",
       "      <td>[hope, year, festival, isnt, crashy, year, iph...</td>\n",
       "    </tr>\n",
       "    <tr>\n",
       "      <th>4</th>\n",
       "      <td>@sxtxstate great stuff on Fri #SXSW: Marissa M...</td>\n",
       "      <td>Positive emotion</td>\n",
       "      <td>131</td>\n",
       "      <td>great stuff on fri sxsw marissa mayer google t...</td>\n",
       "      <td>[great, stuff, fri, sxsw, marissa, mayer, goog...</td>\n",
       "    </tr>\n",
       "  </tbody>\n",
       "</table>\n",
       "</div>"
      ],
      "text/plain": [
       "                                               tweet         sentiment  \\\n",
       "0  .@wesley83 I have a 3G iPhone. After 3 hrs twe...  Negative emotion   \n",
       "1  @jessedee Know about @fludapp ? Awesome iPad/i...  Positive emotion   \n",
       "2  @swonderlin Can not wait for #iPad 2 also. The...  Positive emotion   \n",
       "3  @sxsw I hope this year's festival isn't as cra...  Negative emotion   \n",
       "4  @sxtxstate great stuff on Fri #SXSW: Marissa M...  Positive emotion   \n",
       "\n",
       "   tweet_length                                      cleaned_tweet  \\\n",
       "0           127   i have a g iphone after  hrs tweeting at rise...   \n",
       "1           139  know about   awesome ipadiphone app that youll...   \n",
       "2            79  can not wait for ipad  also they should sale t...   \n",
       "3            82  i hope this years festival isnt as crashy as t...   \n",
       "4           131  great stuff on fri sxsw marissa mayer google t...   \n",
       "\n",
       "                                              tokens  \n",
       "0  [g, iphone, hr, tweeting, riseaustin, dead, ne...  \n",
       "1  [know, awesome, ipadiphone, app, youll, likely...  \n",
       "2                     [wait, ipad, also, sale, sxsw]  \n",
       "3  [hope, year, festival, isnt, crashy, year, iph...  \n",
       "4  [great, stuff, fri, sxsw, marissa, mayer, goog...  "
      ]
     },
     "execution_count": 25,
     "metadata": {},
     "output_type": "execute_result"
    }
   ],
   "source": [
    "import nltk\n",
    "from nltk.corpus import stopwords\n",
    "from nltk.stem import WordNetLemmatizer\n",
    "from nltk.tokenize import word_tokenize\n",
    "\n",
    "nltk.download('stopwords')\n",
    "nltk.download('punkt')\n",
    "nltk.download('wordnet')\n",
    "\n",
    "stop_words = set(stopwords.words('english'))\n",
    "lemmatizer = WordNetLemmatizer()\n",
    "\n",
    "def preprocess_text(text):\n",
    "    # tokenize\n",
    "    tokens = word_tokenize(text)\n",
    "    # remove stopwords\n",
    "    tokens = [word for word in tokens if word.lower() not in stop_words]\n",
    "    # lemmatize\n",
    "    tokens = [lemmatizer.lemmatize(word) for word in tokens]\n",
    "    return tokens\n",
    "# Apply to dataframes\n",
    "df['tokens'] = df['cleaned_tweet'].apply(preprocess_text)\n",
    "binary_df['tokens'] = binary_df['cleaned_tweet'].apply(preprocess_text)\n",
    "df.head()\n",
    "  "
   ]
  },
  {
   "cell_type": "code",
   "execution_count": 26,
   "id": "55750f7c-687d-4cc0-b33c-dd16f37ae409",
   "metadata": {},
   "outputs": [
    {
     "name": "stderr",
     "output_type": "stream",
     "text": [
      "C:\\Users\\USER\\AppData\\Local\\Temp\\ipykernel_7724\\3204817769.py:6: SettingWithCopyWarning: \n",
      "A value is trying to be set on a copy of a slice from a DataFrame.\n",
      "Try using .loc[row_indexer,col_indexer] = value instead\n",
      "\n",
      "See the caveats in the documentation: https://pandas.pydata.org/pandas-docs/stable/user_guide/indexing.html#returning-a-view-versus-a-copy\n",
      "  binary_df['label']=le.fit_transform(binary_df['sentiment'])\n"
     ]
    },
    {
     "data": {
      "text/html": [
       "<div>\n",
       "<style scoped>\n",
       "    .dataframe tbody tr th:only-of-type {\n",
       "        vertical-align: middle;\n",
       "    }\n",
       "\n",
       "    .dataframe tbody tr th {\n",
       "        vertical-align: top;\n",
       "    }\n",
       "\n",
       "    .dataframe thead th {\n",
       "        text-align: right;\n",
       "    }\n",
       "</style>\n",
       "<table border=\"1\" class=\"dataframe\">\n",
       "  <thead>\n",
       "    <tr style=\"text-align: right;\">\n",
       "      <th></th>\n",
       "      <th>sentiment</th>\n",
       "      <th>label</th>\n",
       "      <th>cleaned_tweet</th>\n",
       "    </tr>\n",
       "  </thead>\n",
       "  <tbody>\n",
       "    <tr>\n",
       "      <th>0</th>\n",
       "      <td>Negative emotion</td>\n",
       "      <td>0</td>\n",
       "      <td>i have a g iphone after  hrs tweeting at rise...</td>\n",
       "    </tr>\n",
       "    <tr>\n",
       "      <th>1</th>\n",
       "      <td>Positive emotion</td>\n",
       "      <td>1</td>\n",
       "      <td>know about   awesome ipadiphone app that youll...</td>\n",
       "    </tr>\n",
       "    <tr>\n",
       "      <th>2</th>\n",
       "      <td>Positive emotion</td>\n",
       "      <td>1</td>\n",
       "      <td>can not wait for ipad  also they should sale t...</td>\n",
       "    </tr>\n",
       "    <tr>\n",
       "      <th>3</th>\n",
       "      <td>Negative emotion</td>\n",
       "      <td>0</td>\n",
       "      <td>i hope this years festival isnt as crashy as t...</td>\n",
       "    </tr>\n",
       "    <tr>\n",
       "      <th>4</th>\n",
       "      <td>Positive emotion</td>\n",
       "      <td>1</td>\n",
       "      <td>great stuff on fri sxsw marissa mayer google t...</td>\n",
       "    </tr>\n",
       "  </tbody>\n",
       "</table>\n",
       "</div>"
      ],
      "text/plain": [
       "          sentiment  label                                      cleaned_tweet\n",
       "0  Negative emotion      0   i have a g iphone after  hrs tweeting at rise...\n",
       "1  Positive emotion      1  know about   awesome ipadiphone app that youll...\n",
       "2  Positive emotion      1  can not wait for ipad  also they should sale t...\n",
       "3  Negative emotion      0  i hope this years festival isnt as crashy as t...\n",
       "4  Positive emotion      1  great stuff on fri sxsw marissa mayer google t..."
      ]
     },
     "execution_count": 26,
     "metadata": {},
     "output_type": "execute_result"
    }
   ],
   "source": [
    "#working on my binary first\n",
    "#encoding before splitting to prevent data leakage.\n",
    "from sklearn.preprocessing import LabelEncoder\n",
    "#instantiating the labelencoder\n",
    "le=LabelEncoder()\n",
    "binary_df['label']=le.fit_transform(binary_df['sentiment'])\n",
    "binary_df[['sentiment','label','cleaned_tweet']].head()"
   ]
  },
  {
   "cell_type": "code",
   "execution_count": 27,
   "id": "f2bc4036-404f-47ba-b0fe-89bb2cb6e33e",
   "metadata": {},
   "outputs": [
    {
     "name": "stderr",
     "output_type": "stream",
     "text": [
      "C:\\Users\\USER\\AppData\\Local\\Temp\\ipykernel_7724\\3110840990.py:3: FutureWarning: \n",
      "\n",
      "Passing `palette` without assigning `hue` is deprecated and will be removed in v0.14.0. Assign the `x` variable to `hue` and set `legend=False` for the same effect.\n",
      "\n",
      "  sns.countplot(data=binary_df, x='sentiment',palette='coolwarm', order=binary_df['sentiment'].value_counts().index)\n"
     ]
    },
    {
     "data": {
      "image/png": "[encoded data removed]",
      "text/plain": [
       "<Figure size 800x500 with 1 Axes>"
      ]
     },
     "metadata": {},
     "output_type": "display_data"
    }
   ],
   "source": [
    "#visualizing sentiment distribution in binary classification.\n",
    "plt.figure(figsize=(8,5))\n",
    "sns.countplot(data=binary_df, x='sentiment',palette='coolwarm', order=binary_df['sentiment'].value_counts().index)\n",
    "plt.title('Sentiment Distribution')\n",
    "plt.xlabel('Sentiment Category')\n",
    "plt.ylabel('Number of tweets')\n",
    "plt.tight_layout()\n",
    "plt.xticks(rotation=90)\n",
    "plt.show()"
   ]
  },
  {
   "cell_type": "code",
   "execution_count": 28,
   "id": "d2503991-739d-4162-bd82-d1a1f6021e5d",
   "metadata": {},
   "outputs": [],
   "source": [
    "#splitting into training and test set. Noting from the above visualization that the positive is dominating the negative.\n",
    "from sklearn.model_selection import train_test_split\n",
    "#defining the variables\n",
    "X=binary_df['cleaned_tweet']\n",
    "y=binary_df['label']\n",
    "X_train, X_test,y_train,y_test=train_test_split(X,y, test_size=0.2,random_state=42,stratify=y)"
   ]
  },
  {
   "cell_type": "code",
   "execution_count": 29,
   "id": "150e0bd7-346e-4778-a155-b05f986badc9",
   "metadata": {},
   "outputs": [],
   "source": [
    "#converting text to numeric features using TF-IDF\n",
    "from sklearn.feature_extraction.text import TfidfVectorizer\n",
    "#instantiating the vectorizer\n",
    "vectorizer=TfidfVectorizer(max_features=5000, ngram_range=(1,2))\n",
    "#fit the vectorizer into the training set and transform the test set\n",
    "X_train_vec= vectorizer.fit_transform(X_train)\n",
    "X_test_vec=vectorizer.transform(X_test)\n"
   ]
  },
  {
   "cell_type": "markdown",
   "id": "e72a416a",
   "metadata": {},
   "source": [
    "## Multiclass"
   ]
  },
  {
   "cell_type": "code",
   "execution_count": 33,
   "id": "a6d5d513-b279-43a2-bc5c-1b35e56464e7",
   "metadata": {},
   "outputs": [
    {
     "name": "stdout",
     "output_type": "stream",
     "text": [
      "{\"I can't tell\": 0, 'Negative emotion': 1, 'No emotion toward brand or product': 2, 'Positive emotion': 3}\n"
     ]
    }
   ],
   "source": [
    "from sklearn.preprocessing import LabelEncoder\n",
    "\n",
    "# Initialize the encoder\n",
    "le = LabelEncoder()\n",
    "\n",
    "# Fit and transform your target column\n",
    "label= le.fit_transform(df['sentiment'])\n",
    "\n",
    "print(dict(zip(le.classes_, le.transform(le.classes_))))\n"
   ]
  },
  {
   "cell_type": "markdown",
   "id": "ec79f1a2",
   "metadata": {},
   "source": [
    "We’ll use TF-IDF (Term Frequency–Inverse Document Frequency) because\n",
    "it weighs how important each word is in a tweet relative to how often it appears overall.\n",
    "\n",
    "Why we used TF-IDF \n",
    "\n",
    "Common words like “the”, “is” get lower weight\n",
    "\n",
    "Rare but important words like “hate” or “love” get higher weight"
   ]
  },
  {
   "cell_type": "code",
   "execution_count": 36,
   "id": "b4a154b6",
   "metadata": {},
   "outputs": [
    {
     "name": "stdout",
     "output_type": "stream",
     "text": [
      "Shape of TF-IDF matrix: (9071, 5000)\n"
     ]
    }
   ],
   "source": [
    "from sklearn.feature_extraction.text import TfidfVectorizer\n",
    "\n",
    "# Create TF-IDF \n",
    "tfidf = TfidfVectorizer(max_features=5000, ngram_range=(1,2))  # 1- and 2-word combinations\n",
    "\n",
    "# Fit and transform the clean text\n",
    "X = tfidf.fit_transform(df['cleaned_tweet'])\n",
    "\n",
    "# Target variable(Because it represents the emotion category we want to predict from the text.)\n",
    "y = df['sentiment']\n",
    "print(\"Shape of TF-IDF matrix:\", X.shape)\n"
   ]
  },
  {
   "cell_type": "markdown",
   "id": "679c49e3",
   "metadata": {},
   "source": [
    "### Splitting the data"
   ]
  },
  {
   "cell_type": "code",
   "execution_count": 37,
   "id": "ffc08cbf",
   "metadata": {},
   "outputs": [],
   "source": [
    "from sklearn.model_selection import train_test_split\n",
    "\n",
    "X_train, X_test, y_train, y_test = train_test_split(\n",
    "    X, y, test_size=0.2, random_state=42\n",
    ")\n"
   ]
  },
  {
   "cell_type": "code",
   "execution_count": 38,
   "id": "2d953354",
   "metadata": {},
   "outputs": [
    {
     "data": {
      "text/plain": [
       "array(['aapl', 'ab', 'able', 'able to', 'about', 'about android',\n",
       "       'about apples', 'about google', 'about how', 'about ipad',\n",
       "       'about iphone', 'about it', 'about our', 'about sxsw', 'about the',\n",
       "       'about to', 'abt', 'acc', 'acc ballroom', 'access'], dtype=object)"
      ]
     },
     "execution_count": 38,
     "metadata": {},
     "output_type": "execute_result"
    }
   ],
   "source": [
    "# Get feature names\n",
    "feature_names = tfidf.get_feature_names_out()\n",
    "\n",
    "# View first 20 words\n",
    "feature_names[:20]\n"
   ]
  },
  {
   "cell_type": "code",
   "execution_count": 40,
   "id": "d0d18eb2",
   "metadata": {},
   "outputs": [
    {
     "name": "stderr",
     "output_type": "stream",
     "text": [
      "C:\\Users\\USER\\AppData\\Local\\Temp\\ipykernel_7724\\866306651.py:3: FutureWarning: \n",
      "\n",
      "Passing `palette` without assigning `hue` is deprecated and will be removed in v0.14.0. Assign the `x` variable to `hue` and set `legend=False` for the same effect.\n",
      "\n",
      "  sns.countplot(data=df, x='sentiment', palette='Spectral', order=df['sentiment'].value_counts().index)\n"
     ]
    },
    {
     "data": {
      "image/png": "[encoded data removed]",
      "text/plain": [
       "<Figure size 800x600 with 1 Axes>"
      ]
     },
     "metadata": {},
     "output_type": "display_data"
    }
   ],
   "source": [
    "# lets plot the distribution of the multiclass to see if its balanced\n",
    "plt.figure(figsize=(8,6))\n",
    "sns.countplot(data=df, x='sentiment', palette='Spectral', order=df['sentiment'].value_counts().index)\n",
    "plt.title(\"Multiclass Sentiment Distribution\", fontsize=14)\n",
    "plt.xlabel(\"Sentiment Category\")\n",
    "plt.ylabel(\"Number of Tweets\")\n",
    "plt.xticks(rotation=45)\n",
    "plt.tight_layout()\n",
    "plt.show()\n"
   ]
  },
  {
   "cell_type": "code",
   "execution_count": 41,
   "id": "dc9a017c",
   "metadata": {},
   "outputs": [
    {
     "name": "stderr",
     "output_type": "stream",
     "text": [
      "C:\\Users\\USER\\AppData\\Local\\Temp\\ipykernel_7724\\1795880023.py:9: FutureWarning: \n",
      "\n",
      "Passing `palette` without assigning `hue` is deprecated and will be removed in v0.14.0. Assign the `y` variable to `hue` and set `legend=False` for the same effect.\n",
      "\n",
      "  sns.barplot(data=common_words, y='word', x='count', palette='mako')\n"
     ]
    },
    {
     "data": {
      "image/png": "[encoded data removed]",
      "text/plain": [
       "<Figure size 1000x500 with 1 Axes>"
      ]
     },
     "metadata": {},
     "output_type": "display_data"
    }
   ],
   "source": [
    "from collections import Counter\n",
    "import pandas as pd\n",
    "\n",
    "all_words = \" \".join(df['cleaned_tweet']).split()\n",
    "word_counts = Counter(all_words)\n",
    "common_words = pd.DataFrame(word_counts.most_common(20), columns=['word', 'count'])\n",
    "\n",
    "plt.figure(figsize=(10,5))\n",
    "sns.barplot(data=common_words, y='word', x='count', palette='mako')\n",
    "plt.title(\"Top 20 Most Common Words\")\n",
    "plt.xlabel(\"Count\")\n",
    "plt.ylabel(\"Word\")\n",
    "plt.show()\n"
   ]
  }
 ],
 "metadata": {
  "kernelspec": {
   "display_name": "base",
   "language": "python",
   "name": "python3"
  },
  "language_info": {
   "codemirror_mode": {
    "name": "ipython",
    "version": 3
   },
   "file_extension": ".py",
   "mimetype": "text/x-python",
   "name": "python",
   "nbconvert_exporter": "python",
   "pygments_lexer": "ipython3",
   "version": "3.12.7"
  }
 },
 "nbformat": 4,
 "nbformat_minor": 5
}
