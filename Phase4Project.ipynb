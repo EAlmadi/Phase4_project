{
 "cells": [
  {
   "cell_type": "markdown",
   "id": "be3d10c8-29cf-46f9-8420-c6464203269d",
   "metadata": {},
   "source": [
    "# Twitter Sentiment Analysis\n",
    "\n",
    "---\n",
    "\n",
    "## 1. Business Understanding\n",
    "\n",
    "### 1.1 Overview\n",
    "\n",
    "In the modern digital era, social media platforms like Twitter (now X) have become powerful channels for consumers to express opinions, experiences, and emotions about brands, products, and services. These views can significantly influence purchasing decisions, brand reputation, and marketing strategies.\n",
    "\n",
    "Manually tracking and interpreting this vast, unstructured feedback is impractical for companies. As a result, organizations increasingly turn to **Natural Language Processing (NLP)** and **machine learning models** to automatically analyze and interpret tweet sentiments.\n",
    "\n",
    "![NLP Diagram](nlp.image.png)\n",
    "*Figure 1: Illustration of how Natural Language Processing (NLP) processes and classifies text to produce outputs.*\n",
    "\n",
    "---\n",
    "\n",
    "### 1.2 Business Problem\n",
    "\n",
    "Businesses need to understand **how customers feel** about their products and brands in real time. However, the sheer volume and unstructured nature of tweets make manual analysis impossible.\n",
    "\n",
    "The core challenge is to **automatically classify each tweet** as **positive**, **negative**, or **neutral**. This provides actionable insights to:\n",
    "\n",
    "- Identify emerging trends in customer satisfaction or dissatisfaction.\n",
    "- Track public reactions to product launches or campaigns.\n",
    "- Inform data-driven marketing and customer engagement decisions.\n",
    "\n",
    "---\n",
    "\n",
    "### 1.3 Project Objective\n",
    "\n",
    "**Main Objective:**  \n",
    "To **develop an automated sentiment classification model** that accurately analyzes and categorizes sentiments expressed in posts on **X (formerly Twitter)** as **positive, negative, or neutral**, enabling real-time insights into customer perceptions of a brand to support **data-driven marketing** and **brand management decisions**.\n",
    "\n",
    "**Specific Objectives:**  \n",
    "\n",
    "1. **Build a Binary Classification Model:**  \n",
    "   Develop and train a machine learning model to accurately distinguish between **positive** and **negative** sentiments in X posts.  \n",
    "\n",
    "2. **Extend to Multiclass Classification:**  \n",
    "   Enhance the model to classify posts into **four categories**:  \n",
    "   - No emotion toward brand or product  \n",
    "   - Positive emotion  \n",
    "   - Negative emotion  \n",
    "   - I can't tell  \n",
    "   This should be done **while maintaining or improving overall classification performance**.\n",
    "\n",
    "3. **Support Business Decision-Making:**  \n",
    "   Deliver **interpretable sentiment insights** to marketing teams and brand managers to:  \n",
    "   - Optimize campaigns  \n",
    "   - Address customer concerns  \n",
    "   - Enhance brand reputation  \n",
    "\n",
    "---\n",
    "\n",
    "### 1.4 Business Value\n",
    "\n",
    "An accurate sentiment analysis system delivers substantial value to decision-makers by enabling:\n",
    "\n",
    "- **Brand Monitoring**: Track customer feelings about the brand over time.  \n",
    "- **Marketing Optimization**: Pinpoint campaigns that drive positive engagement or negative feedback.  \n",
    "- **Customer Insights**: Uncover pain points or drivers of satisfaction.  \n",
    "- **Faster Decision-Making**: Provide near real-time feedback analysis.  \n",
    "\n",
    "---\n",
    "\n",
    "### 1.5 Research Questions\n",
    "\n",
    "1. **How do customers feel about the company’s products or services**, based on sentiments expressed on Twitter?  \n",
    "2. **What key factors or topics drive positive and negative sentiments** toward the brand on Twitter?  \n",
    "3. **How can Twitter sentiment insights support business decisions**, such as marketing strategies, customer engagement, and brand reputation management?\n",
    "\n",
    "---\n",
    "\n",
    "### 1.6 Success Criteria\n",
    "\n",
    "The project's success will be measured by:\n",
    "\n",
    "1. **Actionable Insights**: The system delivers meaningful customer opinion trends on Twitter, supporting data-driven decisions.  \n",
    "2. **Brand Reputation Tracking**: Enables real-time monitoring of public sentiment, allowing timely responses to issues.  \n",
    "3. **Marketing and Engagement Impact**: Insights i"
   ]
  },
  {
   "cell_type": "code",
   "execution_count": 1,
   "id": "ae509f43-27f9-47f9-a6f1-9d5416a95c6d",
   "metadata": {},
   "outputs": [
    {
     "name": "stderr",
     "output_type": "stream",
     "text": [
      "/home/khalid-abdulkadir/anaconda3/lib/python3.12/site-packages/xgboost/core.py:377: FutureWarning: Your system has an old version of glibc (< 2.28). We will stop supporting Linux distros with glibc older than 2.28 after **May 31, 2025**. Please upgrade to a recent Linux distro (with glibc >= 2.28) to use future versions of XGBoost.\n",
      "Note: You have installed the 'manylinux2014' variant of XGBoost. Certain features such as GPU algorithms or federated learning are not available. To use these features, please upgrade to a recent Linux distro with glibc 2.28+, and install the 'manylinux_2_28' variant.\n",
      "  warnings.warn(\n",
      "[nltk_data] Downloading package stopwords to /home/khalid-\n",
      "[nltk_data]     abdulkadir/nltk_data...\n",
      "[nltk_data]   Package stopwords is already up-to-date!\n",
      "[nltk_data] Downloading package punkt to /home/khalid-\n",
      "[nltk_data]     abdulkadir/nltk_data...\n",
      "[nltk_data]   Package punkt is already up-to-date!\n",
      "[nltk_data] Downloading package wordnet to /home/khalid-\n",
      "[nltk_data]     abdulkadir/nltk_data...\n",
      "[nltk_data]   Package wordnet is already up-to-date!\n"
     ]
    }
   ],
   "source": [
    "import pandas as pd\n",
    "import numpy as np\n",
    "import matplotlib.pyplot as plt\n",
    "import re\n",
    "import string\n",
    "from nltk.corpus import stopwords\n",
    "from nltk.stem import WordNetLemmatizer\n",
    "from nltk.tokenize import word_tokenize\n",
    "from sklearn.base import BaseEstimator, TransformerMixin\n",
    "from sklearn.feature_extraction.text import TfidfVectorizer\n",
    "from sklearn.linear_model import LogisticRegression\n",
    "from sklearn.preprocessing import LabelEncoder\n",
    "from sklearn.pipeline import Pipeline\n",
    "from sklearn.model_selection import train_test_split\n",
    "from imblearn.pipeline import Pipeline as ImbPipeline\n",
    "from imblearn.over_sampling import SMOTE\n",
    "from sklearn.linear_model import LogisticRegression\n",
    "from sklearn.metrics import accuracy_score, classification_report, confusion_matrix, ConfusionMatrixDisplay\n",
    "import seaborn as sns\n",
    "from sklearn.model_selection import GridSearchCV\n",
    "from sklearn.ensemble import RandomForestClassifier\n",
    "from xgboost import XGBClassifier\n",
    "import nltk\n",
    "nltk.download('stopwords')\n",
    "nltk.download('punkt')\n",
    "nltk.download('wordnet')\n",
    "import warnings\n",
    "warnings.filterwarnings('ignore')\n",
    "warnings.filterwarnings('ignore', module='pandas')"
   ]
  },
  {
   "cell_type": "code",
   "execution_count": 2,
   "id": "9558f76f-5ed6-4252-9d6b-3e688b65ae24",
   "metadata": {
    "scrolled": true
   },
   "outputs": [
    {
     "data": {
      "text/html": [
       "<div>\n",
       "<style scoped>\n",
       "    .dataframe tbody tr th:only-of-type {\n",
       "        vertical-align: middle;\n",
       "    }\n",
       "\n",
       "    .dataframe tbody tr th {\n",
       "        vertical-align: top;\n",
       "    }\n",
       "\n",
       "    .dataframe thead th {\n",
       "        text-align: right;\n",
       "    }\n",
       "</style>\n",
       "<table border=\"1\" class=\"dataframe\">\n",
       "  <thead>\n",
       "    <tr style=\"text-align: right;\">\n",
       "      <th></th>\n",
       "      <th>tweet_text</th>\n",
       "      <th>emotion_in_tweet_is_directed_at</th>\n",
       "      <th>is_there_an_emotion_directed_at_a_brand_or_product</th>\n",
       "    </tr>\n",
       "  </thead>\n",
       "  <tbody>\n",
       "    <tr>\n",
       "      <th>0</th>\n",
       "      <td>.@wesley83 I have a 3G iPhone. After 3 hrs twe...</td>\n",
       "      <td>iPhone</td>\n",
       "      <td>Negative emotion</td>\n",
       "    </tr>\n",
       "    <tr>\n",
       "      <th>1</th>\n",
       "      <td>@jessedee Know about @fludapp ? Awesome iPad/i...</td>\n",
       "      <td>iPad or iPhone App</td>\n",
       "      <td>Positive emotion</td>\n",
       "    </tr>\n",
       "    <tr>\n",
       "      <th>2</th>\n",
       "      <td>@swonderlin Can not wait for #iPad 2 also. The...</td>\n",
       "      <td>iPad</td>\n",
       "      <td>Positive emotion</td>\n",
       "    </tr>\n",
       "    <tr>\n",
       "      <th>3</th>\n",
       "      <td>@sxsw I hope this year's festival isn't as cra...</td>\n",
       "      <td>iPad or iPhone App</td>\n",
       "      <td>Negative emotion</td>\n",
       "    </tr>\n",
       "    <tr>\n",
       "      <th>4</th>\n",
       "      <td>@sxtxstate great stuff on Fri #SXSW: Marissa M...</td>\n",
       "      <td>Google</td>\n",
       "      <td>Positive emotion</td>\n",
       "    </tr>\n",
       "  </tbody>\n",
       "</table>\n",
       "</div>"
      ],
      "text/plain": [
       "                                          tweet_text  \\\n",
       "0  .@wesley83 I have a 3G iPhone. After 3 hrs twe...   \n",
       "1  @jessedee Know about @fludapp ? Awesome iPad/i...   \n",
       "2  @swonderlin Can not wait for #iPad 2 also. The...   \n",
       "3  @sxsw I hope this year's festival isn't as cra...   \n",
       "4  @sxtxstate great stuff on Fri #SXSW: Marissa M...   \n",
       "\n",
       "  emotion_in_tweet_is_directed_at  \\\n",
       "0                          iPhone   \n",
       "1              iPad or iPhone App   \n",
       "2                            iPad   \n",
       "3              iPad or iPhone App   \n",
       "4                          Google   \n",
       "\n",
       "  is_there_an_emotion_directed_at_a_brand_or_product  \n",
       "0                                   Negative emotion  \n",
       "1                                   Positive emotion  \n",
       "2                                   Positive emotion  \n",
       "3                                   Negative emotion  \n",
       "4                                   Positive emotion  "
      ]
     },
     "execution_count": 2,
     "metadata": {},
     "output_type": "execute_result"
    }
   ],
   "source": [
    "data = pd.read_csv(\"judge-1377884607_tweet_product_company.csv\", encoding='latin1')\n",
    "data.head()"
   ]
  },
  {
   "cell_type": "markdown",
   "id": "fde07827-bf9d-49f5-8fe2-dd4df545c5c8",
   "metadata": {},
   "source": [
    "# 📊 DATA UNDERSTANDING\n",
    "\n",
    "## 1. Data Collection\n",
    "- **Dataset Name:** judge-1377884607_tweet_product_company.csv  \n",
    "- **Source:** Twitter Sentiment Dataset (Data World)  \n",
    "- **Context:** Tweets labeled with emotions directed at brands or products.\n",
    "\n",
    "## 2. Data Description\n",
    "- **Number of Instances:** 9,093  \n",
    "- **Number of Features:** 3  \n",
    "  1. `tweet_text` – the content of the tweet  \n",
    "  2. `emotion_in_tweet_is_directed_at` – brand/product the emotion is directed at  \n",
    "  3. `is_there_an_emotion_directed_at_a_brand_or_product` – emotion label toward brand/product  \n",
    "\n",
    "## 3. Data Quality\n",
    "- **Encoding:** latin1  \n",
    "- **Duplicates:** 22  \n",
    "- **Missing Values:** Some possible in `emotion_in_tweet_is_directed_at`  \n",
    "- **Class Distribution (Target Variable):**\n",
    "  - No emotion toward brand or product → 5389  \n",
    "  - Positive emotion → 2978  \n",
    "  - Negative emotion → 570  \n",
    "  - I can't tell → 156  \n",
    "\n",
    "## 4. Initial Observations\n",
    "- Dataset is **imbalanced**, dominated by neutral tweets.  \n",
    "- Text data requires **preprocessing** (cleaning, tokenization, stopword removal).  \n",
    "- Will need **encoding** for categorical features and **balancing** before modeling.  \n"
   ]
  },
  {
   "cell_type": "code",
   "execution_count": 3,
   "id": "8231266c-2683-4e08-b18a-c9a6c809a0ab",
   "metadata": {},
   "outputs": [
    {
     "name": "stdout",
     "output_type": "stream",
     "text": [
      "<class 'pandas.core.frame.DataFrame'>\n",
      "RangeIndex: 9093 entries, 0 to 9092\n",
      "Data columns (total 3 columns):\n",
      " #   Column                                              Non-Null Count  Dtype \n",
      "---  ------                                              --------------  ----- \n",
      " 0   tweet_text                                          9092 non-null   object\n",
      " 1   emotion_in_tweet_is_directed_at                     3291 non-null   object\n",
      " 2   is_there_an_emotion_directed_at_a_brand_or_product  9093 non-null   object\n",
      "dtypes: object(3)\n",
      "memory usage: 213.2+ KB\n"
     ]
    }
   ],
   "source": [
    "data.info()"
   ]
  },
  {
   "cell_type": "code",
   "execution_count": 4,
   "id": "4df703cf-4dd6-47c1-a8d0-83052ab9e768",
   "metadata": {
    "scrolled": true
   },
   "outputs": [
    {
     "data": {
      "text/plain": [
       "Index(['tweet_text', 'emotion_in_tweet_is_directed_at',\n",
       "       'is_there_an_emotion_directed_at_a_brand_or_product'],\n",
       "      dtype='object')"
      ]
     },
     "execution_count": 4,
     "metadata": {},
     "output_type": "execute_result"
    }
   ],
   "source": [
    "data.columns"
   ]
  },
  {
   "cell_type": "code",
   "execution_count": 5,
   "id": "9db25fff-ecb2-4cf1-bafc-8ac4939326f5",
   "metadata": {},
   "outputs": [
    {
     "data": {
      "text/plain": [
       "tweet_text                                               1\n",
       "emotion_in_tweet_is_directed_at                       5802\n",
       "is_there_an_emotion_directed_at_a_brand_or_product       0\n",
       "dtype: int64"
      ]
     },
     "execution_count": 5,
     "metadata": {},
     "output_type": "execute_result"
    }
   ],
   "source": [
    "data.isnull().sum()"
   ]
  },
  {
   "cell_type": "code",
   "execution_count": 6,
   "id": "85899feb-0a67-41b0-9cf0-438f1e160a4d",
   "metadata": {},
   "outputs": [
    {
     "data": {
      "text/plain": [
       "emotion_in_tweet_is_directed_at\n",
       "iPad                               946\n",
       "Apple                              661\n",
       "iPad or iPhone App                 470\n",
       "Google                             430\n",
       "iPhone                             297\n",
       "Other Google product or service    293\n",
       "Android App                         81\n",
       "Android                             78\n",
       "Other Apple product or service      35\n",
       "Name: count, dtype: int64"
      ]
     },
     "execution_count": 6,
     "metadata": {},
     "output_type": "execute_result"
    }
   ],
   "source": [
    "data.emotion_in_tweet_is_directed_at.value_counts()"
   ]
  },
  {
   "cell_type": "code",
   "execution_count": 7,
   "id": "8d22193c-785f-423f-8236-8d61151458db",
   "metadata": {},
   "outputs": [
    {
     "data": {
      "text/plain": [
       "is_there_an_emotion_directed_at_a_brand_or_product\n",
       "No emotion toward brand or product    5389\n",
       "Positive emotion                      2978\n",
       "Negative emotion                       570\n",
       "I can't tell                           156\n",
       "Name: count, dtype: int64"
      ]
     },
     "execution_count": 7,
     "metadata": {},
     "output_type": "execute_result"
    }
   ],
   "source": [
    "data.is_there_an_emotion_directed_at_a_brand_or_product.value_counts()"
   ]
  },
  {
   "cell_type": "code",
   "execution_count": 8,
   "id": "456d508f-142b-484c-a4aa-004afc1536a1",
   "metadata": {},
   "outputs": [
    {
     "data": {
      "text/plain": [
       "22"
      ]
     },
     "execution_count": 8,
     "metadata": {},
     "output_type": "execute_result"
    }
   ],
   "source": [
    "data.duplicated().sum()"
   ]
  },
  {
   "cell_type": "code",
   "execution_count": 9,
   "id": "ee716dcb-28a5-4a0f-ab2c-549a09dffb58",
   "metadata": {
    "scrolled": true
   },
   "outputs": [
    {
     "data": {
      "text/plain": [
       "emotion_in_tweet_is_directed_at\n",
       "iPad                               946\n",
       "Apple                              661\n",
       "iPad or iPhone App                 470\n",
       "Google                             430\n",
       "iPhone                             297\n",
       "Other Google product or service    293\n",
       "Android App                         81\n",
       "Android                             78\n",
       "Other Apple product or service      35\n",
       "Name: count, dtype: int64"
      ]
     },
     "execution_count": 9,
     "metadata": {},
     "output_type": "execute_result"
    }
   ],
   "source": [
    "data.emotion_in_tweet_is_directed_at.value_counts()"
   ]
  },
  {
   "cell_type": "markdown",
   "id": "f825b83c-dfd2-473d-89b1-64946b979718",
   "metadata": {},
   "source": [
    "# 🧹DATA PREPARATION\n",
    "\n",
    "## 1. Data Cleaning\n",
    "- **Filtered Data:** Kept only tweets with clear emotions (‘Positive emotion’, ‘Negative emotion’)\n",
    "- **Dropped Column:** `emotion_in_tweet_is_directed_at`\n",
    "- **Duplicates:** Removed previously (22 duplicates)\n",
    "- **Resulting Data Shape:** (number of records after filtering)\n",
    "\n",
    "## 2. Text Preprocessing\n",
    "Applied NLTK-based cleaning function:\n",
    "- Converted text to lowercase  \n",
    "- Removed URLs, mentions, hashtags, numbers, and punctuation  \n",
    "- Tokenized text and removed stopwords  \n",
    "- Lemmatized words using WordNetLemmatizer  \n",
    "- Created new column: `clean_text`\n",
    "\n",
    "## 3. Label Encoding\n",
    "Mapped sentiment labels:\n",
    "- Positive emotion → 1  \n",
    "- Negative emotion → 0  \n",
    "Created new column: `label`\n",
    "\n",
    "## 4. Data Splitting\n",
    "- Split data into **Train (80%)** and **Test (20%)** sets  \n",
    "- Used `stratify=y` to preserve class balance  \n",
    "\n",
    "## 5. Feature Engineering (Text to Numeric)\n",
    "- Used **TF-IDF Vectorizer** with:\n",
    "  - `max_features=5000`\n",
    "  - `ngram_range=(1,2)`  \n",
    "- Transformed text data into numeric feature matrix for model input.\n",
    "\n",
    "## 6. Handling Class Imbalance\n",
    "- Applied **SMOTE (Synthetic Minority Oversampling Technique)** on training data  \n",
    "- Balanced positive and negative samples for fair model training.\n",
    "\n",
    "---\n",
    "\n",
    "✅ *Output:* Cleaned, vectorized, and balanced dataset ready for the **Modeling Phase**.\n"
   ]
  },
  {
   "cell_type": "code",
   "execution_count": 10,
   "id": "f9916484-af17-46ae-ac56-d594a8fccbee",
   "metadata": {},
   "outputs": [
    {
     "data": {
      "text/plain": [
       "emotion_in_tweet_is_directed_at    63.807324\n",
       "dtype: float64"
      ]
     },
     "execution_count": 10,
     "metadata": {},
     "output_type": "execute_result"
    }
   ],
   "source": [
    "# Calculate the percentage of missing values in each column\n",
    "missing_percentage = data.isnull().mean() * 100\n",
    "\n",
    "# Filter columns with more than 50% missing values\n",
    "missing_greater_than_50 = missing_percentage[missing_percentage > 50]\n",
    "\n",
    "# Display them\n",
    "missing_greater_than_50"
   ]
  },
  {
   "cell_type": "code",
   "execution_count": 11,
   "id": "4f005f46-85a8-4eb4-bfcb-d3769b42553d",
   "metadata": {},
   "outputs": [],
   "source": [
    "data = data.drop(columns=['emotion_in_tweet_is_directed_at'])"
   ]
  },
  {
   "cell_type": "code",
   "execution_count": 12,
   "id": "2f7d500d-f46b-4ce9-95e7-6adb276fcb70",
   "metadata": {},
   "outputs": [
    {
     "data": {
      "text/html": [
       "<div>\n",
       "<style scoped>\n",
       "    .dataframe tbody tr th:only-of-type {\n",
       "        vertical-align: middle;\n",
       "    }\n",
       "\n",
       "    .dataframe tbody tr th {\n",
       "        vertical-align: top;\n",
       "    }\n",
       "\n",
       "    .dataframe thead th {\n",
       "        text-align: right;\n",
       "    }\n",
       "</style>\n",
       "<table border=\"1\" class=\"dataframe\">\n",
       "  <thead>\n",
       "    <tr style=\"text-align: right;\">\n",
       "      <th></th>\n",
       "      <th>tweet_text</th>\n",
       "      <th>is_there_an_emotion_directed_at_a_brand_or_product</th>\n",
       "    </tr>\n",
       "  </thead>\n",
       "  <tbody>\n",
       "    <tr>\n",
       "      <th>0</th>\n",
       "      <td>.@wesley83 I have a 3G iPhone. After 3 hrs twe...</td>\n",
       "      <td>Negative emotion</td>\n",
       "    </tr>\n",
       "    <tr>\n",
       "      <th>1</th>\n",
       "      <td>@jessedee Know about @fludapp ? Awesome iPad/i...</td>\n",
       "      <td>Positive emotion</td>\n",
       "    </tr>\n",
       "    <tr>\n",
       "      <th>2</th>\n",
       "      <td>@swonderlin Can not wait for #iPad 2 also. The...</td>\n",
       "      <td>Positive emotion</td>\n",
       "    </tr>\n",
       "    <tr>\n",
       "      <th>3</th>\n",
       "      <td>@sxsw I hope this year's festival isn't as cra...</td>\n",
       "      <td>Negative emotion</td>\n",
       "    </tr>\n",
       "    <tr>\n",
       "      <th>4</th>\n",
       "      <td>@sxtxstate great stuff on Fri #SXSW: Marissa M...</td>\n",
       "      <td>Positive emotion</td>\n",
       "    </tr>\n",
       "  </tbody>\n",
       "</table>\n",
       "</div>"
      ],
      "text/plain": [
       "                                          tweet_text  \\\n",
       "0  .@wesley83 I have a 3G iPhone. After 3 hrs twe...   \n",
       "1  @jessedee Know about @fludapp ? Awesome iPad/i...   \n",
       "2  @swonderlin Can not wait for #iPad 2 also. The...   \n",
       "3  @sxsw I hope this year's festival isn't as cra...   \n",
       "4  @sxtxstate great stuff on Fri #SXSW: Marissa M...   \n",
       "\n",
       "  is_there_an_emotion_directed_at_a_brand_or_product  \n",
       "0                                   Negative emotion  \n",
       "1                                   Positive emotion  \n",
       "2                                   Positive emotion  \n",
       "3                                   Negative emotion  \n",
       "4                                   Positive emotion  "
      ]
     },
     "execution_count": 12,
     "metadata": {},
     "output_type": "execute_result"
    }
   ],
   "source": [
    "data.head()"
   ]
  },
  {
   "cell_type": "code",
   "execution_count": 13,
   "id": "941a7b7c-c929-4026-8a29-84236446d8e2",
   "metadata": {},
   "outputs": [
    {
     "data": {
      "text/plain": [
       "is_there_an_emotion_directed_at_a_brand_or_product\n",
       "No emotion toward brand or product    5389\n",
       "Positive emotion                      2978\n",
       "Negative emotion                       570\n",
       "I can't tell                           156\n",
       "Name: count, dtype: int64"
      ]
     },
     "execution_count": 13,
     "metadata": {},
     "output_type": "execute_result"
    }
   ],
   "source": [
    "data.is_there_an_emotion_directed_at_a_brand_or_product.value_counts()"
   ]
  },
  {
   "cell_type": "code",
   "execution_count": 14,
   "id": "b953c971-7c68-4c88-b9ab-36db10bdf9e4",
   "metadata": {
    "scrolled": true
   },
   "outputs": [
    {
     "data": {
      "text/plain": [
       "tweet_text                                            1\n",
       "is_there_an_emotion_directed_at_a_brand_or_product    0\n",
       "dtype: int64"
      ]
     },
     "execution_count": 14,
     "metadata": {},
     "output_type": "execute_result"
    }
   ],
   "source": [
    "data.isnull().sum()"
   ]
  },
  {
   "cell_type": "code",
   "execution_count": 15,
   "id": "b859bda2-3618-4ebd-8bcd-f2db93e21a65",
   "metadata": {},
   "outputs": [],
   "source": [
    "data = data.dropna(subset=['tweet_text'])"
   ]
  },
  {
   "cell_type": "code",
   "execution_count": 16,
   "id": "008f95b0-0c1c-4e41-9901-e11e421a5dc8",
   "metadata": {},
   "outputs": [
    {
     "data": {
      "text/plain": [
       "tweet_text                                            0\n",
       "is_there_an_emotion_directed_at_a_brand_or_product    0\n",
       "dtype: int64"
      ]
     },
     "execution_count": 16,
     "metadata": {},
     "output_type": "execute_result"
    }
   ],
   "source": [
    "data.isnull().sum()"
   ]
  },
  {
   "cell_type": "code",
   "execution_count": 17,
   "id": "ce9f8ee1-c10b-4d5b-a794-92782934d16a",
   "metadata": {},
   "outputs": [],
   "source": [
    "data = data.drop_duplicates()"
   ]
  },
  {
   "cell_type": "code",
   "execution_count": 18,
   "id": "47e4575e-dc5b-4676-afe3-dd6372debb95",
   "metadata": {},
   "outputs": [
    {
     "data": {
      "text/plain": [
       "0"
      ]
     },
     "execution_count": 18,
     "metadata": {},
     "output_type": "execute_result"
    }
   ],
   "source": [
    "data.isnull().sum()\n",
    "data.duplicated().sum()"
   ]
  },
  {
   "cell_type": "code",
   "execution_count": 19,
   "id": "ffcd6225-e511-4476-aeb0-6eebe75080f7",
   "metadata": {},
   "outputs": [
    {
     "data": {
      "text/plain": [
       "is_there_an_emotion_directed_at_a_brand_or_product\n",
       "No emotion toward brand or product    5375\n",
       "Positive emotion                      2970\n",
       "Negative emotion                       569\n",
       "I can't tell                           156\n",
       "Name: count, dtype: int64"
      ]
     },
     "execution_count": 19,
     "metadata": {},
     "output_type": "execute_result"
    }
   ],
   "source": [
    "data.is_there_an_emotion_directed_at_a_brand_or_product.value_counts()"
   ]
  },
  {
   "cell_type": "code",
   "execution_count": 20,
   "id": "96f2d8bd-968d-46b6-b691-3d509fec5a8f",
   "metadata": {},
   "outputs": [
    {
     "data": {
      "text/plain": [
       "Index(['tweet_text', 'is_there_an_emotion_directed_at_a_brand_or_product'], dtype='object')"
      ]
     },
     "execution_count": 20,
     "metadata": {},
     "output_type": "execute_result"
    }
   ],
   "source": [
    "data.columns"
   ]
  },
  {
   "cell_type": "code",
   "execution_count": 21,
   "id": "4de9781d-16af-43fe-9d18-fb9f28bbeed5",
   "metadata": {},
   "outputs": [
    {
     "data": {
      "text/plain": [
       "is_there_an_emotion_directed_at_a_brand_or_product\n",
       "No emotion toward brand or product    5375\n",
       "Positive emotion                      2970\n",
       "Negative emotion                       569\n",
       "I can't tell                           156\n",
       "Name: count, dtype: int64"
      ]
     },
     "execution_count": 21,
     "metadata": {},
     "output_type": "execute_result"
    }
   ],
   "source": [
    "data.is_there_an_emotion_directed_at_a_brand_or_product.value_counts()"
   ]
  },
  {
   "cell_type": "code",
   "execution_count": 22,
   "id": "4c247ea6-2a60-4684-84a5-25f5fe131526",
   "metadata": {},
   "outputs": [],
   "source": [
    "# Initialize lemmatizer and stopwords\n",
    "lemmatizer = WordNetLemmatizer()\n",
    "stop_words = set(stopwords.words('english'))\n",
    "\n",
    "class TextCleaner(BaseEstimator, TransformerMixin):\n",
    "    def __init__(self):\n",
    "        self.lemmatizer = WordNetLemmatizer()\n",
    "        self.stop_words = set(stopwords.words('english'))\n",
    "\n",
    "    def clean_text(self, text):\n",
    "        text = text.lower()\n",
    "        text = re.sub(r'http\\S+|www\\S+', '', text)\n",
    "        text = re.sub(r'@\\w+', '', text)\n",
    "        text = re.sub(r'#', '', text)\n",
    "        text = re.sub(r'\\d+', '', text)\n",
    "        text = text.translate(str.maketrans('', '', string.punctuation))\n",
    "        tokens = word_tokenize(text)\n",
    "        tokens = [t for t in tokens if t not in self.stop_words]\n",
    "        tokens = [self.lemmatizer.lemmatize(t) for t in tokens]\n",
    "        return ' '.join(tokens)\n",
    "\n",
    "    def fit(self, X, y=None):\n",
    "        return self\n",
    "\n",
    "    def transform(self, X):\n",
    "        return X.apply(self.clean_text)"
   ]
  },
  {
   "cell_type": "code",
   "execution_count": 23,
   "id": "a3031407-92ce-402e-a6e2-5b48019acb60",
   "metadata": {},
   "outputs": [],
   "source": [
    "# Binary target\n",
    "data['binary_target'] = data['is_there_an_emotion_directed_at_a_brand_or_product'].map({\n",
    "    'Positive emotion': 1,\n",
    "    'Negative emotion': 0\n",
    "})\n",
    "\n",
    "# Multiclass target (example mapping)\n",
    "data['multiclass_target'] = data['is_there_an_emotion_directed_at_a_brand_or_product'].map({\n",
    "    'Positive emotion': 'positive',\n",
    "    'Negative emotion': 'negative',\n",
    "    'No emotion toward brand or product': 'neutral',\n",
    "    'I can’t tell': 'uncertain'\n",
    "})"
   ]
  },
  {
   "cell_type": "code",
   "execution_count": 24,
   "id": "02b039a9-8462-4307-9012-ef1a49de9fc2",
   "metadata": {
    "scrolled": true
   },
   "outputs": [
    {
     "data": {
      "text/plain": [
       "multiclass_target\n",
       "neutral     5375\n",
       "positive    2970\n",
       "negative     569\n",
       "Name: count, dtype: int64"
      ]
     },
     "execution_count": 24,
     "metadata": {},
     "output_type": "execute_result"
    }
   ],
   "source": [
    "data.multiclass_target.value_counts()"
   ]
  },
  {
   "cell_type": "code",
   "execution_count": 25,
   "id": "d22e626f-a8c6-4632-bdb6-a45546487efc",
   "metadata": {},
   "outputs": [],
   "source": [
    "#Keeping only rows that have binary labels\n",
    "bin_data = data[data['is_there_an_emotion_directed_at_a_brand_or_product'].isin(['Positive emotion', 'Negative emotion'])]\n",
    "\n",
    "# Droping any possible NaNs\n",
    "bin_data = bin_data.dropna(subset=['binary_target'])\n",
    "\n",
    "# target and feature\n",
    "X = bin_data['tweet_text']\n",
    "y = bin_data['binary_target']\n",
    "\n",
    "X_train, X_test, y_train, y_test = train_test_split(\n",
    "    X, y, test_size=0.2, stratify=y, random_state=42\n",
    ")"
   ]
  },
  {
   "cell_type": "code",
   "execution_count": 26,
   "id": "a9143edf-f7ba-4870-8250-4b44c5514fe1",
   "metadata": {},
   "outputs": [],
   "source": [
    "# Droping Nans\n",
    "multi_data = data.dropna(subset=['multiclass_target'])\n",
    "\n",
    "#Features and target\n",
    "X_multi = multi_data['tweet_text']\n",
    "y_multi = multi_data['multiclass_target']\n",
    "\n",
    "# Train test split\n",
    "X_train_multi, X_test_multi, y_train_multi, y_test_multi = train_test_split(\n",
    "    X_multi, y_multi, test_size=0.2, stratify=y_multi, random_state=42\n",
    ")"
   ]
  },
  {
   "cell_type": "code",
   "execution_count": 27,
   "id": "cd17807f-0436-4ceb-a6e2-7371994d3b74",
   "metadata": {},
   "outputs": [],
   "source": [
    "base_pipeline = ImbPipeline([\n",
    "    ('cleaner', TextCleaner()),  \n",
    "    ('tfidf', TfidfVectorizer(max_features=10000, ngram_range=(1,2))),  \n",
    "    ('smote', SMOTE(random_state=42)),  \n",
    "    ('model', LogisticRegression(max_iter=1000, random_state=42))  # placeholder model\n",
    "])"
   ]
  },
  {
   "cell_type": "code",
   "execution_count": 28,
   "id": "804d17b3-07aa-42cf-8ddf-258028f728f4",
   "metadata": {},
   "outputs": [],
   "source": [
    " # Base Pipeline for multi class\n",
    "base_pipeline_multi = ImbPipeline([\n",
    "    ('cleaner', TextCleaner()),\n",
    "    ('tfidf', TfidfVectorizer(max_features=10000, ngram_range=(1, 2))),\n",
    "    ('smote', SMOTE(random_state=42)),\n",
    "    ('model', LogisticRegression(max_iter=1000, random_state=42, multi_class='multinomial'))\n",
    "])"
   ]
  },
  {
   "cell_type": "code",
   "execution_count": 29,
   "id": "1edbe776-852e-4b1d-8b9a-8285dd13bc29",
   "metadata": {},
   "outputs": [],
   "source": [
    "# Encode target labels for XGBOOST\n",
    "le = LabelEncoder()\n",
    "y_train_enc = le.fit_transform(y_train_multi)\n",
    "y_test_enc = le.transform(y_test_multi)\n",
    "\n",
    "# Define the XGBoost pipeline\n",
    "pipeline_xgb_multi = ImbPipeline([\n",
    "    ('cleaner', TextCleaner()), \n",
    "    ('tfidf', TfidfVectorizer(max_features=10000, ngram_range=(1, 2))),\n",
    "    ('smote', SMOTE(random_state=42)),\n",
    "    ('model', XGBClassifier(\n",
    "        n_estimators=300,\n",
    "        learning_rate=0.1,\n",
    "        max_depth=6,\n",
    "        subsample=0.8,\n",
    "        colsample_bytree=0.8,\n",
    "        random_state=42,\n",
    "        objective='multi:softmax',\n",
    "        num_class=3,\n",
    "        eval_metric='mlogloss'\n",
    "    ))\n",
    "])"
   ]
  },
  {
   "cell_type": "markdown",
   "id": "ffec6c9f-5166-4325-bdad-4f3051d1a6cc",
   "metadata": {},
   "source": [
    "## Modeling"
   ]
  },
  {
   "cell_type": "markdown",
   "id": "c0c77705-206b-4ae4-be5c-7c19e5db757d",
   "metadata": {},
   "source": [
    "### Binary Classifier"
   ]
  },
  {
   "cell_type": "code",
   "execution_count": 30,
   "id": "20795f03-f50f-45a8-b850-7e81f8ad4959",
   "metadata": {},
   "outputs": [],
   "source": [
    "# training a Logistic Regression\n",
    "pipeline_lr = base_pipeline.set_params(model=LogisticRegression(max_iter=1000, random_state=42))\n",
    "pipeline_lr.fit(X_train, y_train)\n",
    "y_pred_lr = pipeline_lr.predict(X_test)"
   ]
  },
  {
   "cell_type": "code",
   "execution_count": 31,
   "id": "7e69c9be-7535-45e3-92c1-deef87c2d18f",
   "metadata": {},
   "outputs": [],
   "source": [
    "# training a Random Forest\n",
    "pipeline_rf = base_pipeline.set_params(model=RandomForestClassifier(n_estimators=200, random_state=42,class_weight='balanced'))\n",
    "pipeline_rf.fit(X_train, y_train)\n",
    "y_pred_rf = pipeline_rf.predict(X_test)"
   ]
  },
  {
   "cell_type": "code",
   "execution_count": 32,
   "id": "daa43460-34cc-46f5-9639-485d3b7cc43b",
   "metadata": {},
   "outputs": [],
   "source": [
    "# training a XGBoost\n",
    "pipeline_xgb = base_pipeline.set_params(model=XGBClassifier(eval_metric='logloss', random_state=42))\n",
    "pipeline_xgb.fit(X_train, y_train)\n",
    "y_pred_xgb = pipeline_xgb.predict(X_test)"
   ]
  },
  {
   "cell_type": "markdown",
   "id": "e9f79e62-26bc-4dde-bfbe-e0e7c15451cd",
   "metadata": {},
   "source": [
    "# Multi Class Classifier"
   ]
  },
  {
   "cell_type": "code",
   "execution_count": 33,
   "id": "e213b64e-d296-4b1c-ae28-7568a3f81115",
   "metadata": {},
   "outputs": [],
   "source": [
    "# Logistic Regression\n",
    "pipeline_lr_multi = base_pipeline_multi.set_params(\n",
    "    model=LogisticRegression(max_iter=1000, random_state=42, multi_class='multinomial', class_weight='balanced')\n",
    ")\n",
    "pipeline_lr_multi.fit(X_train_multi, y_train_multi)\n",
    "y_pred_lr_multi = pipeline_lr_multi.predict(y_test_multi)"
   ]
  },
  {
   "cell_type": "code",
   "execution_count": 34,
   "id": "8b4e1b06-fec5-4fbd-b901-5eb56936fa27",
   "metadata": {},
   "outputs": [],
   "source": [
    "# Random Forest\n",
    "pipeline_rf_multi = base_pipeline_multi.set_params(\n",
    "    model=RandomForestClassifier(n_estimators=200, random_state=42, class_weight='balanced')\n",
    ")\n",
    "pipeline_rf_multi.fit(X_train_multi, y_train_multi)\n",
    "y_pred_rf_multi = pipeline_rf_multi.predict(y_test_multi)"
   ]
  },
  {
   "cell_type": "code",
   "execution_count": 35,
   "id": "f1df9f6b-1754-4aae-ad90-0b9d709769ac",
   "metadata": {},
   "outputs": [],
   "source": [
    "# Training the model\n",
    "pipeline_xgb_multi.fit(X_train_multi, y_train_enc)\n",
    "y_pred_xgb_enc = pipeline_xgb_multi.predict(X_test_multi)\n",
    "# Decode numeric predictions back to string labels\n",
    "y_pred_xgb_multi = le.inverse_transform(y_pred_xgb_enc)"
   ]
  },
  {
   "cell_type": "code",
   "execution_count": 36,
   "id": "c6d90edd-17ec-4126-9ff7-34ac839616d5",
   "metadata": {},
   "outputs": [
    {
     "name": "stdout",
     "output_type": "stream",
     "text": [
      "\n",
      " Results for Logistic Regression\n",
      " Accuracy: 0.8602\n",
      "              precision    recall  f1-score   support\n",
      "\n",
      "    Negative       0.56      0.58      0.57       114\n",
      "    Positive       0.92      0.91      0.92       594\n",
      "\n",
      "    accuracy                           0.86       708\n",
      "   macro avg       0.74      0.75      0.74       708\n",
      "weighted avg       0.86      0.86      0.86       708\n",
      "\n"
     ]
    },
    {
     "data": {
      "image/png": "[encoded data removed]",
      "text/plain": [
       "<Figure size 640x480 with 2 Axes>"
      ]
     },
     "metadata": {},
     "output_type": "display_data"
    },
    {
     "name": "stdout",
     "output_type": "stream",
     "text": [
      "\n",
      " Results for Random Forest\n",
      " Accuracy: 0.8757\n",
      "              precision    recall  f1-score   support\n",
      "\n",
      "    Negative       0.80      0.31      0.44       114\n",
      "    Positive       0.88      0.98      0.93       594\n",
      "\n",
      "    accuracy                           0.88       708\n",
      "   macro avg       0.84      0.65      0.69       708\n",
      "weighted avg       0.87      0.88      0.85       708\n",
      "\n"
     ]
    },
    {
     "data": {
      "image/png": "[encoded data removed]",
      "text/plain": [
       "<Figure size 640x480 with 2 Axes>"
      ]
     },
     "metadata": {},
     "output_type": "display_data"
    },
    {
     "name": "stdout",
     "output_type": "stream",
     "text": [
      "\n",
      " Results for XGBoost\n",
      " Accuracy: 0.8460\n",
      "              precision    recall  f1-score   support\n",
      "\n",
      "    Negative       0.54      0.32      0.40       114\n",
      "    Positive       0.88      0.95      0.91       594\n",
      "\n",
      "    accuracy                           0.85       708\n",
      "   macro avg       0.71      0.64      0.66       708\n",
      "weighted avg       0.82      0.85      0.83       708\n",
      "\n"
     ]
    },
    {
     "data": {
      "image/png": "[encoded data removed]",
      "text/plain": [
       "<Figure size 640x480 with 2 Axes>"
      ]
     },
     "metadata": {},
     "output_type": "display_data"
    }
   ],
   "source": [
    "# Binary Evaluations\n",
    "def evaluate_model(name, y_test, y_pred):\n",
    "    # Accuracy\n",
    "    acc = accuracy_score(y_test, y_pred)\n",
    "    \n",
    "    print(f\"\\n Results for {name}\")\n",
    "    print(f\" Accuracy: {acc:.4f}\")\n",
    "    print(classification_report(y_test, y_pred, target_names=['Negative', 'Positive']))\n",
    "    \n",
    "    # Confusion Matrix\n",
    "    cm = confusion_matrix(y_test, y_pred)\n",
    "    disp = ConfusionMatrixDisplay(confusion_matrix=cm, display_labels=['Negative', 'Positive'])\n",
    "    disp.plot(cmap='Blues', values_format='d')\n",
    "    plt.title(f\"Confusion Matrix - {name} (Acc: {acc:.2f})\")\n",
    "    plt.grid(False)\n",
    "    plt.show()\n",
    "\n",
    "evaluate_model(\"Logistic Regression\", y_test, y_pred_lr)\n",
    "evaluate_model(\"Random Forest\", y_test, y_pred_rf)\n",
    "evaluate_model(\"XGBoost\", y_test, y_pred_xgb)"
   ]
  },
  {
   "cell_type": "code",
   "execution_count": 37,
   "id": "2b140b69-faf5-41b9-a799-29d1dcbb35d3",
   "metadata": {},
   "outputs": [
    {
     "name": "stdout",
     "output_type": "stream",
     "text": [
      "\n",
      " Results for Logistic Regression (Multiclass)\n",
      " Accuracy: 0.9361\n",
      "              precision    recall  f1-score   support\n",
      "\n",
      "    negative       0.00      0.00      0.00       114\n",
      "     neutral       0.90      1.00      0.95      1075\n",
      "    positive       1.00      1.00      1.00       594\n",
      "\n",
      "    accuracy                           0.94      1783\n",
      "   macro avg       0.63      0.67      0.65      1783\n",
      "weighted avg       0.88      0.94      0.91      1783\n",
      "\n"
     ]
    },
    {
     "data": {
      "image/png": "[encoded data removed]",
      "text/plain": [
       "<Figure size 640x480 with 2 Axes>"
      ]
     },
     "metadata": {},
     "output_type": "display_data"
    },
    {
     "name": "stdout",
     "output_type": "stream",
     "text": [
      "\n",
      " Results for Random Forest (Multiclass)\n",
      " Accuracy: 0.6029\n",
      "              precision    recall  f1-score   support\n",
      "\n",
      "    negative       0.00      0.00      0.00       114\n",
      "     neutral       0.60      1.00      0.75      1075\n",
      "    positive       0.00      0.00      0.00       594\n",
      "\n",
      "    accuracy                           0.60      1783\n",
      "   macro avg       0.20      0.33      0.25      1783\n",
      "weighted avg       0.36      0.60      0.45      1783\n",
      "\n"
     ]
    },
    {
     "data": {
      "image/png": "[encoded data removed]",
      "text/plain": [
       "<Figure size 640x480 with 2 Axes>"
      ]
     },
     "metadata": {},
     "output_type": "display_data"
    }
   ],
   "source": [
    "# Multi Class Evaluation Function\n",
    "def evaluate_model(name, y_test, y_pred):\n",
    "    acc = accuracy_score(y_test, y_pred)\n",
    "    print(f\"\\n Results for {name}\")\n",
    "    print(f\" Accuracy: {acc:.4f}\")\n",
    "    print(classification_report(y_test, y_pred))\n",
    "    \n",
    "    cm = confusion_matrix(y_test, y_pred)\n",
    "    disp = ConfusionMatrixDisplay(confusion_matrix=cm, display_labels=sorted(y_test.unique()))\n",
    "    disp.plot(cmap='Blues', values_format='d')\n",
    "    plt.title(f\"Confusion Matrix - {name} (Acc: {acc:.2f})\")\n",
    "    plt.grid(False)\n",
    "    plt.show()\n",
    "\n",
    "# Evaluating both models for multi class\n",
    "evaluate_model(\"Logistic Regression (Multiclass)\", y_test_multi, y_pred_lr_multi)\n",
    "evaluate_model(\"Random Forest (Multiclass)\", y_test_multi, y_pred_rf_multi)"
   ]
  },
  {
   "cell_type": "code",
   "execution_count": 40,
   "id": "e97c6b4e-0da2-4e2d-9105-3fee083e4de8",
   "metadata": {
    "scrolled": true
   },
   "outputs": [
    {
     "name": "stdout",
     "output_type": "stream",
     "text": [
      "\n",
      " Results for XGBoost (Multiclass)\n",
      "Accuracy: 0.6697\n",
      "              precision    recall  f1-score   support\n",
      "\n",
      "    negative       0.43      0.28      0.34       114\n",
      "     neutral       0.70      0.84      0.76      1075\n",
      "    positive       0.62      0.44      0.52       594\n",
      "\n",
      "    accuracy                           0.67      1783\n",
      "   macro avg       0.58      0.52      0.54      1783\n",
      "weighted avg       0.66      0.67      0.65      1783\n",
      "\n"
     ]
    },
    {
     "data": {
      "image/png": "[encoded data removed]",
      "text/plain": [
       "<Figure size 640x480 with 2 Axes>"
      ]
     },
     "metadata": {},
     "output_type": "display_data"
    }
   ],
   "source": [
    "# Evaluatioions of XGBOOST\n",
    "acc = accuracy_score(y_test_multi, y_pred_xgb_multi)\n",
    "print(f\"\\n Results for XGBoost (Multiclass)\")\n",
    "print(f\"Accuracy: {acc:.4f}\")\n",
    "print(classification_report(y_test_multi, y_pred_xgb_multi))\n",
    "\n",
    "cm = confusion_matrix(y_test_multi, y_pred_xgb_multi, labels=le.classes_)\n",
    "disp = ConfusionMatrixDisplay(confusion_matrix=cm, display_labels=le.classes_)\n",
    "disp.plot(cmap='Blues', values_format='d')\n",
    "plt.title(f\"Confusion Matrix - XGBoost (Acc: {acc:.2f})\")\n",
    "plt.grid(False)\n",
    "plt.show()"
   ]
  }
 ],
 "metadata": {
  "kernelspec": {
   "display_name": "Python 3 (ipykernel)",
   "language": "python",
   "name": "python3"
  },
  "language_info": {
   "codemirror_mode": {
    "name": "ipython",
    "version": 3
   },
   "file_extension": ".py",
   "mimetype": "text/x-python",
   "name": "python",
   "nbconvert_exporter": "python",
   "pygments_lexer": "ipython3",
   "version": "3.12.7"
  }
 },
 "nbformat": 4,
 "nbformat_minor": 5
}
