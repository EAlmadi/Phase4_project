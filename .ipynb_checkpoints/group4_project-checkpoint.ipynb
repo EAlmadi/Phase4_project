{
 "cells": [
  {
   "cell_type": "markdown",
   "id": "957c997d-9245-4450-900d-32e58f2a83b1",
   "metadata": {},
   "source": [
    "# Twitter Sentiment Analysis\n",
    "\n",
    "---\n",
    "\n",
    "## 1. Business Understanding\n",
    "\n",
    "### 1.1 Overview\n",
    "\n",
    "In the modern digital era, social media platforms like Twitter (now X) have become powerful channels for consumers to express opinions, experiences, and emotions about brands, products, and services. These views can significantly influence purchasing decisions, brand reputation, and marketing strategies.\n",
    "\n",
    "Manually tracking and interpreting this vast, unstructured feedback is impractical for companies. As a result, organizations increasingly turn to **Natural Language Processing (NLP)** and **machine learning models** to automatically analyze and interpret tweet sentiments.\n",
    "\n",
    "![NLP Diagram](nlp.image.png)\n",
    "*Figure 1: Illustration of how Natural Language Processing (NLP) processes and classifies text to produce outputs.*\n",
    "\n",
    "---\n",
    "\n",
    "### 1.2 Business Problem\n",
    "\n",
    "Businesses need to understand **how customers feel** about their products and brands in real time. However, the sheer volume and unstructured nature of tweets make manual analysis impossible.\n",
    "\n",
    "The core challenge is to **automatically classify each tweet** as **positive**, **negative**, or **neutral**. This provides actionable insights to:\n",
    "\n",
    "- Identify emerging trends in customer satisfaction or dissatisfaction.\n",
    "- Track public reactions to product launches or campaigns.\n",
    "- Inform data-driven marketing and customer engagement decisions.\n",
    "\n",
    "---\n",
    "\n",
    "### 1.3 Project Objective\n",
    "\n",
    "**Main Objective:**  \n",
    "To **develop an automated sentiment classification model** that accurately analyzes and categorizes sentiments expressed in posts on **X (formerly Twitter)** as **positive, negative, or neutral**, enabling real-time insights into customer perceptions of a brand to support **data-driven marketing** and **brand management decisions**.\n",
    "\n",
    "**Specific Objectives:**  \n",
    "\n",
    "1. **Build a Binary Classification Model:**  \n",
    "   Develop and train a machine learning model to accurately distinguish between **positive** and **negative** sentiments in X posts.  \n",
    "\n",
    "2. **Extend to Multiclass Classification:**  \n",
    "   Enhance the model to classify posts into **three categories**:  \n",
    "   - No emotion toward brand or product (Neutral)\n",
    "   - Positive emotion  \n",
    "   - Negative emotion  \n",
    "   This should be done **while maintaining or improving overall classification performance**.\n",
    "\n",
    "3. **Support Business Decision-Making:**  \n",
    "   Deliver **interpretable sentiment insights** to marketing teams and brand managers to:  \n",
    "   - Optimize campaigns  \n",
    "   - Address customer concerns  \n",
    "   - Enhance brand reputation  \n",
    "\n",
    "---\n",
    "\n",
    "### 1.4 Business Value\n",
    "\n",
    "An accurate sentiment analysis system delivers substantial value to decision-makers by enabling:\n",
    "\n",
    "- **Brand Monitoring**: Track customer feelings about the brand over time.  \n",
    "- **Marketing Optimization**: Pinpoint campaigns that drive positive engagement or negative feedback.  \n",
    "- **Customer Insights**: Uncover pain points or drivers of satisfaction.  \n",
    "- **Faster Decision-Making**: Provide near real-time feedback analysis.  \n",
    "\n",
    "---\n",
    "\n",
    "### 1.5 Research Questions\n",
    "\n",
    "1. **How do customers feel about the company’s products or services**, based on sentiments expressed on Twitter?  \n",
    "2. **What key factors or topics drive positive and negative sentiments** toward the brand on Twitter?  \n",
    "3. **How can Twitter sentiment insights support business decisions**, such as marketing strategies, customer engagement, and brand reputation management?\n",
    "\n",
    "---\n",
    "\n",
    "### 1.6 Success Criteria\n",
    "\n",
    "The project's success will be measured by:\n",
    "\n",
    "1. **Actionable Insights**: The system delivers meaningful customer opinion trends on Twitter, supporting data-driven decisions.  \n",
    "2. **Brand Reputation Tracking**: Enables real-time monitoring of public sentiment, allowing timely responses to issues.  \n",
    "3. **Marketing and Engagement Impact**: Insights improve strategies, engagement, and brand perception based on identified trends.\n"
   ]
  },
  {
   "cell_type": "markdown",
   "id": "f69b67f2-db6a-4579-9cb9-a2b57d552316",
   "metadata": {},
   "source": [
    "## 2. DATA UNDERSTANDING"
   ]
  },
  {
   "cell_type": "markdown",
   "id": "1d41767a-86ef-4b09-8195-32ff4bc99d18",
   "metadata": {},
   "source": [
    "**2.1 Data Source**\n",
    "* The dataset used for this analysis is a text data from CrowdFlower via data.world (https://data.world/crowdflower/brands-and-product-emotions).\n",
    "* It consist of over 9,000 tweets. \n",
    "\n",
    "**2.2 Dataset Description**\n",
    "* Each record(row) in the dataset represents a single tweet text about products from companies like Apple and Google.\n",
    "* Before any preprocessing the columns in the dataset consist of object data types\n",
    "* The key columns in the dataset are:\n",
    "  1. \"tweet_text\"\t- representing the actual text of the tweet\n",
    "  2. \"emotion_in_tweet_is_directed_at\" - representing the company the emotion is directed towards (eg iPhone, Google, iPad)\n",
    "  3. \"is_there_an_emotion_directed_at_a_brand_or_product\" - The sentiment label, it shows whether a tweet is positive, negative or none\n",
    "\n",
    "**2.3 Data Quality**\n",
    "* There is 1 missing value in the \"tweet_text\" column\n",
    "* There are 5802 missing values in \"emotion_in_tweet_is_directed_at\" column.\n",
    "* The dataset is text-heavy, so preprocessing steps like text cleaning, tokenization, and vectorization (TF-IDF) are required before modeling.\n",
    "\n",
    "**2.4 Features & Target**\n",
    "* Features: The main feature is the \"tweet text\", which will be transformed into numerical form using text vectorization technique.\n",
    "* Target Variable: \"is_there_an_emotion_directed_at_a_brand_or_product\" is the target column, representing the tweet’s sentiment (positive, negative, or neutral).\n",
    "\n",
    "\n",
    "**We aim to predict how people feel(positive, negative, neutral) towards Apple and Google products based on the tweet content.**"
   ]
  },
  {
   "cell_type": "code",
   "execution_count": 17,
   "id": "8b0c220f-239b-43a8-bdbd-f86f444d8031",
   "metadata": {},
   "outputs": [
    {
     "data": {
      "text/html": [
       "<div>\n",
       "<style scoped>\n",
       "    .dataframe tbody tr th:only-of-type {\n",
       "        vertical-align: middle;\n",
       "    }\n",
       "\n",
       "    .dataframe tbody tr th {\n",
       "        vertical-align: top;\n",
       "    }\n",
       "\n",
       "    .dataframe thead th {\n",
       "        text-align: right;\n",
       "    }\n",
       "</style>\n",
       "<table border=\"1\" class=\"dataframe\">\n",
       "  <thead>\n",
       "    <tr style=\"text-align: right;\">\n",
       "      <th></th>\n",
       "      <th>tweet_text</th>\n",
       "      <th>emotion_in_tweet_is_directed_at</th>\n",
       "      <th>is_there_an_emotion_directed_at_a_brand_or_product</th>\n",
       "    </tr>\n",
       "  </thead>\n",
       "  <tbody>\n",
       "    <tr>\n",
       "      <th>0</th>\n",
       "      <td>.@wesley83 I have a 3G iPhone. After 3 hrs twe...</td>\n",
       "      <td>iPhone</td>\n",
       "      <td>Negative emotion</td>\n",
       "    </tr>\n",
       "    <tr>\n",
       "      <th>1</th>\n",
       "      <td>@jessedee Know about @fludapp ? Awesome iPad/i...</td>\n",
       "      <td>iPad or iPhone App</td>\n",
       "      <td>Positive emotion</td>\n",
       "    </tr>\n",
       "    <tr>\n",
       "      <th>2</th>\n",
       "      <td>@swonderlin Can not wait for #iPad 2 also. The...</td>\n",
       "      <td>iPad</td>\n",
       "      <td>Positive emotion</td>\n",
       "    </tr>\n",
       "    <tr>\n",
       "      <th>3</th>\n",
       "      <td>@sxsw I hope this year's festival isn't as cra...</td>\n",
       "      <td>iPad or iPhone App</td>\n",
       "      <td>Negative emotion</td>\n",
       "    </tr>\n",
       "    <tr>\n",
       "      <th>4</th>\n",
       "      <td>@sxtxstate great stuff on Fri #SXSW: Marissa M...</td>\n",
       "      <td>Google</td>\n",
       "      <td>Positive emotion</td>\n",
       "    </tr>\n",
       "    <tr>\n",
       "      <th>5</th>\n",
       "      <td>@teachntech00 New iPad Apps For #SpeechTherapy...</td>\n",
       "      <td>NaN</td>\n",
       "      <td>No emotion toward brand or product</td>\n",
       "    </tr>\n",
       "    <tr>\n",
       "      <th>6</th>\n",
       "      <td>NaN</td>\n",
       "      <td>NaN</td>\n",
       "      <td>No emotion toward brand or product</td>\n",
       "    </tr>\n",
       "  </tbody>\n",
       "</table>\n",
       "</div>"
      ],
      "text/plain": [
       "                                          tweet_text  \\\n",
       "0  .@wesley83 I have a 3G iPhone. After 3 hrs twe...   \n",
       "1  @jessedee Know about @fludapp ? Awesome iPad/i...   \n",
       "2  @swonderlin Can not wait for #iPad 2 also. The...   \n",
       "3  @sxsw I hope this year's festival isn't as cra...   \n",
       "4  @sxtxstate great stuff on Fri #SXSW: Marissa M...   \n",
       "5  @teachntech00 New iPad Apps For #SpeechTherapy...   \n",
       "6                                                NaN   \n",
       "\n",
       "  emotion_in_tweet_is_directed_at  \\\n",
       "0                          iPhone   \n",
       "1              iPad or iPhone App   \n",
       "2                            iPad   \n",
       "3              iPad or iPhone App   \n",
       "4                          Google   \n",
       "5                             NaN   \n",
       "6                             NaN   \n",
       "\n",
       "  is_there_an_emotion_directed_at_a_brand_or_product  \n",
       "0                                   Negative emotion  \n",
       "1                                   Positive emotion  \n",
       "2                                   Positive emotion  \n",
       "3                                   Negative emotion  \n",
       "4                                   Positive emotion  \n",
       "5                 No emotion toward brand or product  \n",
       "6                 No emotion toward brand or product  "
      ]
     },
     "execution_count": 17,
     "metadata": {},
     "output_type": "execute_result"
    }
   ],
   "source": [
    "# Load the data\n",
    "import pandas as pd\n",
    "df = pd.read_csv(\"judge-1377884607_tweet_product_company.csv\", encoding=\"ISO-8859-1\")\n",
    "df.head(7)"
   ]
  },
  {
   "cell_type": "code",
   "execution_count": 18,
   "id": "69d27f00-10f3-4a04-a3eb-f6d6255e5537",
   "metadata": {},
   "outputs": [
    {
     "name": "stdout",
     "output_type": "stream",
     "text": [
      "<class 'pandas.core.frame.DataFrame'>\n",
      "RangeIndex: 9093 entries, 0 to 9092\n",
      "Data columns (total 3 columns):\n",
      " #   Column                                              Non-Null Count  Dtype \n",
      "---  ------                                              --------------  ----- \n",
      " 0   tweet_text                                          9092 non-null   object\n",
      " 1   emotion_in_tweet_is_directed_at                     3291 non-null   object\n",
      " 2   is_there_an_emotion_directed_at_a_brand_or_product  9093 non-null   object\n",
      "dtypes: object(3)\n",
      "memory usage: 213.2+ KB\n"
     ]
    }
   ],
   "source": [
    "# basic information about the dataset\n",
    "df.info()"
   ]
  },
  {
   "cell_type": "code",
   "execution_count": 19,
   "id": "9191d349-d9ff-4aad-a12b-8cf8a1fcbba1",
   "metadata": {},
   "outputs": [
    {
     "data": {
      "text/plain": [
       "(9093, 3)"
      ]
     },
     "execution_count": 19,
     "metadata": {},
     "output_type": "execute_result"
    }
   ],
   "source": [
    "# check the shape of dataset\n",
    "df.shape"
   ]
  },
  {
   "cell_type": "code",
   "execution_count": 20,
   "id": "5573219e-8a7d-4643-8fb9-16d2317a643b",
   "metadata": {},
   "outputs": [
    {
     "data": {
      "text/plain": [
       "tweet_text                                               1\n",
       "emotion_in_tweet_is_directed_at                       5802\n",
       "is_there_an_emotion_directed_at_a_brand_or_product       0\n",
       "dtype: int64"
      ]
     },
     "execution_count": 20,
     "metadata": {},
     "output_type": "execute_result"
    }
   ],
   "source": [
    "# check for nall values\n",
    "df.isna().sum()"
   ]
  },
  {
   "cell_type": "code",
   "execution_count": 21,
   "id": "a4bab5a8-076a-4fda-970f-6fe4d7ddde20",
   "metadata": {},
   "outputs": [
    {
     "data": {
      "text/plain": [
       "emotion_in_tweet_is_directed_at\n",
       "iPad                               946\n",
       "Apple                              661\n",
       "iPad or iPhone App                 470\n",
       "Google                             430\n",
       "iPhone                             297\n",
       "Other Google product or service    293\n",
       "Android App                         81\n",
       "Android                             78\n",
       "Other Apple product or service      35\n",
       "Name: count, dtype: int64"
      ]
     },
     "execution_count": 21,
     "metadata": {},
     "output_type": "execute_result"
    }
   ],
   "source": [
    "# check the unique values in \"emotion_in_tweet_is_directed_at\" column\n",
    "df[\"emotion_in_tweet_is_directed_at\"].value_counts()"
   ]
  },
  {
   "cell_type": "code",
   "execution_count": 22,
   "id": "2455b33c-5e85-45fe-ad8d-5dcd6dbbe2ed",
   "metadata": {},
   "outputs": [
    {
     "data": {
      "text/plain": [
       "is_there_an_emotion_directed_at_a_brand_or_product\n",
       "No emotion toward brand or product    5389\n",
       "Positive emotion                      2978\n",
       "Negative emotion                       570\n",
       "I can't tell                           156\n",
       "Name: count, dtype: int64"
      ]
     },
     "execution_count": 22,
     "metadata": {},
     "output_type": "execute_result"
    }
   ],
   "source": [
    "# check the unique values in \"is_there_an_emotion_directed_at_a_brand_or_product\" column\n",
    "df[\"is_there_an_emotion_directed_at_a_brand_or_product\"].value_counts()"
   ]
  },
  {
   "cell_type": "code",
   "execution_count": 23,
   "id": "fea365fc-120b-48e8-a51a-b2cd5125b973",
   "metadata": {},
   "outputs": [],
   "source": [
    "# drop the missing value in the \"text\" column\n",
    "df = df.dropna(subset=[\"tweet_text\"])"
   ]
  },
  {
   "cell_type": "code",
   "execution_count": 24,
   "id": "3f50828a-2003-4c3d-a10b-096d2aebc2ed",
   "metadata": {},
   "outputs": [],
   "source": [
    "# Drop \"emotion_in_tweet_is_directed_at\" column\n",
    "df = df.drop(columns=[\"emotion_in_tweet_is_directed_at\"])"
   ]
  },
  {
   "cell_type": "code",
   "execution_count": 25,
   "id": "5a757a0c-9fc5-4a2f-8bd4-3884dda6d831",
   "metadata": {},
   "outputs": [
    {
     "data": {
      "text/plain": [
       "tweet_text                                            0\n",
       "is_there_an_emotion_directed_at_a_brand_or_product    0\n",
       "dtype: int64"
      ]
     },
     "execution_count": 25,
     "metadata": {},
     "output_type": "execute_result"
    }
   ],
   "source": [
    "# confirm that there are no NaNs\n",
    "df.isna().sum()"
   ]
  },
  {
   "cell_type": "code",
   "execution_count": 26,
   "id": "55b78583-518c-4216-9374-6aef90baf6c9",
   "metadata": {},
   "outputs": [
    {
     "data": {
      "text/plain": [
       "22"
      ]
     },
     "execution_count": 26,
     "metadata": {},
     "output_type": "execute_result"
    }
   ],
   "source": [
    "# check for duplicates\n",
    "df.duplicated().sum()"
   ]
  },
  {
   "cell_type": "markdown",
   "id": "7591b562-fef7-4940-a91f-9a2925e4d986",
   "metadata": {},
   "source": [
    "* There are 22 duplicates in the dataset. These duplicates were droped to avoid bias and to ensure each tweet contribute unique information to the model."
   ]
  },
  {
   "cell_type": "code",
   "execution_count": 27,
   "id": "a8f30753-04cc-41e2-9a88-937f599e0f36",
   "metadata": {},
   "outputs": [],
   "source": [
    "# dropping all duplicates\n",
    "df=df.drop_duplicates()\n"
   ]
  },
  {
   "cell_type": "code",
   "execution_count": 28,
   "id": "fed9b49a-2078-43cc-a880-161dc5c8cf86",
   "metadata": {},
   "outputs": [
    {
     "data": {
      "text/plain": [
       "0"
      ]
     },
     "execution_count": 28,
     "metadata": {},
     "output_type": "execute_result"
    }
   ],
   "source": [
    "# confirm that there are 0 duplicates\n",
    "df.duplicated().sum()"
   ]
  },
  {
   "cell_type": "markdown",
   "id": "fef8a917-4651-4f31-b22c-7167cf3c7ed0",
   "metadata": {},
   "source": [
    "* Perform Data Cleaning and Exploratory Data Analysis with nltk to remove unnecessary characters and noise so that our model only learn from meaningful information.\n",
    "* Common data cleaning tasks to be considered are Standardizing Case & Tokenizing."
   ]
  },
  {
   "cell_type": "code",
   "execution_count": null,
   "id": "ed84887b-43cf-442a-92ba-597fc33791fb",
   "metadata": {},
   "outputs": [],
   "source": []
  }
 ],
 "metadata": {
  "kernelspec": {
   "display_name": "Python 3 (ipykernel)",
   "language": "python",
   "name": "python3"
  },
  "language_info": {
   "codemirror_mode": {
    "name": "ipython",
    "version": 3
   },
   "file_extension": ".py",
   "mimetype": "text/x-python",
   "name": "python",
   "nbconvert_exporter": "python",
   "pygments_lexer": "ipython3",
   "version": "3.11.7"
  }
 },
 "nbformat": 4,
 "nbformat_minor": 5
}
