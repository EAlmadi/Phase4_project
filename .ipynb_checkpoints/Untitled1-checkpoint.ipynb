{
 "cells": [
  {
   "cell_type": "markdown",
   "id": "77846cb6-a5b9-4d96-813f-d12e583a95ee",
   "metadata": {},
   "source": [
    "## DATA UNDERSTANDING"
   ]
  },
  {
   "cell_type": "markdown",
   "id": "32b7b21d-07f9-43d1-9ff0-ef4d32af0a62",
   "metadata": {},
   "source": [
    "**Data Source**\n",
    "* The dataset used for this analysis is a text data from CrowdFlower via data.world (https://data.world/crowdflower/brands-and-product-emotions).\n",
    "* It consist of over 9,000 tweets. \n",
    "\n",
    "**Dataset Description**\n",
    "* Each record(row) in the dataset represents a single tweet text about products from companies like Apple and Google.\n",
    "* Before any preprocessing the columns in the dataset consist of object data types\n",
    "* The key columns in the dataset are:\n",
    "  1. \"tweet_text\"\t- representing the actual text of the tweet\n",
    "  2. \"emotion_in_tweet_is_directed_at\" - representing the company the emotion is directed towards (eg iPhone, Google, iPad)\n",
    "  3. \"is_there_an_emotion_directed_at_a_brand_or_product\" - The sentiment label, it shows whether a tweet is positive, negative or none\n",
    "\n",
    "**Data Quality**\n",
    "* There is 1 missing value in the \"tweet_text\" column\n",
    "* There are 5802 missing values in \"emotion_in_tweet_is_directed_at\" column.\n",
    "* The dataset is text-heavy, so preprocessing steps like text cleaning, tokenization, and vectorization (TF-IDF) are required before modeling.\n",
    "\n",
    "**Features & Targert**\n",
    "* Features: The main feature is the \"tweet text\", which will be transformed into numerical form using text vectorization technique.\n",
    "* Target Variable: \"is_there_an_emotion_directed_at_a_brand_or_product\" is the target column, representing the tweet’s sentiment (positive, negative, or neutral).\n",
    "\n",
    "\n",
    "**We aim to predict how people feel(positive, negative, neutral) towards Apple and Google products based on the tweet content.**"
   ]
  },
  {
   "cell_type": "code",
   "execution_count": 1,
   "id": "3faa6280-40ab-46a3-9478-ef58ce3cda2f",
   "metadata": {},
   "outputs": [
    {
     "data": {
      "text/html": [
       "<div>\n",
       "<style scoped>\n",
       "    .dataframe tbody tr th:only-of-type {\n",
       "        vertical-align: middle;\n",
       "    }\n",
       "\n",
       "    .dataframe tbody tr th {\n",
       "        vertical-align: top;\n",
       "    }\n",
       "\n",
       "    .dataframe thead th {\n",
       "        text-align: right;\n",
       "    }\n",
       "</style>\n",
       "<table border=\"1\" class=\"dataframe\">\n",
       "  <thead>\n",
       "    <tr style=\"text-align: right;\">\n",
       "      <th></th>\n",
       "      <th>tweet_text</th>\n",
       "      <th>emotion_in_tweet_is_directed_at</th>\n",
       "      <th>is_there_an_emotion_directed_at_a_brand_or_product</th>\n",
       "    </tr>\n",
       "  </thead>\n",
       "  <tbody>\n",
       "    <tr>\n",
       "      <th>0</th>\n",
       "      <td>.@wesley83 I have a 3G iPhone. After 3 hrs twe...</td>\n",
       "      <td>iPhone</td>\n",
       "      <td>Negative emotion</td>\n",
       "    </tr>\n",
       "    <tr>\n",
       "      <th>1</th>\n",
       "      <td>@jessedee Know about @fludapp ? Awesome iPad/i...</td>\n",
       "      <td>iPad or iPhone App</td>\n",
       "      <td>Positive emotion</td>\n",
       "    </tr>\n",
       "    <tr>\n",
       "      <th>2</th>\n",
       "      <td>@swonderlin Can not wait for #iPad 2 also. The...</td>\n",
       "      <td>iPad</td>\n",
       "      <td>Positive emotion</td>\n",
       "    </tr>\n",
       "    <tr>\n",
       "      <th>3</th>\n",
       "      <td>@sxsw I hope this year's festival isn't as cra...</td>\n",
       "      <td>iPad or iPhone App</td>\n",
       "      <td>Negative emotion</td>\n",
       "    </tr>\n",
       "    <tr>\n",
       "      <th>4</th>\n",
       "      <td>@sxtxstate great stuff on Fri #SXSW: Marissa M...</td>\n",
       "      <td>Google</td>\n",
       "      <td>Positive emotion</td>\n",
       "    </tr>\n",
       "    <tr>\n",
       "      <th>5</th>\n",
       "      <td>@teachntech00 New iPad Apps For #SpeechTherapy...</td>\n",
       "      <td>NaN</td>\n",
       "      <td>No emotion toward brand or product</td>\n",
       "    </tr>\n",
       "    <tr>\n",
       "      <th>6</th>\n",
       "      <td>NaN</td>\n",
       "      <td>NaN</td>\n",
       "      <td>No emotion toward brand or product</td>\n",
       "    </tr>\n",
       "  </tbody>\n",
       "</table>\n",
       "</div>"
      ],
      "text/plain": [
       "                                          tweet_text  \\\n",
       "0  .@wesley83 I have a 3G iPhone. After 3 hrs twe...   \n",
       "1  @jessedee Know about @fludapp ? Awesome iPad/i...   \n",
       "2  @swonderlin Can not wait for #iPad 2 also. The...   \n",
       "3  @sxsw I hope this year's festival isn't as cra...   \n",
       "4  @sxtxstate great stuff on Fri #SXSW: Marissa M...   \n",
       "5  @teachntech00 New iPad Apps For #SpeechTherapy...   \n",
       "6                                                NaN   \n",
       "\n",
       "  emotion_in_tweet_is_directed_at  \\\n",
       "0                          iPhone   \n",
       "1              iPad or iPhone App   \n",
       "2                            iPad   \n",
       "3              iPad or iPhone App   \n",
       "4                          Google   \n",
       "5                             NaN   \n",
       "6                             NaN   \n",
       "\n",
       "  is_there_an_emotion_directed_at_a_brand_or_product  \n",
       "0                                   Negative emotion  \n",
       "1                                   Positive emotion  \n",
       "2                                   Positive emotion  \n",
       "3                                   Negative emotion  \n",
       "4                                   Positive emotion  \n",
       "5                 No emotion toward brand or product  \n",
       "6                 No emotion toward brand or product  "
      ]
     },
     "execution_count": 1,
     "metadata": {},
     "output_type": "execute_result"
    }
   ],
   "source": [
    "# Load the data\n",
    "import pandas as pd\n",
    "df = pd.read_csv(\"./Data/judge-1377884607_tweet_product_company.csv\", encoding=\"ISO-8859-1\")\n",
    "df.head(7)"
   ]
  },
  {
   "cell_type": "code",
   "execution_count": 2,
   "id": "6386e969-39f9-4ba9-8115-b02e63caba36",
   "metadata": {},
   "outputs": [
    {
     "name": "stdout",
     "output_type": "stream",
     "text": [
      "<class 'pandas.core.frame.DataFrame'>\n",
      "RangeIndex: 9093 entries, 0 to 9092\n",
      "Data columns (total 3 columns):\n",
      " #   Column                                              Non-Null Count  Dtype \n",
      "---  ------                                              --------------  ----- \n",
      " 0   tweet_text                                          9092 non-null   object\n",
      " 1   emotion_in_tweet_is_directed_at                     3291 non-null   object\n",
      " 2   is_there_an_emotion_directed_at_a_brand_or_product  9093 non-null   object\n",
      "dtypes: object(3)\n",
      "memory usage: 213.2+ KB\n"
     ]
    }
   ],
   "source": [
    "# basic information about the dataset\n",
    "df.info()"
   ]
  },
  {
   "cell_type": "code",
   "execution_count": 3,
   "id": "5a6f3654-dee1-4ae9-83e9-082fdc5ecaa7",
   "metadata": {},
   "outputs": [
    {
     "data": {
      "text/plain": [
       "(9093, 3)"
      ]
     },
     "execution_count": 3,
     "metadata": {},
     "output_type": "execute_result"
    }
   ],
   "source": [
    "# check the shape of dataset\n",
    "df.shape"
   ]
  },
  {
   "cell_type": "code",
   "execution_count": 4,
   "id": "8c5ed547-7ea7-4d05-8889-0cd67463438c",
   "metadata": {},
   "outputs": [
    {
     "data": {
      "text/plain": [
       "tweet_text                                               1\n",
       "emotion_in_tweet_is_directed_at                       5802\n",
       "is_there_an_emotion_directed_at_a_brand_or_product       0\n",
       "dtype: int64"
      ]
     },
     "execution_count": 4,
     "metadata": {},
     "output_type": "execute_result"
    }
   ],
   "source": [
    "# check for nall values\n",
    "df.isna().sum()"
   ]
  },
  {
   "cell_type": "code",
   "execution_count": 5,
   "id": "f9d8a5d2-14a0-4b05-b1c7-8ac3f7ce1de0",
   "metadata": {},
   "outputs": [
    {
     "data": {
      "text/plain": [
       "emotion_in_tweet_is_directed_at\n",
       "iPad                               946\n",
       "Apple                              661\n",
       "iPad or iPhone App                 470\n",
       "Google                             430\n",
       "iPhone                             297\n",
       "Other Google product or service    293\n",
       "Android App                         81\n",
       "Android                             78\n",
       "Other Apple product or service      35\n",
       "Name: count, dtype: int64"
      ]
     },
     "execution_count": 5,
     "metadata": {},
     "output_type": "execute_result"
    }
   ],
   "source": [
    "# check the unique values in \"emotion_in_tweet_is_directed_at\" column\n",
    "df[\"emotion_in_tweet_is_directed_at\"].value_counts()"
   ]
  },
  {
   "cell_type": "code",
   "execution_count": 6,
   "id": "fe78a8c7-d54d-477e-8898-e4745ffdc5e9",
   "metadata": {},
   "outputs": [
    {
     "data": {
      "text/plain": [
       "is_there_an_emotion_directed_at_a_brand_or_product\n",
       "No emotion toward brand or product    5389\n",
       "Positive emotion                      2978\n",
       "Negative emotion                       570\n",
       "I can't tell                           156\n",
       "Name: count, dtype: int64"
      ]
     },
     "execution_count": 6,
     "metadata": {},
     "output_type": "execute_result"
    }
   ],
   "source": [
    "# check the unique values in \"is_there_an_emotion_directed_at_a_brand_or_product\" column\n",
    "df[\"is_there_an_emotion_directed_at_a_brand_or_product\"].value_counts()"
   ]
  },
  {
   "cell_type": "code",
   "execution_count": 7,
   "id": "c18ece8e-700b-4169-a3e1-90fdcb9b5d3f",
   "metadata": {},
   "outputs": [],
   "source": [
    "# drop the missing value in the \"text\" column\n",
    "df = df.dropna(subset=[\"tweet_text\"])"
   ]
  },
  {
   "cell_type": "code",
   "execution_count": 8,
   "id": "28c7d1c3-12e7-413b-bfe5-5745f23b82dd",
   "metadata": {},
   "outputs": [],
   "source": [
    "# Drop \"emotion_in_tweet_is_directed_at\" column\n",
    "df = df.drop(columns=[\"emotion_in_tweet_is_directed_at\"])"
   ]
  },
  {
   "cell_type": "code",
   "execution_count": 9,
   "id": "5a7e607d-7fc7-415f-b954-bb966a89e574",
   "metadata": {},
   "outputs": [
    {
     "data": {
      "text/plain": [
       "tweet_text                                            0\n",
       "is_there_an_emotion_directed_at_a_brand_or_product    0\n",
       "dtype: int64"
      ]
     },
     "execution_count": 9,
     "metadata": {},
     "output_type": "execute_result"
    }
   ],
   "source": [
    "# confirm that there are no NaNs\n",
    "df.isna().sum()"
   ]
  },
  {
   "cell_type": "code",
   "execution_count": 10,
   "id": "92597506-f35a-4b3e-8aad-1b7989436a64",
   "metadata": {},
   "outputs": [
    {
     "data": {
      "text/plain": [
       "22"
      ]
     },
     "execution_count": 10,
     "metadata": {},
     "output_type": "execute_result"
    }
   ],
   "source": [
    "# check for duplicates\n",
    "df.duplicated().sum()"
   ]
  },
  {
   "cell_type": "markdown",
   "id": "89d09207-0fe3-4b95-bdab-d023eb9871f4",
   "metadata": {},
   "source": [
    "* There are 22 duplicates in the dataset. These duplicates were droped to avoid bias and to ensure each tweet contribute unique information to the model."
   ]
  },
  {
   "cell_type": "code",
   "execution_count": 11,
   "id": "1611f6cf-63c7-4df4-b87d-7a3c60530fac",
   "metadata": {},
   "outputs": [],
   "source": [
    "# dropping all duplicates\n",
    "df=df.drop_duplicates()\n"
   ]
  },
  {
   "cell_type": "code",
   "execution_count": 13,
   "id": "b30e9bde-219b-4798-be69-56d659b9a55f",
   "metadata": {},
   "outputs": [
    {
     "data": {
      "text/plain": [
       "0"
      ]
     },
     "execution_count": 13,
     "metadata": {},
     "output_type": "execute_result"
    }
   ],
   "source": [
    "# confirm that there are 0 duplicates\n",
    "df.duplicated().sum()"
   ]
  },
  {
   "cell_type": "markdown",
   "id": "3df8ecc8-97c0-4c8f-8d95-0095568070a7",
   "metadata": {},
   "source": [
    "## DATA PREPROCESSING"
   ]
  },
  {
   "cell_type": "markdown",
   "id": "afad7296-e9ee-415c-953d-fdfbb834633f",
   "metadata": {},
   "source": [
    "* Perform Data Cleaning and Exploratory Data Analysis with nltk to remove unnecessary characters and noise so that our model only learn from meaningful information.\n",
    "* Common data cleaning tasks to be considered are Standardizing Case & Tokenizing. "
   ]
  },
  {
   "cell_type": "code",
   "execution_count": 14,
   "id": "e357f99a-1f17-413f-b181-cc196db5adf2",
   "metadata": {},
   "outputs": [
    {
     "data": {
      "text/plain": [
       "\"Need to buy an iPad2 while I'm in Austin at #sxsw. Not sure if I'll need to Q up at an Austin Apple store?\""
      ]
     },
     "execution_count": 14,
     "metadata": {},
     "output_type": "execute_result"
    }
   ],
   "source": [
    "# random example from \"tweet_text\" column\n",
    "df[\"tweet_text\"][20]"
   ]
  },
  {
   "cell_type": "code",
   "execution_count": 15,
   "id": "ff4a6440-c2d3-4549-a818-7cbf8148ebb2",
   "metadata": {},
   "outputs": [],
   "source": [
    "# importing relevant imports\n",
    "import nltk\n",
    "import re\n",
    "from nltk.corpus import stopwords\n",
    "from nltk.stem import WordNetLemmatizer\n",
    "from nltk.tokenize import word_tokenize"
   ]
  },
  {
   "cell_type": "code",
   "execution_count": 16,
   "id": "a316ce1b-282c-4071-b329-4f0c0f9492a8",
   "metadata": {},
   "outputs": [],
   "source": [
    "stop_words = set(stopwords.words('english'))\n",
    "lemmatizer = WordNetLemmatizer()\n",
    "\n",
    "def preprocess_text(text):\n",
    "    # Convert to lowercase\n",
    "    text = str(text).lower()\n",
    "    \n",
    "  \n",
    "    text = re.sub(r\"http\\S+\", \"\", text)             # Remove URLs\n",
    "    text = re.sub(r\"@\\w+\", \"\", text)                # Remove mentions (@user)\n",
    "    text = re.sub(r\"#\\w+\", \"\", text)                # Remove hashtags\n",
    "    text = re.sub(r\"[^a-z\\s]\", \"\", text)            # Remove punctuation, numbers, and special characters\n",
    "    text = re.sub(r\"\\s+\", \" \", text).strip()        # Remove extra spaces\n",
    "    \n",
    "    \n",
    "    # Tokenize (split text into words)\n",
    "    tokens = word_tokenize(text)\n",
    "    \n",
    "    # Remove stopwords and short words\n",
    "    tokens = [word for word in tokens if word not in stop_words and len(word) > 2]\n",
    "    \n",
    "    # Lemmatize each token\n",
    "    tokens = [lemmatizer.lemmatize(word) for word in tokens]\n",
    "    \n",
    "    # Join back into a single string\n",
    "    text = \" \".join(tokens)\n",
    "    \n",
    "    return text\n"
   ]
  },
  {
   "cell_type": "code",
   "execution_count": 17,
   "id": "5873f797-1aec-453a-a2a9-4e3ba6ae678a",
   "metadata": {},
   "outputs": [],
   "source": [
    "# apply the cleaned preprocesssed function to new column \"clean_tweet\"\"\n",
    "df[\"clean_tweet\"] = df[\"tweet_text\"].apply(preprocess_text)"
   ]
  },
  {
   "cell_type": "markdown",
   "id": "f3f62033-7d54-40ac-9329-5de64b8b4ba2",
   "metadata": {},
   "source": [
    "* Perform a basic EDA on the cleaned tweet texts column to see the words distribution"
   ]
  },
  {
   "cell_type": "code",
   "execution_count": 18,
   "id": "fa777894-e8b9-455a-970a-295a88b8564c",
   "metadata": {},
   "outputs": [
    {
     "data": {
      "image/png": "[encoded data removed]",
      "text/plain": [
       "<Figure size 1200x600 with 1 Axes>"
      ]
     },
     "metadata": {},
     "output_type": "display_data"
    }
   ],
   "source": [
    "from nltk.probability import FreqDist\n",
    "import matplotlib.pyplot as plt\n",
    "\n",
    "# Combine all cleaned tweets\n",
    "all_words_clean = ' '.join(df['clean_tweet'].astype(str))\n",
    "tokens_clean = nltk.word_tokenize(all_words_clean)\n",
    "\n",
    "# instantiate frequency distribution\n",
    "fdist_clean = FreqDist(tokens_clean)\n",
    "\n",
    "# plot\n",
    "plt.figure(figsize=(12,6))\n",
    "fdist_clean.plot(20, title=\"Top 20 Most Frequent Words in Cleaned Tweets\")\n",
    "plt.show()\n"
   ]
  },
  {
   "cell_type": "code",
   "execution_count": null,
   "id": "6a76ec16-ca36-4091-8405-414d63db695f",
   "metadata": {},
   "outputs": [],
   "source": []
  }
 ],
 "metadata": {
  "kernelspec": {
   "display_name": "Python 3 (ipykernel)",
   "language": "python",
   "name": "python3"
  },
  "language_info": {
   "codemirror_mode": {
    "name": "ipython",
    "version": 3
   },
   "file_extension": ".py",
   "mimetype": "text/x-python",
   "name": "python",
   "nbconvert_exporter": "python",
   "pygments_lexer": "ipython3",
   "version": "3.11.7"
  }
 },
 "nbformat": 4,
 "nbformat_minor": 5
}
