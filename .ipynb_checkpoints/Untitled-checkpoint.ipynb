{
 "cells": [
  {
   "cell_type": "markdown",
   "id": "9899c3f9-da6d-4def-8e71-e162589cd665",
   "metadata": {},
   "source": [
    "# TWITTER SENTIMENT ANALYSIS ON APPLE & GOOGLE PRODUCTS"
   ]
  },
  {
   "cell_type": "markdown",
   "id": "b359d8ca-7672-43ca-a687-843088974a7e",
   "metadata": {},
   "source": [
    "### BUSINESS OVERVIEW"
   ]
  },
  {
   "cell_type": "markdown",
   "id": "cd59adc3-5a47-4ec3-9928-638f9405683a",
   "metadata": {},
   "source": [
    "This project uses the Natural Language Processing (NLP) to analyze Twitter posts and understand how customers feel about Apple and Google products. \n",
    "The model classifies tweets into positive, negative, or neutral sentiments. Positive sentiment represents a positive feedback while negative sentiment\n",
    "represents a negative feedback suggesting customer dissatisfaction. The aim of this project is to help companies like Apple and Google monitor public\n",
    "opinion, identify customer concerns and make better marketing & product decisions based on real-world feedback."
   ]
  },
  {
   "cell_type": "markdown",
   "id": "2fe55811-c39a-4cee-916d-2dd581c58b0f",
   "metadata": {},
   "source": [
    "### PROBLEM STATEMENT"
   ]
  },
  {
   "cell_type": "markdown",
   "id": "88afa191-d981-4979-b91c-2ba000f2256d",
   "metadata": {},
   "source": [
    "Google and Apple companies receive thousands of tweets daily from customers sharing opinions about their products and services. Manually analyzing\n",
    "these large number of text to understand public opinion is time consuming. Building an automated model that can accurately clasiffy tweets as \n",
    "positive, negative, or neutral can help these companies track their brand perception, detect customer issues early and make insightful marketing &\n",
    "product decisions."
   ]
  },
  {
   "cell_type": "markdown",
   "id": "39f6af93-bfc3-4d02-80ee-1e4b04268aba",
   "metadata": {},
   "source": [
    "## BUSINESS OBJECTIVE"
   ]
  },
  {
   "cell_type": "markdown",
   "id": "bef916c6-199d-4105-9290-33b9c868968c",
   "metadata": {},
   "source": [
    "The main objective of this project is to build a NLP model that automatically analyzes tweets about Apple and Google products and classifies them \n",
    "as positive, negative, or neutral. This will help the companies monitor public sentiment and make data-driven decisions that will improve \n",
    "customer satisfaction and strengthen the company reputation."
   ]
  },
  {
   "cell_type": "markdown",
   "id": "2a93569d-caa4-4106-97ab-f10e250f8b1d",
   "metadata": {},
   "source": [
    "## DATA UNDERSTANDING"
   ]
  },
  {
   "cell_type": "markdown",
   "id": "1650a811-9c81-4e04-8597-95ae2960d19d",
   "metadata": {},
   "source": [
    "**Data Source**\n",
    "* The dataset used for this analysis is a text data from CrowdFlower via data.world (https://data.world/crowdflower/brands-and-product-emotions).\n",
    "* It consist of over 9,000 tweets. \n",
    "\n",
    "**Dataset Description**\n",
    "* Each record(row) in the dataset represents a single tweet text about products from companies like Apple and Google.\n",
    "* Before any preprocessing the columns in the dataset consist object data types\n",
    "* The key columns in the dataset are:\n",
    "  1. \"tweet_text\"\t- representing the actual text of the tweet\n",
    "  2. \"emotion_in_tweet_is_directed_at\" - representing the company the emotion is directed towards (eg iPhone, Google, iPad)\n",
    "  3. \"is_there_an_emotion_directed_at_a_brand_or_product\" - The sentiment label, it shows whether a tweet is positive, negative or none\n",
    "\n",
    "**Data Quality**\n",
    "* There is 1 missing value in the \"tweet_text\" column\n",
    "* There are 5802 missing values in \"emotion_in_tweet_is_directed_at\" column.\n",
    "* The dataset is text-heavy, so preprocessing steps like text cleaning, tokenization, and vectorization (TF-IDF) are required before modeling.\n",
    "\n",
    "**Features & Target**\n",
    "* Features: The main feature is the \"tweet text\", which will be transformed into numerical form using text vectorization techniques.\n",
    "* Target Variable: \"is_there_an_emotion_directed_at_a_brand_or_product\" is the target column, representing the tweet’s sentiment (positive, negative, or neutral).\n",
    "\n",
    "\n",
    "**We aim to predict how people feel(positive, negative, neutral) towards Apple and Google products based on the tweet content.**"
   ]
  },
  {
   "cell_type": "code",
   "execution_count": 20,
   "id": "5479bb8c-a743-4baa-a060-19fd21d58312",
   "metadata": {},
   "outputs": [
    {
     "data": {
      "text/html": [
       "<div>\n",
       "<style scoped>\n",
       "    .dataframe tbody tr th:only-of-type {\n",
       "        vertical-align: middle;\n",
       "    }\n",
       "\n",
       "    .dataframe tbody tr th {\n",
       "        vertical-align: top;\n",
       "    }\n",
       "\n",
       "    .dataframe thead th {\n",
       "        text-align: right;\n",
       "    }\n",
       "</style>\n",
       "<table border=\"1\" class=\"dataframe\">\n",
       "  <thead>\n",
       "    <tr style=\"text-align: right;\">\n",
       "      <th></th>\n",
       "      <th>tweet_text</th>\n",
       "      <th>emotion_in_tweet_is_directed_at</th>\n",
       "      <th>is_there_an_emotion_directed_at_a_brand_or_product</th>\n",
       "    </tr>\n",
       "  </thead>\n",
       "  <tbody>\n",
       "    <tr>\n",
       "      <th>0</th>\n",
       "      <td>.@wesley83 I have a 3G iPhone. After 3 hrs twe...</td>\n",
       "      <td>iPhone</td>\n",
       "      <td>Negative emotion</td>\n",
       "    </tr>\n",
       "    <tr>\n",
       "      <th>1</th>\n",
       "      <td>@jessedee Know about @fludapp ? Awesome iPad/i...</td>\n",
       "      <td>iPad or iPhone App</td>\n",
       "      <td>Positive emotion</td>\n",
       "    </tr>\n",
       "    <tr>\n",
       "      <th>2</th>\n",
       "      <td>@swonderlin Can not wait for #iPad 2 also. The...</td>\n",
       "      <td>iPad</td>\n",
       "      <td>Positive emotion</td>\n",
       "    </tr>\n",
       "    <tr>\n",
       "      <th>3</th>\n",
       "      <td>@sxsw I hope this year's festival isn't as cra...</td>\n",
       "      <td>iPad or iPhone App</td>\n",
       "      <td>Negative emotion</td>\n",
       "    </tr>\n",
       "    <tr>\n",
       "      <th>4</th>\n",
       "      <td>@sxtxstate great stuff on Fri #SXSW: Marissa M...</td>\n",
       "      <td>Google</td>\n",
       "      <td>Positive emotion</td>\n",
       "    </tr>\n",
       "    <tr>\n",
       "      <th>5</th>\n",
       "      <td>@teachntech00 New iPad Apps For #SpeechTherapy...</td>\n",
       "      <td>NaN</td>\n",
       "      <td>No emotion toward brand or product</td>\n",
       "    </tr>\n",
       "    <tr>\n",
       "      <th>6</th>\n",
       "      <td>NaN</td>\n",
       "      <td>NaN</td>\n",
       "      <td>No emotion toward brand or product</td>\n",
       "    </tr>\n",
       "  </tbody>\n",
       "</table>\n",
       "</div>"
      ],
      "text/plain": [
       "                                          tweet_text  \\\n",
       "0  .@wesley83 I have a 3G iPhone. After 3 hrs twe...   \n",
       "1  @jessedee Know about @fludapp ? Awesome iPad/i...   \n",
       "2  @swonderlin Can not wait for #iPad 2 also. The...   \n",
       "3  @sxsw I hope this year's festival isn't as cra...   \n",
       "4  @sxtxstate great stuff on Fri #SXSW: Marissa M...   \n",
       "5  @teachntech00 New iPad Apps For #SpeechTherapy...   \n",
       "6                                                NaN   \n",
       "\n",
       "  emotion_in_tweet_is_directed_at  \\\n",
       "0                          iPhone   \n",
       "1              iPad or iPhone App   \n",
       "2                            iPad   \n",
       "3              iPad or iPhone App   \n",
       "4                          Google   \n",
       "5                             NaN   \n",
       "6                             NaN   \n",
       "\n",
       "  is_there_an_emotion_directed_at_a_brand_or_product  \n",
       "0                                   Negative emotion  \n",
       "1                                   Positive emotion  \n",
       "2                                   Positive emotion  \n",
       "3                                   Negative emotion  \n",
       "4                                   Positive emotion  \n",
       "5                 No emotion toward brand or product  \n",
       "6                 No emotion toward brand or product  "
      ]
     },
     "execution_count": 20,
     "metadata": {},
     "output_type": "execute_result"
    }
   ],
   "source": [
    "# Load the data\n",
    "import pandas as pd\n",
    "df = pd.read_csv(\"./Data/judge-1377884607_tweet_product_company.csv\", encoding=\"ISO-8859-1\")\n",
    "df.head(7)"
   ]
  },
  {
   "cell_type": "code",
   "execution_count": 21,
   "id": "5a94a6ce-1693-47db-b3d7-6d11c62bcd96",
   "metadata": {},
   "outputs": [
    {
     "name": "stdout",
     "output_type": "stream",
     "text": [
      "<class 'pandas.core.frame.DataFrame'>\n",
      "RangeIndex: 9093 entries, 0 to 9092\n",
      "Data columns (total 3 columns):\n",
      " #   Column                                              Non-Null Count  Dtype \n",
      "---  ------                                              --------------  ----- \n",
      " 0   tweet_text                                          9092 non-null   object\n",
      " 1   emotion_in_tweet_is_directed_at                     3291 non-null   object\n",
      " 2   is_there_an_emotion_directed_at_a_brand_or_product  9093 non-null   object\n",
      "dtypes: object(3)\n",
      "memory usage: 213.2+ KB\n"
     ]
    }
   ],
   "source": [
    "# basic information about the dataset\n",
    "df.info()"
   ]
  },
  {
   "cell_type": "code",
   "execution_count": 22,
   "id": "6dab098b-003b-4585-9a6c-a593b9d7ea82",
   "metadata": {},
   "outputs": [
    {
     "data": {
      "text/plain": [
       "(9093, 3)"
      ]
     },
     "execution_count": 22,
     "metadata": {},
     "output_type": "execute_result"
    }
   ],
   "source": [
    "# check the shape of dataset\n",
    "df.shape"
   ]
  },
  {
   "cell_type": "code",
   "execution_count": 23,
   "id": "640277d3-e785-48da-8d82-38d6c79ba49d",
   "metadata": {},
   "outputs": [
    {
     "data": {
      "text/plain": [
       "tweet_text                                               1\n",
       "emotion_in_tweet_is_directed_at                       5802\n",
       "is_there_an_emotion_directed_at_a_brand_or_product       0\n",
       "dtype: int64"
      ]
     },
     "execution_count": 23,
     "metadata": {},
     "output_type": "execute_result"
    }
   ],
   "source": [
    "# check for nall values\n",
    "df.isna().sum()"
   ]
  },
  {
   "cell_type": "code",
   "execution_count": 24,
   "id": "3bf1a16a-199b-42ce-a535-615f935ff80b",
   "metadata": {},
   "outputs": [
    {
     "data": {
      "text/plain": [
       "emotion_in_tweet_is_directed_at\n",
       "iPad                               946\n",
       "Apple                              661\n",
       "iPad or iPhone App                 470\n",
       "Google                             430\n",
       "iPhone                             297\n",
       "Other Google product or service    293\n",
       "Android App                         81\n",
       "Android                             78\n",
       "Other Apple product or service      35\n",
       "Name: count, dtype: int64"
      ]
     },
     "execution_count": 24,
     "metadata": {},
     "output_type": "execute_result"
    }
   ],
   "source": [
    "# check the unique values in \"emotion_in_tweet_is_directed_at\" column\n",
    "df[\"emotion_in_tweet_is_directed_at\"].value_counts()"
   ]
  },
  {
   "cell_type": "code",
   "execution_count": 25,
   "id": "17549301-b766-40eb-b41d-465c22e54109",
   "metadata": {},
   "outputs": [
    {
     "data": {
      "text/plain": [
       "is_there_an_emotion_directed_at_a_brand_or_product\n",
       "No emotion toward brand or product    5389\n",
       "Positive emotion                      2978\n",
       "Negative emotion                       570\n",
       "I can't tell                           156\n",
       "Name: count, dtype: int64"
      ]
     },
     "execution_count": 25,
     "metadata": {},
     "output_type": "execute_result"
    }
   ],
   "source": [
    "# check the unique values in \"is_there_an_emotion_directed_at_a_brand_or_product\" column\n",
    "df[\"is_there_an_emotion_directed_at_a_brand_or_product\"].value_counts()"
   ]
  },
  {
   "cell_type": "code",
   "execution_count": 26,
   "id": "004a7a23-7691-4d4e-81e0-950e9e870d58",
   "metadata": {},
   "outputs": [],
   "source": [
    "# dropping the missing value in the \"text\" column\n",
    "df = df.dropna(subset=[\"tweet_text\"])"
   ]
  },
  {
   "cell_type": "code",
   "execution_count": 18,
   "id": "acb5f927-dbae-4990-945b-9552a1d76105",
   "metadata": {},
   "outputs": [],
   "source": [
    "# filling the NaNs in the emotion_in_tweet_is_directed_at\n",
    "#df[\"emotion_in_tweet_is_directed_at\"] = df[\"emotion_in_tweet_is_directed_at\"].fillna(\"Unknown\")"
   ]
  },
  {
   "cell_type": "code",
   "execution_count": 27,
   "id": "06a59874-6646-40e9-8506-96d6e0409cc6",
   "metadata": {},
   "outputs": [],
   "source": [
    "# Drop \"emotion_in_tweet_is_directed_at\" column\n",
    "df = df.drop(columns=[\"emotion_in_tweet_is_directed_at\"])"
   ]
  },
  {
   "cell_type": "code",
   "execution_count": 32,
   "id": "24cac4be-46e4-42d1-a913-d068c41fc5ae",
   "metadata": {},
   "outputs": [
    {
     "data": {
      "text/plain": [
       "tweet_text                                            0\n",
       "is_there_an_emotion_directed_at_a_brand_or_product    0\n",
       "dtype: int64"
      ]
     },
     "execution_count": 32,
     "metadata": {},
     "output_type": "execute_result"
    }
   ],
   "source": [
    "# # confirm that there are no NaNs\n",
    "df.isna().sum()"
   ]
  },
  {
   "cell_type": "code",
   "execution_count": 33,
   "id": "03a905c1-b6cc-40e7-aaa1-c43543564559",
   "metadata": {},
   "outputs": [
    {
     "data": {
      "text/plain": [
       "0"
      ]
     },
     "execution_count": 33,
     "metadata": {},
     "output_type": "execute_result"
    }
   ],
   "source": [
    "# check for duplicates\n",
    "df.duplicated().sum()"
   ]
  },
  {
   "cell_type": "markdown",
   "id": "f5019da9-1028-4307-a568-e3853db4d8e6",
   "metadata": {},
   "source": [
    "* There are 22 duplicates in the dataset. These duplicates were droped to avoid bias and to ensure each tweet contribute unique information to the model."
   ]
  },
  {
   "cell_type": "code",
   "execution_count": 30,
   "id": "cc6af65c-68f6-4dd9-b5f3-85fdc7e4e4cd",
   "metadata": {},
   "outputs": [],
   "source": [
    "# dropping all duplicates\n",
    "df=df.drop_duplicates()\n"
   ]
  },
  {
   "cell_type": "code",
   "execution_count": 13,
   "id": "77db285d-2e5f-42e9-9a19-590e8d606d90",
   "metadata": {},
   "outputs": [
    {
     "data": {
      "text/plain": [
       "0"
      ]
     },
     "execution_count": 13,
     "metadata": {},
     "output_type": "execute_result"
    }
   ],
   "source": [
    "df.duplicated().sum()"
   ]
  },
  {
   "cell_type": "markdown",
   "id": "e03416c0-89a3-49ca-bee7-b77a9c27ce04",
   "metadata": {},
   "source": [
    "## DATA PREPROCESSING"
   ]
  },
  {
   "cell_type": "markdown",
   "id": "dd5d7c61-1d1e-478a-9ea6-e0e6c0950b69",
   "metadata": {},
   "source": [
    "* Perform Data Cleaning and Exploratory Data Analysis with nltk to remove unnecessary characters and noise so that our model only learn from meaningful information.\n",
    "* Common data cleaning tasks to be considered are Standardizing Case and Tokenizing."
   ]
  },
  {
   "cell_type": "code",
   "execution_count": 38,
   "id": "21ea2d81-080d-4121-8bc0-2439e21b2fae",
   "metadata": {},
   "outputs": [
    {
     "data": {
      "text/plain": [
       "\"Need to buy an iPad2 while I'm in Austin at #sxsw. Not sure if I'll need to Q up at an Austin Apple store?\""
      ]
     },
     "execution_count": 38,
     "metadata": {},
     "output_type": "execute_result"
    }
   ],
   "source": [
    "# random example from \"tweet_text\" column\n",
    "df[\"tweet_text\"][20]"
   ]
  },
  {
   "cell_type": "code",
   "execution_count": 39,
   "id": "21c32fa1-77a4-4d3f-b2b7-42a7803807ba",
   "metadata": {},
   "outputs": [],
   "source": [
    "# importing relevant imports\n",
    "import nltk\n",
    "import re\n",
    "from nltk.corpus import stopwords\n",
    "from nltk.stem import WordNetLemmatizer\n",
    "from nltk.tokenize import word_tokenize"
   ]
  },
  {
   "cell_type": "code",
   "execution_count": 43,
   "id": "c0852e79-6e7a-43ff-8e17-ef4652600191",
   "metadata": {},
   "outputs": [],
   "source": [
    "# Initialize tools\n",
    "stop_words = set(stopwords.words('english'))\n",
    "lemmatizer = WordNetLemmatizer()\n",
    "\n",
    "def preprocess_text(text):\n",
    "    # Convert to lowercase\n",
    "    text = str(text).lower()\n",
    "    \n",
    "    # Remove URLs, mentions, hashtags, numbers, and punctuation\n",
    "    text = re.sub(r\"http\\S+\", \"\", text)             # Remove URLs\n",
    "    text = re.sub(r\"@\\w+\", \"\", text)                # Remove mentions (@user)\n",
    "    text = re.sub(r\"#\\w+\", \"\", text)                # Remove hashtags\n",
    "    text = re.sub(r\"[^a-z\\s]\", \"\", text)            # Remove punctuation, numbers, and special characters\n",
    "    text = re.sub(r\"\\s+\", \" \", text).strip()        # Remove extra spaces\n",
    "    \n",
    "    \n",
    "    # Tokenize (split text into words)\n",
    "    tokens = word_tokenize(text)\n",
    "    \n",
    "    # Remove stopwords and short words\n",
    "    tokens = [word for word in tokens if word not in stop_words and len(word) > 2]\n",
    "    \n",
    "    # Lemmatize each token\n",
    "    tokens = [lemmatizer.lemmatize(word) for word in tokens]\n",
    "    \n",
    "    # Join back into a single string\n",
    "    text = \" \".join(tokens)\n",
    "    \n",
    "    return text\n"
   ]
  },
  {
   "cell_type": "code",
   "execution_count": 44,
   "id": "f2a9d220-2de7-4581-b01e-dfe9c3e04a7e",
   "metadata": {},
   "outputs": [],
   "source": [
    "# apply the cleaned preprocesssed function to new column \"clean_tweet\"\"\n",
    "df[\"clean_tweet\"] = df[\"tweet_text\"].apply(preprocess_text)\n"
   ]
  },
  {
   "cell_type": "markdown",
   "id": "ea525263-af46-45e4-ac81-9b44e2b174a7",
   "metadata": {},
   "source": [
    "* Perform a basic EDA on the cleaned tweet texts column to see the words distributions"
   ]
  },
  {
   "cell_type": "code",
   "execution_count": 47,
   "id": "0101b80d-b604-42ec-a62f-11ee03fecefa",
   "metadata": {},
   "outputs": [
    {
     "data": {
      "image/png": "[encoded data removed]",
      "text/plain": [
       "<Figure size 1200x600 with 1 Axes>"
      ]
     },
     "metadata": {},
     "output_type": "display_data"
    }
   ],
   "source": [
    "from nltk.probability import FreqDist\n",
    "import matplotlib.pyplot as plt\n",
    "\n",
    "# Combine all cleaned tweets\n",
    "all_words_clean = ' '.join(df['clean_tweet'].astype(str))\n",
    "tokens_clean = nltk.word_tokenize(all_words_clean)\n",
    "\n",
    "# instantiate frequency distribution\n",
    "fdist_clean = FreqDist(tokens_clean)\n",
    "\n",
    "# plot\n",
    "plt.figure(figsize=(12,6))\n",
    "fdist_clean.plot(20, title=\"Top 20 Most Frequent Words in Cleaned Tweets\")\n",
    "plt.show()\n"
   ]
  },
  {
   "cell_type": "markdown",
   "id": "e0367020-c3ba-4f68-8767-d079779ceb87",
   "metadata": {},
   "source": [
    "* **Multi-class classification**"
   ]
  },
  {
   "cell_type": "code",
   "execution_count": 19,
   "id": "ba4f5cb3-846c-48e0-a82f-1d9d620f5f73",
   "metadata": {},
   "outputs": [
    {
     "name": "stderr",
     "output_type": "stream",
     "text": [
      "C:\\Users\\ADMIN\\AppData\\Local\\Temp\\ipykernel_8080\\2216375308.py:2: FutureWarning: Downcasting behavior in `replace` is deprecated and will be removed in a future version. To retain the old behavior, explicitly call `result.infer_objects(copy=False)`. To opt-in to the future behavior, set `pd.set_option('future.no_silent_downcasting', True)`\n",
      "  df[\"sentiment\"] = df[\"is_there_an_emotion_directed_at_a_brand_or_product\"].replace({\n"
     ]
    }
   ],
   "source": [
    "# Encode sentiment labes (converting them from text to numeric)\n",
    "df[\"sentiment\"] = df[\"is_there_an_emotion_directed_at_a_brand_or_product\"].replace({\n",
    "    \"Positive emotion\": 1,                      # positive = 1\n",
    "    \"Negative emotion\": -1,                     # negative = -1\n",
    "    \"No emotion toward brand or product\": 0,    # neutral = 0\n",
    "    \"I can't tell\": 0                           # neutral = 0 \n",
    "})\n",
    "\n"
   ]
  },
  {
   "cell_type": "code",
   "execution_count": 20,
   "id": "911be872-e6c5-4c2d-8c0d-fd6c73acbbd4",
   "metadata": {},
   "outputs": [
    {
     "data": {
      "text/html": [
       "<div>\n",
       "<style scoped>\n",
       "    .dataframe tbody tr th:only-of-type {\n",
       "        vertical-align: middle;\n",
       "    }\n",
       "\n",
       "    .dataframe tbody tr th {\n",
       "        vertical-align: top;\n",
       "    }\n",
       "\n",
       "    .dataframe thead th {\n",
       "        text-align: right;\n",
       "    }\n",
       "</style>\n",
       "<table border=\"1\" class=\"dataframe\">\n",
       "  <thead>\n",
       "    <tr style=\"text-align: right;\">\n",
       "      <th></th>\n",
       "      <th>tweet_text</th>\n",
       "      <th>emotion_in_tweet_is_directed_at</th>\n",
       "      <th>is_there_an_emotion_directed_at_a_brand_or_product</th>\n",
       "      <th>clean_tweet</th>\n",
       "      <th>sentiment</th>\n",
       "    </tr>\n",
       "  </thead>\n",
       "  <tbody>\n",
       "    <tr>\n",
       "      <th>0</th>\n",
       "      <td>.@wesley83 I have a 3G iPhone. After 3 hrs twe...</td>\n",
       "      <td>iPhone</td>\n",
       "      <td>Negative emotion</td>\n",
       "      <td>iphone hr tweeting dead need upgrade plugin st...</td>\n",
       "      <td>-1</td>\n",
       "    </tr>\n",
       "    <tr>\n",
       "      <th>1</th>\n",
       "      <td>@jessedee Know about @fludapp ? Awesome iPad/i...</td>\n",
       "      <td>iPad or iPhone App</td>\n",
       "      <td>Positive emotion</td>\n",
       "      <td>know awesome ipadiphone app youll likely appre...</td>\n",
       "      <td>1</td>\n",
       "    </tr>\n",
       "    <tr>\n",
       "      <th>2</th>\n",
       "      <td>@swonderlin Can not wait for #iPad 2 also. The...</td>\n",
       "      <td>iPad</td>\n",
       "      <td>Positive emotion</td>\n",
       "      <td>wait also sale</td>\n",
       "      <td>1</td>\n",
       "    </tr>\n",
       "    <tr>\n",
       "      <th>3</th>\n",
       "      <td>@sxsw I hope this year's festival isn't as cra...</td>\n",
       "      <td>iPad or iPhone App</td>\n",
       "      <td>Negative emotion</td>\n",
       "      <td>hope year festival isnt crashy year iphone app</td>\n",
       "      <td>-1</td>\n",
       "    </tr>\n",
       "    <tr>\n",
       "      <th>4</th>\n",
       "      <td>@sxtxstate great stuff on Fri #SXSW: Marissa M...</td>\n",
       "      <td>Google</td>\n",
       "      <td>Positive emotion</td>\n",
       "      <td>great stuff fri marissa mayer google tim oreil...</td>\n",
       "      <td>1</td>\n",
       "    </tr>\n",
       "  </tbody>\n",
       "</table>\n",
       "</div>"
      ],
      "text/plain": [
       "                                          tweet_text  \\\n",
       "0  .@wesley83 I have a 3G iPhone. After 3 hrs twe...   \n",
       "1  @jessedee Know about @fludapp ? Awesome iPad/i...   \n",
       "2  @swonderlin Can not wait for #iPad 2 also. The...   \n",
       "3  @sxsw I hope this year's festival isn't as cra...   \n",
       "4  @sxtxstate great stuff on Fri #SXSW: Marissa M...   \n",
       "\n",
       "  emotion_in_tweet_is_directed_at  \\\n",
       "0                          iPhone   \n",
       "1              iPad or iPhone App   \n",
       "2                            iPad   \n",
       "3              iPad or iPhone App   \n",
       "4                          Google   \n",
       "\n",
       "  is_there_an_emotion_directed_at_a_brand_or_product  \\\n",
       "0                                   Negative emotion   \n",
       "1                                   Positive emotion   \n",
       "2                                   Positive emotion   \n",
       "3                                   Negative emotion   \n",
       "4                                   Positive emotion   \n",
       "\n",
       "                                         clean_tweet  sentiment  \n",
       "0  iphone hr tweeting dead need upgrade plugin st...         -1  \n",
       "1  know awesome ipadiphone app youll likely appre...          1  \n",
       "2                                     wait also sale          1  \n",
       "3     hope year festival isnt crashy year iphone app         -1  \n",
       "4  great stuff fri marissa mayer google tim oreil...          1  "
      ]
     },
     "execution_count": 20,
     "metadata": {},
     "output_type": "execute_result"
    }
   ],
   "source": [
    "df.head(5)"
   ]
  },
  {
   "cell_type": "code",
   "execution_count": 21,
   "id": "b01593f1-f8b0-426b-838f-a84e2f0ecf2f",
   "metadata": {},
   "outputs": [],
   "source": [
    "# Split the dataset into training and testing sets\n",
    "from sklearn.model_selection import train_test_split\n",
    "\n",
    "X = df[\"clean_tweet\"]    # feature\n",
    "y = df[\"sentiment\"]      # target\n",
    "\n",
    " # using stratify=y to make the classes (positive, negative, neutral)  evenly balanced on both train & test split to prevent bias.\n",
    "X_train, X_test, y_train, y_test = train_test_split(X, y, test_size=0.2, random_state=42, stratify=y) "
   ]
  },
  {
   "cell_type": "code",
   "execution_count": 22,
   "id": "8e77150a-59d3-43d7-888c-9e01479c8f7a",
   "metadata": {},
   "outputs": [],
   "source": [
    "# (vectorization) Converting text to numerics features so that the model can understand \n",
    "\n",
    "from sklearn.feature_extraction.text import TfidfVectorizer\n",
    "\n",
    "# stop_words='english' removes all stop words. ngram_range=(1,2) includes unigram and bigram pairs(eg battery life, very happy)\n",
    "vectorizer = TfidfVectorizer(stop_words='english', max_features=6000, ngram_range=(1,2)) \n",
    "\n",
    "X_train_tfidf = vectorizer.fit_transform(X_train)\n",
    "X_test_tfidf = vectorizer.transform(X_test)\n"
   ]
  },
  {
   "cell_type": "markdown",
   "id": "fdcdcb3f-c2bc-4aa7-af6d-062d290440ba",
   "metadata": {},
   "source": [
    "## MODELING"
   ]
  },
  {
   "cell_type": "code",
   "execution_count": 23,
   "id": "2f9fbdd5-f1d5-47a3-854e-edde230933bd",
   "metadata": {},
   "outputs": [
    {
     "data": {
      "text/html": [
       "<style>#sk-container-id-1 {color: black;background-color: white;}#sk-container-id-1 pre{padding: 0;}#sk-container-id-1 div.sk-toggleable {background-color: white;}#sk-container-id-1 label.sk-toggleable__label {cursor: pointer;display: block;width: 100%;margin-bottom: 0;padding: 0.3em;box-sizing: border-box;text-align: center;}#sk-container-id-1 label.sk-toggleable__label-arrow:before {content: \"▸\";float: left;margin-right: 0.25em;color: #696969;}#sk-container-id-1 label.sk-toggleable__label-arrow:hover:before {color: black;}#sk-container-id-1 div.sk-estimator:hover label.sk-toggleable__label-arrow:before {color: black;}#sk-container-id-1 div.sk-toggleable__content {max-height: 0;max-width: 0;overflow: hidden;text-align: left;background-color: #f0f8ff;}#sk-container-id-1 div.sk-toggleable__content pre {margin: 0.2em;color: black;border-radius: 0.25em;background-color: #f0f8ff;}#sk-container-id-1 input.sk-toggleable__control:checked~div.sk-toggleable__content {max-height: 200px;max-width: 100%;overflow: auto;}#sk-container-id-1 input.sk-toggleable__control:checked~label.sk-toggleable__label-arrow:before {content: \"▾\";}#sk-container-id-1 div.sk-estimator input.sk-toggleable__control:checked~label.sk-toggleable__label {background-color: #d4ebff;}#sk-container-id-1 div.sk-label input.sk-toggleable__control:checked~label.sk-toggleable__label {background-color: #d4ebff;}#sk-container-id-1 input.sk-hidden--visually {border: 0;clip: rect(1px 1px 1px 1px);clip: rect(1px, 1px, 1px, 1px);height: 1px;margin: -1px;overflow: hidden;padding: 0;position: absolute;width: 1px;}#sk-container-id-1 div.sk-estimator {font-family: monospace;background-color: #f0f8ff;border: 1px dotted black;border-radius: 0.25em;box-sizing: border-box;margin-bottom: 0.5em;}#sk-container-id-1 div.sk-estimator:hover {background-color: #d4ebff;}#sk-container-id-1 div.sk-parallel-item::after {content: \"\";width: 100%;border-bottom: 1px solid gray;flex-grow: 1;}#sk-container-id-1 div.sk-label:hover label.sk-toggleable__label {background-color: #d4ebff;}#sk-container-id-1 div.sk-serial::before {content: \"\";position: absolute;border-left: 1px solid gray;box-sizing: border-box;top: 0;bottom: 0;left: 50%;z-index: 0;}#sk-container-id-1 div.sk-serial {display: flex;flex-direction: column;align-items: center;background-color: white;padding-right: 0.2em;padding-left: 0.2em;position: relative;}#sk-container-id-1 div.sk-item {position: relative;z-index: 1;}#sk-container-id-1 div.sk-parallel {display: flex;align-items: stretch;justify-content: center;background-color: white;position: relative;}#sk-container-id-1 div.sk-item::before, #sk-container-id-1 div.sk-parallel-item::before {content: \"\";position: absolute;border-left: 1px solid gray;box-sizing: border-box;top: 0;bottom: 0;left: 50%;z-index: -1;}#sk-container-id-1 div.sk-parallel-item {display: flex;flex-direction: column;z-index: 1;position: relative;background-color: white;}#sk-container-id-1 div.sk-parallel-item:first-child::after {align-self: flex-end;width: 50%;}#sk-container-id-1 div.sk-parallel-item:last-child::after {align-self: flex-start;width: 50%;}#sk-container-id-1 div.sk-parallel-item:only-child::after {width: 0;}#sk-container-id-1 div.sk-dashed-wrapped {border: 1px dashed gray;margin: 0 0.4em 0.5em 0.4em;box-sizing: border-box;padding-bottom: 0.4em;background-color: white;}#sk-container-id-1 div.sk-label label {font-family: monospace;font-weight: bold;display: inline-block;line-height: 1.2em;}#sk-container-id-1 div.sk-label-container {text-align: center;}#sk-container-id-1 div.sk-container {/* jupyter's `normalize.less` sets `[hidden] { display: none; }` but bootstrap.min.css set `[hidden] { display: none !important; }` so we also need the `!important` here to be able to override the default hidden behavior on the sphinx rendered scikit-learn.org. See: https://github.com/scikit-learn/scikit-learn/issues/21755 */display: inline-block !important;position: relative;}#sk-container-id-1 div.sk-text-repr-fallback {display: none;}</style><div id=\"sk-container-id-1\" class=\"sk-top-container\"><div class=\"sk-text-repr-fallback\"><pre>LogisticRegression(max_iter=1000)</pre><b>In a Jupyter environment, please rerun this cell to show the HTML representation or trust the notebook. <br />On GitHub, the HTML representation is unable to render, please try loading this page with nbviewer.org.</b></div><div class=\"sk-container\" hidden><div class=\"sk-item\"><div class=\"sk-estimator sk-toggleable\"><input class=\"sk-toggleable__control sk-hidden--visually\" id=\"sk-estimator-id-1\" type=\"checkbox\" checked><label for=\"sk-estimator-id-1\" class=\"sk-toggleable__label sk-toggleable__label-arrow\">LogisticRegression</label><div class=\"sk-toggleable__content\"><pre>LogisticRegression(max_iter=1000)</pre></div></div></div></div></div>"
      ],
      "text/plain": [
       "LogisticRegression(max_iter=1000)"
      ]
     },
     "execution_count": 23,
     "metadata": {},
     "output_type": "execute_result"
    }
   ],
   "source": [
    "# Build logistic regression \n",
    "from sklearn.linear_model import LogisticRegression\n",
    "from sklearn.metrics import classification_report\n",
    "from sklearn.metrics import accuracy_score\n",
    "\n",
    "model = LogisticRegression(max_iter=1000)\n",
    "model.fit(X_train_tfidf, y_train)\n"
   ]
  },
  {
   "cell_type": "code",
   "execution_count": 24,
   "id": "72127836-fd58-4619-afe4-b17f7cec6a29",
   "metadata": {},
   "outputs": [],
   "source": [
    "# Generate predictions\n",
    "y_pred = model.predict(X_test_tfidf)\n"
   ]
  },
  {
   "cell_type": "code",
   "execution_count": 25,
   "id": "4224c3a3-d745-4918-848f-5c5775a10528",
   "metadata": {},
   "outputs": [
    {
     "name": "stdout",
     "output_type": "stream",
     "text": [
      "              precision    recall  f1-score   support\n",
      "\n",
      "          -1       0.50      0.04      0.08       114\n",
      "           0       0.70      0.89      0.78      1106\n",
      "           1       0.65      0.44      0.52       594\n",
      "\n",
      "    accuracy                           0.69      1814\n",
      "   macro avg       0.62      0.46      0.46      1814\n",
      "weighted avg       0.67      0.69      0.65      1814\n",
      "\n"
     ]
    }
   ],
   "source": [
    "# classification report\n",
    "print(classification_report(y_test, y_pred))\n"
   ]
  },
  {
   "cell_type": "code",
   "execution_count": 26,
   "id": "94a8f8bf-456a-4038-89d3-2106e8d38ba7",
   "metadata": {},
   "outputs": [
    {
     "data": {
      "text/plain": [
       "0.6868798235942668"
      ]
     },
     "execution_count": 26,
     "metadata": {},
     "output_type": "execute_result"
    }
   ],
   "source": [
    "accuracy = accuracy_score(y_test, y_pred)\n",
    "accuracy"
   ]
  },
  {
   "cell_type": "code",
   "execution_count": 27,
   "id": "52f4e9b3-6521-4c1e-a027-f4fa364e5df6",
   "metadata": {},
   "outputs": [
    {
     "data": {
      "image/png": "[encoded data removed]",
      "text/plain": [
       "<Figure size 640x480 with 2 Axes>"
      ]
     },
     "metadata": {},
     "output_type": "display_data"
    }
   ],
   "source": [
    "from sklearn.metrics import confusion_matrix, ConfusionMatrixDisplay\n",
    "import matplotlib.pyplot as plt\n",
    "\n",
    "# Create confusion matrix\n",
    "cm = confusion_matrix(y_test, y_pred)\n",
    "\n",
    "# Display ConfusionMatrix\n",
    "disp = ConfusionMatrixDisplay(confusion_matrix=cm, display_labels=[\"Negative\", \"Neutral\", \"Positive\"])\n",
    "disp.plot(cmap=\"Blues\")\n",
    "plt.title(\"Confusion Matrix - Sentiment Classification\")\n",
    "plt.show()\n"
   ]
  },
  {
   "cell_type": "markdown",
   "id": "7fda20b1-5051-4dfd-a23b-c0cc16a82ef6",
   "metadata": {},
   "source": [
    "* **Logistic Regression** model evaluation\n",
    "\n",
    "1. The model predicts Neutral sentiments well compared to other sentiments. It correctly identifies 979 Neutral cases.\n",
    "2. The model struggles classifying Negative and Positive sentiments - 89 of Negative Sentiments are wrongly classified as neutral\n",
    "                                                                    - 331 Positive sentiments are wrongly classified as neutral\n",
    "* The model is good at identifying Neutral sentiments  but not very accurate at indentifying Negative and Positive sentiments, it confuses them with\n",
    " Neutral.\n",
    "\n"
   ]
  },
  {
   "cell_type": "markdown",
   "id": "9d085b71-aaea-44d2-b74e-61a020e48c15",
   "metadata": {},
   "source": [
    "* **Binary classification**"
   ]
  },
  {
   "cell_type": "code",
   "execution_count": 28,
   "id": "2c86980a-512b-441b-b057-3486e97e7ec1",
   "metadata": {},
   "outputs": [
    {
     "data": {
      "text/html": [
       "<div>\n",
       "<style scoped>\n",
       "    .dataframe tbody tr th:only-of-type {\n",
       "        vertical-align: middle;\n",
       "    }\n",
       "\n",
       "    .dataframe tbody tr th {\n",
       "        vertical-align: top;\n",
       "    }\n",
       "\n",
       "    .dataframe thead th {\n",
       "        text-align: right;\n",
       "    }\n",
       "</style>\n",
       "<table border=\"1\" class=\"dataframe\">\n",
       "  <thead>\n",
       "    <tr style=\"text-align: right;\">\n",
       "      <th></th>\n",
       "      <th>tweet_text</th>\n",
       "      <th>emotion_in_tweet_is_directed_at</th>\n",
       "      <th>is_there_an_emotion_directed_at_a_brand_or_product</th>\n",
       "      <th>clean_tweet</th>\n",
       "      <th>sentiment</th>\n",
       "    </tr>\n",
       "  </thead>\n",
       "  <tbody>\n",
       "    <tr>\n",
       "      <th>0</th>\n",
       "      <td>.@wesley83 I have a 3G iPhone. After 3 hrs twe...</td>\n",
       "      <td>iPhone</td>\n",
       "      <td>Negative emotion</td>\n",
       "      <td>iphone hr tweeting dead need upgrade plugin st...</td>\n",
       "      <td>-1</td>\n",
       "    </tr>\n",
       "    <tr>\n",
       "      <th>1</th>\n",
       "      <td>@jessedee Know about @fludapp ? Awesome iPad/i...</td>\n",
       "      <td>iPad or iPhone App</td>\n",
       "      <td>Positive emotion</td>\n",
       "      <td>know awesome ipadiphone app youll likely appre...</td>\n",
       "      <td>1</td>\n",
       "    </tr>\n",
       "    <tr>\n",
       "      <th>2</th>\n",
       "      <td>@swonderlin Can not wait for #iPad 2 also. The...</td>\n",
       "      <td>iPad</td>\n",
       "      <td>Positive emotion</td>\n",
       "      <td>wait also sale</td>\n",
       "      <td>1</td>\n",
       "    </tr>\n",
       "    <tr>\n",
       "      <th>3</th>\n",
       "      <td>@sxsw I hope this year's festival isn't as cra...</td>\n",
       "      <td>iPad or iPhone App</td>\n",
       "      <td>Negative emotion</td>\n",
       "      <td>hope year festival isnt crashy year iphone app</td>\n",
       "      <td>-1</td>\n",
       "    </tr>\n",
       "    <tr>\n",
       "      <th>4</th>\n",
       "      <td>@sxtxstate great stuff on Fri #SXSW: Marissa M...</td>\n",
       "      <td>Google</td>\n",
       "      <td>Positive emotion</td>\n",
       "      <td>great stuff fri marissa mayer google tim oreil...</td>\n",
       "      <td>1</td>\n",
       "    </tr>\n",
       "  </tbody>\n",
       "</table>\n",
       "</div>"
      ],
      "text/plain": [
       "                                          tweet_text  \\\n",
       "0  .@wesley83 I have a 3G iPhone. After 3 hrs twe...   \n",
       "1  @jessedee Know about @fludapp ? Awesome iPad/i...   \n",
       "2  @swonderlin Can not wait for #iPad 2 also. The...   \n",
       "3  @sxsw I hope this year's festival isn't as cra...   \n",
       "4  @sxtxstate great stuff on Fri #SXSW: Marissa M...   \n",
       "\n",
       "  emotion_in_tweet_is_directed_at  \\\n",
       "0                          iPhone   \n",
       "1              iPad or iPhone App   \n",
       "2                            iPad   \n",
       "3              iPad or iPhone App   \n",
       "4                          Google   \n",
       "\n",
       "  is_there_an_emotion_directed_at_a_brand_or_product  \\\n",
       "0                                   Negative emotion   \n",
       "1                                   Positive emotion   \n",
       "2                                   Positive emotion   \n",
       "3                                   Negative emotion   \n",
       "4                                   Positive emotion   \n",
       "\n",
       "                                         clean_tweet  sentiment  \n",
       "0  iphone hr tweeting dead need upgrade plugin st...         -1  \n",
       "1  know awesome ipadiphone app youll likely appre...          1  \n",
       "2                                     wait also sale          1  \n",
       "3     hope year festival isnt crashy year iphone app         -1  \n",
       "4  great stuff fri marissa mayer google tim oreil...          1  "
      ]
     },
     "execution_count": 28,
     "metadata": {},
     "output_type": "execute_result"
    }
   ],
   "source": [
    "# new df for binary classification(negative and positive)\n",
    "df_binary = df[df[\"sentiment\"].isin([1, -1])]\n",
    "df_binary.head(5)"
   ]
  },
  {
   "cell_type": "code",
   "execution_count": 29,
   "id": "3f872f6b-46a3-4969-bc52-4f5c3ec7d978",
   "metadata": {},
   "outputs": [],
   "source": [
    "# Split the dataset into training and testing sets\n",
    "from sklearn.model_selection import train_test_split\n",
    "\n",
    "X_binary=df_binary[\"clean_tweet\"]\n",
    "y_binary=df_binary[\"sentiment\"]    # 1 = positive, -1 = negative\n",
    "\n",
    "X_binary_train, X_binary_test, y_binary_train, y_binary_test = train_test_split(X_binary, y_binary, test_size=0.2, random_state=42, stratify=y_binary) "
   ]
  },
  {
   "cell_type": "code",
   "execution_count": 41,
   "id": "76fe61a2-aa46-4bde-9a45-592bf8e96dcc",
   "metadata": {},
   "outputs": [],
   "source": [
    "# Vectorize to numerics\n",
    "from sklearn.feature_extraction.text import TfidfVectorizer\n",
    "\n",
    "vectorizer = TfidfVectorizer(stop_words='english', max_features=6000, ngram_range=(1,2))\n",
    "\n",
    "X_train_tfidf = vectorizer.fit_transform(X_binary_train)\n",
    "X_test_tfidf = vectorizer.transform(X_binary_test)"
   ]
  },
  {
   "cell_type": "code",
   "execution_count": 42,
   "id": "c638ecaa-369b-4b7d-b31a-0748a8c0be97",
   "metadata": {},
   "outputs": [
    {
     "data": {
      "text/html": [
       "<style>#sk-container-id-3 {color: black;background-color: white;}#sk-container-id-3 pre{padding: 0;}#sk-container-id-3 div.sk-toggleable {background-color: white;}#sk-container-id-3 label.sk-toggleable__label {cursor: pointer;display: block;width: 100%;margin-bottom: 0;padding: 0.3em;box-sizing: border-box;text-align: center;}#sk-container-id-3 label.sk-toggleable__label-arrow:before {content: \"▸\";float: left;margin-right: 0.25em;color: #696969;}#sk-container-id-3 label.sk-toggleable__label-arrow:hover:before {color: black;}#sk-container-id-3 div.sk-estimator:hover label.sk-toggleable__label-arrow:before {color: black;}#sk-container-id-3 div.sk-toggleable__content {max-height: 0;max-width: 0;overflow: hidden;text-align: left;background-color: #f0f8ff;}#sk-container-id-3 div.sk-toggleable__content pre {margin: 0.2em;color: black;border-radius: 0.25em;background-color: #f0f8ff;}#sk-container-id-3 input.sk-toggleable__control:checked~div.sk-toggleable__content {max-height: 200px;max-width: 100%;overflow: auto;}#sk-container-id-3 input.sk-toggleable__control:checked~label.sk-toggleable__label-arrow:before {content: \"▾\";}#sk-container-id-3 div.sk-estimator input.sk-toggleable__control:checked~label.sk-toggleable__label {background-color: #d4ebff;}#sk-container-id-3 div.sk-label input.sk-toggleable__control:checked~label.sk-toggleable__label {background-color: #d4ebff;}#sk-container-id-3 input.sk-hidden--visually {border: 0;clip: rect(1px 1px 1px 1px);clip: rect(1px, 1px, 1px, 1px);height: 1px;margin: -1px;overflow: hidden;padding: 0;position: absolute;width: 1px;}#sk-container-id-3 div.sk-estimator {font-family: monospace;background-color: #f0f8ff;border: 1px dotted black;border-radius: 0.25em;box-sizing: border-box;margin-bottom: 0.5em;}#sk-container-id-3 div.sk-estimator:hover {background-color: #d4ebff;}#sk-container-id-3 div.sk-parallel-item::after {content: \"\";width: 100%;border-bottom: 1px solid gray;flex-grow: 1;}#sk-container-id-3 div.sk-label:hover label.sk-toggleable__label {background-color: #d4ebff;}#sk-container-id-3 div.sk-serial::before {content: \"\";position: absolute;border-left: 1px solid gray;box-sizing: border-box;top: 0;bottom: 0;left: 50%;z-index: 0;}#sk-container-id-3 div.sk-serial {display: flex;flex-direction: column;align-items: center;background-color: white;padding-right: 0.2em;padding-left: 0.2em;position: relative;}#sk-container-id-3 div.sk-item {position: relative;z-index: 1;}#sk-container-id-3 div.sk-parallel {display: flex;align-items: stretch;justify-content: center;background-color: white;position: relative;}#sk-container-id-3 div.sk-item::before, #sk-container-id-3 div.sk-parallel-item::before {content: \"\";position: absolute;border-left: 1px solid gray;box-sizing: border-box;top: 0;bottom: 0;left: 50%;z-index: -1;}#sk-container-id-3 div.sk-parallel-item {display: flex;flex-direction: column;z-index: 1;position: relative;background-color: white;}#sk-container-id-3 div.sk-parallel-item:first-child::after {align-self: flex-end;width: 50%;}#sk-container-id-3 div.sk-parallel-item:last-child::after {align-self: flex-start;width: 50%;}#sk-container-id-3 div.sk-parallel-item:only-child::after {width: 0;}#sk-container-id-3 div.sk-dashed-wrapped {border: 1px dashed gray;margin: 0 0.4em 0.5em 0.4em;box-sizing: border-box;padding-bottom: 0.4em;background-color: white;}#sk-container-id-3 div.sk-label label {font-family: monospace;font-weight: bold;display: inline-block;line-height: 1.2em;}#sk-container-id-3 div.sk-label-container {text-align: center;}#sk-container-id-3 div.sk-container {/* jupyter's `normalize.less` sets `[hidden] { display: none; }` but bootstrap.min.css set `[hidden] { display: none !important; }` so we also need the `!important` here to be able to override the default hidden behavior on the sphinx rendered scikit-learn.org. See: https://github.com/scikit-learn/scikit-learn/issues/21755 */display: inline-block !important;position: relative;}#sk-container-id-3 div.sk-text-repr-fallback {display: none;}</style><div id=\"sk-container-id-3\" class=\"sk-top-container\"><div class=\"sk-text-repr-fallback\"><pre>LogisticRegression(class_weight=&#x27;balanced&#x27;, max_iter=1000)</pre><b>In a Jupyter environment, please rerun this cell to show the HTML representation or trust the notebook. <br />On GitHub, the HTML representation is unable to render, please try loading this page with nbviewer.org.</b></div><div class=\"sk-container\" hidden><div class=\"sk-item\"><div class=\"sk-estimator sk-toggleable\"><input class=\"sk-toggleable__control sk-hidden--visually\" id=\"sk-estimator-id-3\" type=\"checkbox\" checked><label for=\"sk-estimator-id-3\" class=\"sk-toggleable__label sk-toggleable__label-arrow\">LogisticRegression</label><div class=\"sk-toggleable__content\"><pre>LogisticRegression(class_weight=&#x27;balanced&#x27;, max_iter=1000)</pre></div></div></div></div></div>"
      ],
      "text/plain": [
       "LogisticRegression(class_weight='balanced', max_iter=1000)"
      ]
     },
     "execution_count": 42,
     "metadata": {},
     "output_type": "execute_result"
    }
   ],
   "source": [
    "# Build logistic regression\n",
    "model_binary = LogisticRegression(max_iter=1000, class_weight='balanced')\n",
    "model_binary.fit(X_train_tfidf, y_binary_train)"
   ]
  },
  {
   "cell_type": "code",
   "execution_count": 43,
   "id": "7683ae22-4528-40a4-8635-8136053018b8",
   "metadata": {},
   "outputs": [],
   "source": [
    "# Generate predictions\n",
    "y_binary_pred = model_binary.predict(X_test_tfidf)"
   ]
  },
  {
   "cell_type": "code",
   "execution_count": 44,
   "id": "cfc91a88-b88c-474c-9050-ca98f1e5cbd0",
   "metadata": {},
   "outputs": [
    {
     "data": {
      "text/plain": [
       "0.8559322033898306"
      ]
     },
     "execution_count": 44,
     "metadata": {},
     "output_type": "execute_result"
    }
   ],
   "source": [
    "accuracy = accuracy_score(y_binary_test, y_binary_pred)\n",
    "accuracy"
   ]
  },
  {
   "cell_type": "code",
   "execution_count": 45,
   "id": "48f51c0c-c987-420e-9548-2e9fa4ad4247",
   "metadata": {},
   "outputs": [
    {
     "data": {
      "image/png": "[encoded data removed]",
      "text/plain": [
       "<Figure size 640x480 with 2 Axes>"
      ]
     },
     "metadata": {},
     "output_type": "display_data"
    }
   ],
   "source": [
    "from sklearn.metrics import confusion_matrix, ConfusionMatrixDisplay\n",
    "import matplotlib.pyplot as plt\n",
    "\n",
    "# Create confusion matrix\n",
    "cm = confusion_matrix(y_binary_test, y_binary_pred)\n",
    "\n",
    "# Display ConfusionMatrix\n",
    "disp = ConfusionMatrixDisplay(confusion_matrix=cm, display_labels=[\"Negative\", \"Positive\"])\n",
    "disp.plot(cmap=\"Blues\")\n",
    "plt.title(\"Confusion Matrix - Sentiment Classification\")\n",
    "plt.show()\n"
   ]
  },
  {
   "cell_type": "markdown",
   "id": "77c39e32-9510-4e41-a448-51bcbc40048f",
   "metadata": {},
   "source": [
    "**Observation**\n",
    "The model performs good at dectecting positive sentiments than to negative sentiments.\n",
    "1. It correctly detects 533 True positives and only missed 61 of them (False Positive)\n",
    "2. It correctly classifys 73 negative sentiments (True negatives) and it wrongly labeled 10 True negatives sentiments as positive ."
   ]
  },
  {
   "cell_type": "code",
   "execution_count": 48,
   "id": "ba36738b-6485-4f15-95a4-106d97aacc51",
   "metadata": {},
   "outputs": [
    {
     "name": "stdout",
     "output_type": "stream",
     "text": [
      "Naive Bayes Classification Report:\n",
      "\n",
      "              precision    recall  f1-score   support\n",
      "\n",
      "          -1       0.47      0.66      0.55       114\n",
      "           1       0.93      0.86      0.89       594\n",
      "\n",
      "    accuracy                           0.83       708\n",
      "   macro avg       0.70      0.76      0.72       708\n",
      "weighted avg       0.86      0.83      0.84       708\n",
      "\n",
      "Accuracy: 0.828\n"
     ]
    },
    {
     "data": {
      "image/png": "[encoded data removed]",
      "text/plain": [
       "<Figure size 640x480 with 2 Axes>"
      ]
     },
     "metadata": {},
     "output_type": "display_data"
    }
   ],
   "source": [
    "# Build next model naive_bayes\n",
    "from sklearn.naive_bayes import MultinomialNB\n",
    "import seaborn as sns\n",
    "from imblearn.over_sampling import SMOTE\n",
    "\n",
    "# apply smote to handle the class imbalance\n",
    "smote = SMOTE(random_state=42)\n",
    "X_train_res, y_train_res = smote.fit_resample(X_train_tfidf, y_binary_train)\n",
    "\n",
    "# Instantiate and train the model\n",
    "nb_model = MultinomialNB(alpha=0.5)\n",
    "nb_model.fit(X_train_res, y_train_res)\n",
    "\n",
    "# Predict on test data\n",
    "y_pred_nb = nb_model.predict(X_test_tfidf)\n",
    "\n",
    "# Evaluation\n",
    "print(\"Naive Bayes Classification Report:\\n\")\n",
    "print(classification_report(y_binary_test, y_pred_nb))\n",
    "\n",
    "# Accuracy\n",
    "print(\"Accuracy:\", round(accuracy_score(y_binary_test, y_pred_nb), 3))\n",
    "\n",
    "# Confusion matrix\n",
    "cm = confusion_matrix(y_binary_test, y_pred_nb)\n",
    "sns.heatmap(cm, annot=True, fmt='d', cmap='Blues')\n",
    "plt.title(\"Naive Bayes Confusion Matrix (Binary-class)\")\n",
    "plt.show()\n"
   ]
  },
  {
   "cell_type": "code",
   "execution_count": 49,
   "id": "cae57b85-70e1-45a6-877e-7ebf6f7825af",
   "metadata": {},
   "outputs": [
    {
     "name": "stdout",
     "output_type": "stream",
     "text": [
      "Random Forest Classification Report:\n",
      "\n",
      "              precision    recall  f1-score   support\n",
      "\n",
      "          -1       0.72      0.33      0.46       114\n",
      "           1       0.88      0.97      0.93       594\n",
      "\n",
      "    accuracy                           0.87       708\n",
      "   macro avg       0.80      0.65      0.69       708\n",
      "weighted avg       0.86      0.87      0.85       708\n",
      "\n",
      "Accuracy: 0.871\n"
     ]
    },
    {
     "data": {
      "image/png": "[encoded data removed]",
      "text/plain": [
       "<Figure size 640x480 with 2 Axes>"
      ]
     },
     "metadata": {},
     "output_type": "display_data"
    }
   ],
   "source": [
    "from sklearn.ensemble import RandomForestClassifier\n",
    "\n",
    "# Initialize the Random Forest\n",
    "rf_model = RandomForestClassifier(\n",
    "    n_estimators=200,       \n",
    "    max_depth=None,         \n",
    "    random_state=42,\n",
    "    n_jobs=-1,              \n",
    "    class_weight='balanced' \n",
    ")\n",
    "\n",
    "# Train the model\n",
    "rf_model.fit(X_train_tfidf, y_binary_train)\n",
    "\n",
    "# Predict on the test set\n",
    "y_pred_rf = rf_model.predict(X_test_tfidf)\n",
    "\n",
    "# Evaluate the model\n",
    "print(\"Random Forest Classification Report:\\n\")\n",
    "print(classification_report(y_binary_test, y_pred_rf))\n",
    "print(\"Accuracy:\", round(accuracy_score(y_binary_test, y_pred_rf), 3))\n",
    "\n",
    "# Confusion Matrix\n",
    "cm = confusion_matrix(y_binary_test, y_pred_rf)\n",
    "sns.heatmap(cm, annot=True, fmt='d', cmap='Greens',\n",
    "            xticklabels=['Predicted Negative', 'Predicted Positive'],\n",
    "            yticklabels=['Actual Negative', 'Actual Positive'])\n",
    "plt.title(\"Random Forest Confusion Matrix (Binary Sentiment)\")\n",
    "plt.show()\n"
   ]
  },
  {
   "cell_type": "code",
   "execution_count": null,
   "id": "42a5183c-bbc3-4ccc-a081-a56d6bca7eb4",
   "metadata": {},
   "outputs": [],
   "source": []
  }
 ],
 "metadata": {
  "kernelspec": {
   "display_name": "Python 3 (ipykernel)",
   "language": "python",
   "name": "python3"
  },
  "language_info": {
   "codemirror_mode": {
    "name": "ipython",
    "version": 3
   },
   "file_extension": ".py",
   "mimetype": "text/x-python",
   "name": "python",
   "nbconvert_exporter": "python",
   "pygments_lexer": "ipython3",
   "version": "3.11.7"
  }
 },
 "nbformat": 4,
 "nbformat_minor": 5
}
